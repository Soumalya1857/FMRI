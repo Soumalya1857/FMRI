{
 "cells": [
  {
   "cell_type": "code",
   "execution_count": 2,
   "metadata": {},
   "outputs": [],
   "source": [
    "import os\n",
    "import pandas as pd\n",
    "import numpy as np"
   ]
  },
  {
   "cell_type": "code",
   "execution_count": 3,
   "metadata": {},
   "outputs": [
    {
     "name": "stderr",
     "output_type": "stream",
     "text": [
      "/home/titir/.local/lib/python3.8/site-packages/nilearn/datasets/__init__.py:93: FutureWarning: Fetchers from the nilearn.datasets module will be updated in version 0.9 to return python strings instead of bytes and Pandas dataframes instead of Numpy arrays.\n",
      "  warn(\"Fetchers from the nilearn.datasets module will be \"\n"
     ]
    }
   ],
   "source": [
    "from nilearn import image, plotting"
   ]
  },
  {
   "cell_type": "code",
   "execution_count": 4,
   "metadata": {},
   "outputs": [],
   "source": [
    "#rootdir = \"/home/sks/Documents/FMRI_Titir_Soumalya/25_Nov/ABIDE2_DATA\""
   ]
  },
  {
   "cell_type": "code",
   "execution_count": 72,
   "metadata": {},
   "outputs": [],
   "source": [
    "rootdir = \"/media/titir/Linux/Dataset_ABIDEII\""
   ]
  },
  {
   "cell_type": "code",
   "execution_count": 73,
   "metadata": {},
   "outputs": [],
   "source": [
    "X_features = []"
   ]
  },
  {
   "cell_type": "code",
   "execution_count": 86,
   "metadata": {},
   "outputs": [],
   "source": [
    "sites = [\"BNI\"]\n",
    "fnames = []\n",
    "for site in sites:\n",
    "    fnames.append(\"ABIDEII-\" + site + \"_1.csv\")"
   ]
  },
  {
   "cell_type": "code",
   "execution_count": 87,
   "metadata": {},
   "outputs": [
    {
     "data": {
      "text/plain": [
       "['ABIDEII-BNI_1.csv']"
      ]
     },
     "execution_count": 87,
     "metadata": {},
     "output_type": "execute_result"
    }
   ],
   "source": [
    "fnames"
   ]
  },
  {
   "cell_type": "code",
   "execution_count": 131,
   "metadata": {},
   "outputs": [
    {
     "name": "stdout",
     "output_type": "stream",
     "text": [
      "58\n",
      "58\n"
     ]
    }
   ],
   "source": [
    "i = 0\n",
    "fmri_filenames  = []\n",
    "for site in sites:\n",
    "    for subdir, dir, files in os.walk(rootdir):\n",
    "        for file in sorted(files, key=str):\n",
    "            filename = os.path.join(subdir, file)\n",
    "            #print(filename)\n",
    "            \n",
    "            if (filename.find('rest.nii.gz') != -1 and filename.find(site) != -1):\n",
    "                i = i + 1\n",
    "                #smooth_img = image.smooth_img(filename, fwhm=3)\n",
    "                #print(smooth_img.shape)\n",
    "                #X_features.append(smooth_img)\n",
    "                fmri_filenames.append(filename)\n",
    "                ##print(filename)\n",
    "    print(len(fmri_filenames))\n",
    "            \n",
    "\n",
    "print(len(fmri_filenames))       \n",
    "        "
   ]
  },
  {
   "cell_type": "code",
   "execution_count": 145,
   "metadata": {},
   "outputs": [],
   "source": [
    "fmri_filenames.sort() "
   ]
  },
  {
   "cell_type": "markdown",
   "metadata": {},
   "source": [
    "#### Checkpoint 1\n",
    "X_features have been extracted"
   ]
  },
  {
   "cell_type": "code",
   "execution_count": 133,
   "metadata": {},
   "outputs": [],
   "source": [
    "import pandas as pd"
   ]
  },
  {
   "cell_type": "code",
   "execution_count": 134,
   "metadata": {},
   "outputs": [],
   "source": [
    "import csv"
   ]
  },
  {
   "cell_type": "code",
   "execution_count": 135,
   "metadata": {},
   "outputs": [
    {
     "data": {
      "text/plain": [
       "58"
      ]
     },
     "execution_count": 135,
     "metadata": {},
     "output_type": "execute_result"
    }
   ],
   "source": [
    "len(fmri_filenames)"
   ]
  },
  {
   "cell_type": "code",
   "execution_count": 148,
   "metadata": {},
   "outputs": [
    {
     "name": "stdout",
     "output_type": "stream",
     "text": [
      "58\n"
     ]
    }
   ],
   "source": [
    "import operator\n",
    "\n",
    "ytarget = []\n",
    "session_id = []\n",
    "\n",
    "for fname in fnames:\n",
    "    with open(fname, 'r', encoding='ISO-8859-1') as f:\n",
    "        mycsv = csv.reader(f)\n",
    "        next(mycsv)\n",
    "        mycsv = sorted(mycsv, key=operator.itemgetter(1))\n",
    "        for row in mycsv:\n",
    "            text = row[3] #dx_group\n",
    "            #print(text)\n",
    "            ytarget.append(text)\n",
    "            session_id.append(row[1])\n",
    "\n",
    "        print(len(ytarget))\n",
    "\n",
    "\n",
    "\n",
    "\n",
    "ytarget = [int(v) for v in ytarget]"
   ]
  },
  {
   "cell_type": "code",
   "execution_count": 149,
   "metadata": {},
   "outputs": [
    {
     "data": {
      "text/plain": [
       "58"
      ]
     },
     "execution_count": 149,
     "metadata": {},
     "output_type": "execute_result"
    }
   ],
   "source": [
    "len(ytarget)"
   ]
  },
  {
   "cell_type": "code",
   "execution_count": 150,
   "metadata": {},
   "outputs": [
    {
     "name": "stdout",
     "output_type": "stream",
     "text": [
      "/media/titir/Linux/Dataset_ABIDEII/ABIDEII-BNI_1/29056/session_1/rest_1/rest.nii.gz\n"
     ]
    }
   ],
   "source": [
    "print(fmri_filenames[50])"
   ]
  },
  {
   "cell_type": "code",
   "execution_count": 151,
   "metadata": {
    "scrolled": true
   },
   "outputs": [
    {
     "name": "stdout",
     "output_type": "stream",
     "text": [
      "29056\n"
     ]
    }
   ],
   "source": [
    "print(session_id[50])"
   ]
  },
  {
   "cell_type": "code",
   "execution_count": 152,
   "metadata": {},
   "outputs": [
    {
     "data": {
      "text/plain": [
       "58"
      ]
     },
     "execution_count": 152,
     "metadata": {},
     "output_type": "execute_result"
    }
   ],
   "source": [
    "len(fmri_filenames)"
   ]
  },
  {
   "cell_type": "code",
   "execution_count": 153,
   "metadata": {},
   "outputs": [
    {
     "data": {
      "text/plain": [
       "1"
      ]
     },
     "execution_count": 153,
     "metadata": {},
     "output_type": "execute_result"
    }
   ],
   "source": [
    "ytarget[0]"
   ]
  },
  {
   "cell_type": "code",
   "execution_count": 154,
   "metadata": {},
   "outputs": [],
   "source": [
    "ytarget = [int(v) for v in ytarget]\n",
    "ytarget_np = np.array(ytarget)"
   ]
  },
  {
   "cell_type": "code",
   "execution_count": 155,
   "metadata": {},
   "outputs": [],
   "source": [
    "from sklearn import svm"
   ]
  },
  {
   "cell_type": "code",
   "execution_count": 37,
   "metadata": {},
   "outputs": [
    {
     "data": {
      "text/plain": [
       "147"
      ]
     },
     "execution_count": 37,
     "metadata": {},
     "output_type": "execute_result"
    }
   ],
   "source": [
    "#shuffle\n",
    "import random\n",
    "\n",
    "c = list(zip(X_features_cm, ytarget_np))\n",
    "\n",
    "random.shuffle(c)\n",
    "\n",
    "X, y = zip(*c)\n",
    "len(y)"
   ]
  },
  {
   "cell_type": "code",
   "execution_count": 73,
   "metadata": {},
   "outputs": [
    {
     "data": {
      "text/plain": [
       "2"
      ]
     },
     "execution_count": 73,
     "metadata": {},
     "output_type": "execute_result"
    }
   ],
   "source": [
    "len(c[0])"
   ]
  },
  {
   "cell_type": "code",
   "execution_count": 34,
   "metadata": {},
   "outputs": [
    {
     "name": "stdout",
     "output_type": "stream",
     "text": [
      "2016\n"
     ]
    }
   ],
   "source": [
    "print(len(X[0]))"
   ]
  },
  {
   "cell_type": "code",
   "execution_count": 30,
   "metadata": {},
   "outputs": [
    {
     "data": {
      "text/plain": [
       "tuple"
      ]
     },
     "execution_count": 30,
     "metadata": {},
     "output_type": "execute_result"
    }
   ],
   "source": [
    "type(X)"
   ]
  },
  {
   "cell_type": "code",
   "execution_count": null,
   "metadata": {},
   "outputs": [],
   "source": [
    "index = 0\n",
    "for i in range(len(X)):\n",
    "    if len(X[i]) != 2016:\n",
    "        index = i\n",
    "        \n"
   ]
  },
  {
   "cell_type": "code",
   "execution_count": null,
   "metadata": {},
   "outputs": [],
   "source": [
    "new_arr = np.delete(X, np.where(len(X) != 2016))"
   ]
  },
  {
   "cell_type": "code",
   "execution_count": null,
   "metadata": {},
   "outputs": [
    {
     "data": {
      "text/plain": [
       "49"
      ]
     },
     "execution_count": 112,
     "metadata": {},
     "output_type": "execute_result"
    }
   ],
   "source": [
    "np.delete(y, index)\n",
    "len(y)"
   ]
  },
  {
   "cell_type": "code",
   "execution_count": 35,
   "metadata": {},
   "outputs": [],
   "source": [
    "newX = []\n",
    "newY = []\n",
    "for i in range(50):\n",
    "    if len(X[i]) == 2016:\n",
    "        newX.append(X[i])\n",
    "        newY.append(y[i])"
   ]
  },
  {
   "cell_type": "code",
   "execution_count": 37,
   "metadata": {},
   "outputs": [
    {
     "data": {
      "text/plain": [
       "48"
      ]
     },
     "execution_count": 37,
     "metadata": {},
     "output_type": "execute_result"
    }
   ],
   "source": [
    "len(newY)"
   ]
  },
  {
   "cell_type": "code",
   "execution_count": 45,
   "metadata": {},
   "outputs": [],
   "source": [
    "trainset_x = newX[:40]\n",
    "trainset_y = newY[:40]\n",
    "testset_x = newX[40:]\n",
    "testset_y = newY[40:]"
   ]
  },
  {
   "cell_type": "code",
   "execution_count": 46,
   "metadata": {},
   "outputs": [
    {
     "name": "stdout",
     "output_type": "stream",
     "text": [
      "[2, 2, 1, 1, 1, 1, 2, 2, 2, 2, 1, 1, 1, 2, 2, 2, 2, 1, 1, 1, 1, 2, 1, 1, 1, 1, 1, 1, 2, 1, 1, 2, 1, 2, 1, 2, 1, 2, 1, 2]\n"
     ]
    }
   ],
   "source": [
    "print(trainset_y)"
   ]
  },
  {
   "cell_type": "code",
   "execution_count": 47,
   "metadata": {},
   "outputs": [
    {
     "data": {
      "text/plain": [
       "SVC()"
      ]
     },
     "execution_count": 47,
     "metadata": {},
     "output_type": "execute_result"
    }
   ],
   "source": [
    "from sklearn import svm\n",
    "clsf = svm.SVC()\n",
    "clsf.fit(trainset_x, trainset_y)"
   ]
  },
  {
   "cell_type": "code",
   "execution_count": null,
   "metadata": {},
   "outputs": [],
   "source": []
  },
  {
   "cell_type": "code",
   "execution_count": 48,
   "metadata": {},
   "outputs": [],
   "source": [
    "count_correct = 0\n",
    "count_total  = 0\n",
    "for i in range(len(testset_y)):\n",
    "    ans = clsf.predict([testset_x[i]])\n",
    "    if ans == testset_y[i]:\n",
    "        count_correct = count_correct + 1\n",
    "    count_total = count_total + 1"
   ]
  },
  {
   "cell_type": "code",
   "execution_count": 49,
   "metadata": {},
   "outputs": [
    {
     "data": {
      "text/plain": [
       "0.625"
      ]
     },
     "execution_count": 49,
     "metadata": {},
     "output_type": "execute_result"
    }
   ],
   "source": [
    "count_correct/count_total\n"
   ]
  },
  {
   "cell_type": "code",
   "execution_count": 156,
   "metadata": {},
   "outputs": [],
   "source": [
    "from nilearn import datasets\n",
    "from nilearn.input_data import NiftiLabelsMasker\n",
    "from nilearn.connectome import ConnectivityMeasure\n",
    "from sklearn.decomposition import PCA"
   ]
  },
  {
   "cell_type": "code",
   "execution_count": 21,
   "metadata": {},
   "outputs": [
    {
     "name": "stdout",
     "output_type": "stream",
     "text": [
      "Requirement already satisfied: numba in /home/titir/.local/lib/python3.8/site-packages (0.54.1)\n",
      "Requirement already satisfied: numpy<1.21,>=1.17 in /usr/lib/python3/dist-packages (from numba) (1.17.4)\n",
      "Requirement already satisfied: llvmlite<0.38,>=0.37.0rc1 in /home/titir/.local/lib/python3.8/site-packages (from numba) (0.37.0)\n",
      "Requirement already satisfied: setuptools in /usr/lib/python3/dist-packages (from numba) (45.2.0)\n",
      "Note: you may need to restart the kernel to use updated packages.\n"
     ]
    }
   ],
   "source": [
    "pip install numba"
   ]
  },
  {
   "cell_type": "code",
   "execution_count": 22,
   "metadata": {},
   "outputs": [],
   "source": [
    "from numba import jit, cuda"
   ]
  },
  {
   "cell_type": "code",
   "execution_count": 157,
   "metadata": {},
   "outputs": [
    {
     "name": "stdout",
     "output_type": "stream",
     "text": [
      "\n",
      "Dataset created in /home/titir/nilearn_data/basc_multiscale_2015\n",
      "\n",
      "Downloading data from https://ndownloader.figshare.com/files/1861819 ...\n"
     ]
    },
    {
     "name": "stderr",
     "output_type": "stream",
     "text": [
      "Downloaded 163840 of 193985 bytes (84.5%,    0.2s remaining) ...done. (3 seconds, 0 min)\n",
      "Extracting data from /home/titir/nilearn_data/basc_multiscale_2015/53337d5c408465aa257d35f81c13413b/1861819..... done.\n"
     ]
    },
    {
     "name": "stdout",
     "output_type": "stream",
     "text": [
      "finished extracting 1 of 58\n",
      "finished extracting 2 of 58\n",
      "finished extracting 3 of 58\n",
      "finished extracting 4 of 58\n",
      "finished extracting 5 of 58\n",
      "finished extracting 6 of 58\n",
      "finished extracting 7 of 58\n",
      "finished extracting 8 of 58\n",
      "finished extracting 9 of 58\n",
      "finished extracting 10 of 58\n",
      "finished extracting 11 of 58\n",
      "finished extracting 12 of 58\n",
      "finished extracting 13 of 58\n",
      "finished extracting 14 of 58\n",
      "finished extracting 15 of 58\n",
      "finished extracting 16 of 58\n",
      "finished extracting 17 of 58\n",
      "finished extracting 18 of 58\n",
      "finished extracting 19 of 58\n",
      "finished extracting 20 of 58\n",
      "finished extracting 21 of 58\n",
      "finished extracting 22 of 58\n",
      "finished extracting 23 of 58\n",
      "finished extracting 24 of 58\n",
      "finished extracting 25 of 58\n",
      "finished extracting 26 of 58\n",
      "finished extracting 27 of 58\n",
      "finished extracting 28 of 58\n",
      "finished extracting 29 of 58\n",
      "finished extracting 30 of 58\n",
      "finished extracting 31 of 58\n",
      "finished extracting 32 of 58\n",
      "finished extracting 33 of 58\n",
      "finished extracting 34 of 58\n",
      "finished extracting 35 of 58\n",
      "finished extracting 36 of 58\n",
      "finished extracting 37 of 58\n",
      "finished extracting 38 of 58\n",
      "finished extracting 39 of 58\n",
      "finished extracting 40 of 58\n",
      "finished extracting 41 of 58\n",
      "finished extracting 42 of 58\n",
      "finished extracting 43 of 58\n",
      "finished extracting 44 of 58\n",
      "finished extracting 45 of 58\n",
      "finished extracting 46 of 58\n",
      "finished extracting 47 of 58\n",
      "finished extracting 48 of 58\n",
      "finished extracting 49 of 58\n",
      "finished extracting 50 of 58\n",
      "finished extracting 51 of 58\n",
      "finished extracting 52 of 58\n",
      "finished extracting 53 of 58\n",
      "finished extracting 54 of 58\n",
      "finished extracting 55 of 58\n",
      "finished extracting 56 of 58\n",
      "finished extracting 57 of 58\n",
      "finished extracting 58 of 58\n"
     ]
    }
   ],
   "source": [
    "def prepare_data():\n",
    "    multiscale = datasets.fetch_atlas_basc_multiscale_2015()\n",
    "    atlas_filename = multiscale.scale064\n",
    "\n",
    "    # initialize masker object\n",
    "    masker = NiftiLabelsMasker(labels_img=atlas_filename,\n",
    "                               standardize=True,\n",
    "                               memory='nilearn_cache',\n",
    "                               verbose=0)\n",
    "\n",
    "    # initialize correlation measure\n",
    "    correlation_measure = ConnectivityMeasure(kind='correlation', vectorize=True,\n",
    "                                             discard_diagonal=True)\n",
    "    \n",
    "    X_features_cm = []\n",
    "    \n",
    "    for i,sub in enumerate(fmri_filenames):\n",
    "            # extract the timeseries from the ROIs in the atlas\n",
    "            time_series = masker.fit_transform(sub)\n",
    "            # create a region x region correlation matrix\n",
    "            correlation_matrix = correlation_measure.fit_transform([time_series])[0]\n",
    "            # add to our container\n",
    "            X_features_cm.append(correlation_matrix)\n",
    "            # keep track of status\n",
    "            print('finished extracting %s of %s'%(i+1,len(fmri_filenames)))\n",
    "            \n",
    "    # Dimensionality reduction of features with PCA\n",
    "    \n",
    "    \n",
    "    return X_features_cm\n",
    "X_features_cm = prepare_data()\n",
    "    "
   ]
  },
  {
   "cell_type": "code",
   "execution_count": 23,
   "metadata": {},
   "outputs": [
    {
     "name": "stdout",
     "output_type": "stream",
     "text": [
      "['/home/titir/nilearn_data/ABIDE_pcp/cpac/nofilt_noglobal/Pitt_0050003_func_preproc.nii.gz']\n",
      "0\n",
      "/home/titir/nilearn_data/ABIDE_pcp/cpac/nofilt_noglobal/Pitt_0050003_func_preproc.nii.gz\n"
     ]
    },
    {
     "name": "stderr",
     "output_type": "stream",
     "text": [
      "/usr/lib/python3/dist-packages/numpy/lib/npyio.py:2358: VisibleDeprecationWarning: Reading unicode strings without specifying the encoding argument is deprecated. Set the encoding, use None for the system default.\n",
      "  output = genfromtxt(fname, **kwargs)\n"
     ]
    }
   ],
   "source": [
    "abide = datasets.fetch_abide_pcp(\n",
    "                                 pipeline = \"cpac\",\n",
    "                                 quality_checked = True, \n",
    "                                 n_subjects=1)\n",
    "# make list of filenames\n",
    "fmri_filenames_t = abide.func_preproc\n",
    "print(fmri_filenames_t)\n",
    "for i,sub in enumerate(fmri_filenames_t):\n",
    "    print(i)\n",
    "    print(sub)"
   ]
  },
  {
   "cell_type": "code",
   "execution_count": 159,
   "metadata": {},
   "outputs": [
    {
     "data": {
      "text/plain": [
       "['29016', '29017', '29018', '29019', '29020']"
      ]
     },
     "execution_count": 159,
     "metadata": {},
     "output_type": "execute_result"
    }
   ],
   "source": [
    "session_id[10:15]"
   ]
  },
  {
   "cell_type": "code",
   "execution_count": 160,
   "metadata": {},
   "outputs": [],
   "source": [
    "X_features_cm = list([list(element) for element in X_features_cm])"
   ]
  },
  {
   "cell_type": "code",
   "execution_count": 161,
   "metadata": {},
   "outputs": [
    {
     "name": "stdout",
     "output_type": "stream",
     "text": [
      "2016\n",
      "2016\n",
      "2016\n",
      "2016\n",
      "2016\n",
      "2016\n",
      "2016\n",
      "2016\n",
      "2016\n",
      "2016\n",
      "2016\n",
      "2016\n",
      "2016\n",
      "2016\n",
      "2016\n",
      "2016\n",
      "2016\n",
      "2016\n",
      "2016\n",
      "2016\n",
      "2016\n",
      "2016\n",
      "2016\n",
      "2016\n",
      "2016\n",
      "2016\n",
      "1770\n",
      "2016\n",
      "2016\n",
      "2016\n",
      "2016\n",
      "2016\n",
      "2016\n",
      "2016\n",
      "2016\n",
      "2016\n",
      "2016\n",
      "2016\n",
      "2016\n",
      "1953\n",
      "2016\n",
      "1830\n",
      "2016\n",
      "2016\n",
      "2016\n",
      "2016\n",
      "2016\n",
      "2016\n",
      "2016\n",
      "2016\n",
      "2016\n",
      "2016\n",
      "2016\n",
      "2016\n",
      "2016\n",
      "2016\n",
      "2016\n",
      "2016\n",
      "55\n"
     ]
    }
   ],
   "source": [
    "len(X_features_cm)\n",
    "i = 0\n",
    "for arr in X_features_cm:\n",
    "    print(len(arr))\n",
    "    if (len(arr) == 2016):\n",
    "        i = i + 1\n",
    "print(i)\n"
   ]
  },
  {
   "cell_type": "markdown",
   "metadata": {},
   "source": [
    "### Running SVM on ABIDE 2 dataset"
   ]
  },
  {
   "cell_type": "code",
   "execution_count": 165,
   "metadata": {},
   "outputs": [
    {
     "name": "stdout",
     "output_type": "stream",
     "text": [
      "55\n"
     ]
    }
   ],
   "source": [
    "import datetime\n",
    "import random\n",
    "from sklearn import svm\n",
    "from sklearn.model_selection import train_test_split\n",
    "random.seed(datetime.datetime.now())\n",
    "\n",
    "newX = []\n",
    "newY = []\n",
    "for i in range(len(X_features_cm)):\n",
    "    if len(X_features_cm[i]) == 2016:\n",
    "        newX.append(X_features_cm[i])\n",
    "        newY.append(ytarget_np[i])\n",
    "print(len(newX))\n",
    "\n",
    "    \n"
   ]
  },
  {
   "cell_type": "code",
   "execution_count": 353,
   "metadata": {},
   "outputs": [
    {
     "name": "stdout",
     "output_type": "stream",
     "text": [
      "Running PCA...\n"
     ]
    }
   ],
   "source": [
    "from sklearn.decomposition import PCA\n",
    "print(\"Running PCA...\")\n",
    "pca = PCA(0.99).fit(newX)\n",
    "newX_pca =  pca.transform(newX)"
   ]
  },
  {
   "cell_type": "code",
   "execution_count": 355,
   "metadata": {},
   "outputs": [
    {
     "data": {
      "text/plain": [
       "81"
      ]
     },
     "execution_count": 355,
     "metadata": {},
     "output_type": "execute_result"
    }
   ],
   "source": [
    "len(newX_pca[0])"
   ]
  },
  {
   "cell_type": "markdown",
   "metadata": {},
   "source": [
    "#### Here we are seperating the dataset into training and test sets"
   ]
  },
  {
   "cell_type": "code",
   "execution_count": 167,
   "metadata": {},
   "outputs": [],
   "source": [
    "trainset_X, testset_X, trainset_Y, testset_Y = train_test_split(newX, newY, test_size=0.3, random_state=103)"
   ]
  },
  {
   "cell_type": "code",
   "execution_count": 168,
   "metadata": {},
   "outputs": [
    {
     "name": "stdout",
     "output_type": "stream",
     "text": [
      "Accuracy 0.23529411764705882\n",
      "Precision 0.3333333333333333\n",
      "Recall 0.3\n"
     ]
    }
   ],
   "source": [
    "clsf_svc = svm.SVC(kernel=\"linear\", C=2)\n",
    "clsf_svc.fit(trainset_X, trainset_Y)\n",
    "\n",
    "y_pred = clsf_svc.predict(testset_X)\n",
    "\n",
    "from sklearn import metrics\n",
    "\n",
    "accuracy = metrics.accuracy_score(testset_Y, y_pred)\n",
    "precision = metrics.precision_score(testset_Y, y_pred)\n",
    "recall = metrics.recall_score(testset_Y, y_pred)\n",
    "\n",
    "print(\"Accuracy\", accuracy)\n",
    "print(\"Precision\", precision)\n",
    "print(\"Recall\", recall)"
   ]
  },
  {
   "cell_type": "code",
   "execution_count": 169,
   "metadata": {},
   "outputs": [
    {
     "name": "stdout",
     "output_type": "stream",
     "text": [
      "Accuracy 0.35294117647058826\n",
      "Precision 0.45454545454545453\n",
      "Recall 0.5\n",
      "[[5 5]\n",
      " [6 1]]\n"
     ]
    },
    {
     "name": "stderr",
     "output_type": "stream",
     "text": [
      "/home/titir/.local/lib/python3.8/site-packages/sklearn/utils/deprecation.py:87: FutureWarning: Function plot_confusion_matrix is deprecated; Function `plot_confusion_matrix` is deprecated in 1.0 and will be removed in 1.2. Use one of the class methods: ConfusionMatrixDisplay.from_predictions or ConfusionMatrixDisplay.from_estimator.\n",
      "  warnings.warn(msg, category=FutureWarning)\n"
     ]
    },
    {
     "data": {
      "text/plain": [
       "<sklearn.metrics._plot.confusion_matrix.ConfusionMatrixDisplay at 0x7fd751698430>"
      ]
     },
     "execution_count": 169,
     "metadata": {},
     "output_type": "execute_result"
    },
    {
     "data": {
      "image/png": "[encoded data removed]",
      "text/plain": [
       "<Figure size 432x288 with 2 Axes>"
      ]
     },
     "metadata": {
      "needs_background": "light"
     },
     "output_type": "display_data"
    }
   ],
   "source": [
    "clsf = svm.SVC(kernel=\"sigmoid\", C=2)   ## C=3 gave higher values of accuracy!\n",
    "clsf.fit(trainset_X, trainset_Y)\n",
    "\n",
    "y_pred = clsf.predict(testset_X)\n",
    "\n",
    "from sklearn import metrics\n",
    "\n",
    "accuracy = metrics.accuracy_score(testset_Y, y_pred)\n",
    "precision = metrics.precision_score(testset_Y, y_pred)\n",
    "recall = metrics.recall_score(testset_Y, y_pred)\n",
    "\n",
    "print(\"Accuracy\", accuracy)\n",
    "print(\"Precision\", precision)\n",
    "print(\"Recall\", recall)\n",
    "\n",
    "\n",
    "from sklearn.metrics import confusion_matrix, plot_confusion_matrix\n",
    "print(str(confusion_matrix(testset_Y, y_pred)))\n",
    "plot_confusion_matrix(clsf, testset_X, testset_Y)"
   ]
  },
  {
   "cell_type": "code",
   "execution_count": 170,
   "metadata": {},
   "outputs": [],
   "source": [
    "from sklearn.model_selection import GridSearchCV"
   ]
  },
  {
   "cell_type": "code",
   "execution_count": 171,
   "metadata": {},
   "outputs": [],
   "source": [
    "grid_params = {\n",
    "    'kernel': ['sigmoid', 'poly', 'linear', 'rbf'],\n",
    "    'C': [1, 2, 3, 4]\n",
    "    \n",
    "    \n",
    "    \n",
    "}\n",
    "\n",
    "gs_svc = GridSearchCV(svm.SVC(),\n",
    "        grid_params,\n",
    "        scoring='accuracy',\n",
    "        cv=5\n",
    "        )\n",
    "\n",
    "gs_results = gs_svc.fit(trainset_X, trainset_Y)"
   ]
  },
  {
   "cell_type": "code",
   "execution_count": 172,
   "metadata": {},
   "outputs": [
    {
     "data": {
      "text/plain": [
       "SVC(C=4, kernel='sigmoid')"
      ]
     },
     "execution_count": 172,
     "metadata": {},
     "output_type": "execute_result"
    }
   ],
   "source": [
    "gs_svc.best_estimator_"
   ]
  },
  {
   "cell_type": "code",
   "execution_count": 173,
   "metadata": {},
   "outputs": [
    {
     "data": {
      "text/plain": [
       "0.7321428571428571"
      ]
     },
     "execution_count": 173,
     "metadata": {},
     "output_type": "execute_result"
    }
   ],
   "source": [
    "gs_svc.best_score_"
   ]
  },
  {
   "cell_type": "code",
   "execution_count": 209,
   "metadata": {},
   "outputs": [
    {
     "name": "stdout",
     "output_type": "stream",
     "text": [
      "Accuracy 0.5294117647058824\n",
      "Precision 0.6666666666666666\n",
      "Recall 0.4\n"
     ]
    }
   ],
   "source": [
    "from sklearn.svm import LinearSVC\n",
    "clsf_ls = LinearSVC(dual=False, random_state=0, penalty=\"l1\", max_iter=10000)\n",
    "clsf_ls.fit(trainset_X, trainset_Y)\n",
    "\n",
    "y_pred = clsf_ls.predict(testset_X)\n",
    "\n",
    "from sklearn import metrics\n",
    "\n",
    "accuracy = metrics.accuracy_score(testset_Y, y_pred)\n",
    "precision = metrics.precision_score(testset_Y, y_pred)\n",
    "recall = metrics.recall_score(testset_Y, y_pred)\n",
    "\n",
    "print(\"Accuracy\", accuracy)\n",
    "print(\"Precision\", precision)\n",
    "print(\"Recall\", recall)"
   ]
  },
  {
   "cell_type": "markdown",
   "metadata": {},
   "source": [
    "### Running Logistic Regression on ABIDE 2 dataset"
   ]
  },
  {
   "cell_type": "code",
   "execution_count": 211,
   "metadata": {},
   "outputs": [
    {
     "name": "stdout",
     "output_type": "stream",
     "text": [
      "Accuracy 0.29411764705882354\n",
      "Precision 0.4\n",
      "Recall 0.4\n",
      "[[4 6]\n",
      " [6 1]]\n"
     ]
    },
    {
     "name": "stderr",
     "output_type": "stream",
     "text": [
      "/home/titir/.local/lib/python3.8/site-packages/sklearn/utils/deprecation.py:87: FutureWarning: Function plot_confusion_matrix is deprecated; Function `plot_confusion_matrix` is deprecated in 1.0 and will be removed in 1.2. Use one of the class methods: ConfusionMatrixDisplay.from_predictions or ConfusionMatrixDisplay.from_estimator.\n",
      "  warnings.warn(msg, category=FutureWarning)\n"
     ]
    },
    {
     "data": {
      "text/plain": [
       "<sklearn.metrics._plot.confusion_matrix.ConfusionMatrixDisplay at 0x7fd7083e2250>"
      ]
     },
     "execution_count": 211,
     "metadata": {},
     "output_type": "execute_result"
    },
    {
     "data": {
      "image/png": "[encoded data removed]",
      "text/plain": [
       "<Figure size 432x288 with 2 Axes>"
      ]
     },
     "metadata": {
      "needs_background": "light"
     },
     "output_type": "display_data"
    }
   ],
   "source": [
    "from sklearn.linear_model import LogisticRegression\n",
    "\n",
    "clsf_lg = LogisticRegression(penalty='l2')\n",
    "clsf_lg.fit(trainset_X, trainset_Y)\n",
    "\n",
    "y_pred = clsf_lg.predict(testset_X)\n",
    "\n",
    "from sklearn import metrics\n",
    "\n",
    "accuracy = metrics.accuracy_score(testset_Y, y_pred)\n",
    "precision = metrics.precision_score(testset_Y, y_pred)\n",
    "recall = metrics.recall_score(testset_Y, y_pred)\n",
    "\n",
    "print(\"Accuracy\", accuracy)\n",
    "print(\"Precision\", precision)\n",
    "print(\"Recall\", recall)\n",
    "\n",
    "\n",
    "from sklearn.metrics import confusion_matrix, plot_confusion_matrix\n",
    "print(str(confusion_matrix(testset_Y, y_pred)))\n",
    "plot_confusion_matrix(clsf, testset_X, testset_Y)"
   ]
  },
  {
   "cell_type": "code",
   "execution_count": 176,
   "metadata": {},
   "outputs": [],
   "source": [
    "import matplotlib.pyplot as plt\n",
    "import seaborn as sn\n"
   ]
  },
  {
   "cell_type": "markdown",
   "metadata": {},
   "source": [
    "### Running a Random Forest Classifier"
   ]
  },
  {
   "cell_type": "code",
   "execution_count": 177,
   "metadata": {},
   "outputs": [
    {
     "name": "stdout",
     "output_type": "stream",
     "text": [
      "Accuracy 0.35294117647058826\n",
      "Precision 0.4444444444444444\n",
      "Recall 0.4\n"
     ]
    }
   ],
   "source": [
    "from sklearn.ensemble import RandomForestClassifier \n",
    "# TODO\n",
    "clsf_rf = RandomForestClassifier()\n",
    "clsf_rf.fit(trainset_X, trainset_Y)\n",
    "\n",
    "y_pred = clsf_rf.predict(testset_X)\n",
    "\n",
    "from sklearn import metrics\n",
    "\n",
    "accuracy = metrics.accuracy_score(testset_Y, y_pred)\n",
    "precision = metrics.precision_score(testset_Y, y_pred)\n",
    "recall = metrics.recall_score(testset_Y, y_pred)\n",
    "\n",
    "print(\"Accuracy\", accuracy)\n",
    "print(\"Precision\", precision)\n",
    "print(\"Recall\", recall)"
   ]
  },
  {
   "cell_type": "code",
   "execution_count": 178,
   "metadata": {},
   "outputs": [
    {
     "data": {
      "text/plain": [
       "RandomForestClassifier(max_depth=110, n_estimators=110)"
      ]
     },
     "execution_count": 178,
     "metadata": {},
     "output_type": "execute_result"
    }
   ],
   "source": [
    "grid_params_rf = {\n",
    "    'bootstrap': [True],\n",
    "    'max_depth': [80, 90, 100, 110],\n",
    "    'n_estimators': [80, 90, 100, 110]\n",
    "    \n",
    "}\n",
    "\n",
    "gs_rf = GridSearchCV(RandomForestClassifier(),\n",
    "                        grid_params_rf,\n",
    "                        scoring='accuracy')\n",
    "\n",
    "gs_results_rf = gs_rf.fit(trainset_X, trainset_Y)\n",
    "gs_rf.best_estimator_"
   ]
  },
  {
   "cell_type": "code",
   "execution_count": 179,
   "metadata": {},
   "outputs": [
    {
     "data": {
      "text/plain": [
       "0.6571428571428571"
      ]
     },
     "execution_count": 179,
     "metadata": {},
     "output_type": "execute_result"
    }
   ],
   "source": [
    "gs_rf.best_score_"
   ]
  },
  {
   "cell_type": "code",
   "execution_count": 208,
   "metadata": {},
   "outputs": [
    {
     "name": "stdout",
     "output_type": "stream",
     "text": [
      "Accuracy 0.35294117647058826\n",
      "Precision 0.42857142857142855\n",
      "Recall 0.3\n"
     ]
    }
   ],
   "source": [
    "from sklearn.tree import DecisionTreeClassifier \n",
    "\n",
    "clsf_dt = DecisionTreeClassifier() \n",
    "clsf_dt.fit(trainset_X, trainset_Y)\n",
    "\n",
    "y_pred = clsf_dt.predict(testset_X)\n",
    "\n",
    "from sklearn import metrics\n",
    "\n",
    "accuracy = metrics.accuracy_score(testset_Y, y_pred)\n",
    "precision = metrics.precision_score(testset_Y, y_pred)\n",
    "recall = metrics.recall_score(testset_Y, y_pred)\n",
    "\n",
    "print(\"Accuracy\", accuracy)\n",
    "print(\"Precision\", precision)\n",
    "print(\"Recall\", recall)"
   ]
  },
  {
   "cell_type": "markdown",
   "metadata": {},
   "source": [
    "### Naive Bayes"
   ]
  },
  {
   "cell_type": "code",
   "execution_count": 207,
   "metadata": {},
   "outputs": [
    {
     "name": "stdout",
     "output_type": "stream",
     "text": [
      "Accuracy 0.47058823529411764\n",
      "Precision 0.5714285714285714\n",
      "Recall 0.4\n"
     ]
    },
    {
     "name": "stderr",
     "output_type": "stream",
     "text": [
      "/home/titir/.local/lib/python3.8/site-packages/sklearn/utils/deprecation.py:87: FutureWarning: Function plot_confusion_matrix is deprecated; Function `plot_confusion_matrix` is deprecated in 1.0 and will be removed in 1.2. Use one of the class methods: ConfusionMatrixDisplay.from_predictions or ConfusionMatrixDisplay.from_estimator.\n",
      "  warnings.warn(msg, category=FutureWarning)\n"
     ]
    },
    {
     "data": {
      "text/plain": [
       "<sklearn.metrics._plot.confusion_matrix.ConfusionMatrixDisplay at 0x7fd708261c70>"
      ]
     },
     "execution_count": 207,
     "metadata": {},
     "output_type": "execute_result"
    },
    {
     "data": {
      "image/png": "[encoded data removed]",
      "text/plain": [
       "<Figure size 432x288 with 2 Axes>"
      ]
     },
     "metadata": {
      "needs_background": "light"
     },
     "output_type": "display_data"
    }
   ],
   "source": [
    "from sklearn.naive_bayes import GaussianNB, MultinomialNB, ComplementNB, BernoulliNB, CategoricalNB\n",
    "clsf_nb = GaussianNB() ## gives best accuracy of all the different naive bayes approaches\n",
    "clsf_nb.fit(trainset_X, trainset_Y)\n",
    "\n",
    "y_pred = clsf_nb.predict(testset_X)\n",
    "\n",
    "from sklearn import metrics\n",
    "\n",
    "accuracy = metrics.accuracy_score(testset_Y, y_pred)\n",
    "precision = metrics.precision_score(testset_Y, y_pred)\n",
    "recall = metrics.recall_score(testset_Y, y_pred)\n",
    "\n",
    "print(\"Accuracy\", accuracy)\n",
    "print(\"Precision\", precision)\n",
    "print(\"Recall\", recall)\n",
    "\n",
    "plot_confusion_matrix(clsf, testset_X, testset_Y)"
   ]
  },
  {
   "cell_type": "markdown",
   "metadata": {},
   "source": [
    "### KNN"
   ]
  },
  {
   "cell_type": "code",
   "execution_count": 182,
   "metadata": {},
   "outputs": [
    {
     "name": "stdout",
     "output_type": "stream",
     "text": [
      "Accuracy 0.35294117647058826\n",
      "Precision 0.3333333333333333\n",
      "Recall 0.1\n"
     ]
    }
   ],
   "source": [
    "from sklearn.neighbors import KNeighborsClassifier\n",
    "from math import sqrt\n",
    "\n",
    "k = int(sqrt(len(trainset_X)))\n",
    "clsf = KNeighborsClassifier(n_neighbors=14) \n",
    "clsf.fit(trainset_X, trainset_Y)\n",
    "\n",
    "y_pred = clsf.predict(testset_X)\n",
    "\n",
    "from sklearn import metrics\n",
    "\n",
    "accuracy = metrics.accuracy_score(testset_Y, y_pred)\n",
    "precision = metrics.precision_score(testset_Y, y_pred)\n",
    "recall = metrics.recall_score(testset_Y, y_pred)\n",
    "\n",
    "print(\"Accuracy\", accuracy)\n",
    "print(\"Precision\", precision)\n",
    "print(\"Recall\", recall)"
   ]
  },
  {
   "cell_type": "code",
   "execution_count": 183,
   "metadata": {},
   "outputs": [
    {
     "name": "stdout",
     "output_type": "stream",
     "text": [
      "Accuracy 0.23529411764705882\n",
      "Precision 0.3333333333333333\n",
      "Recall 0.3\n",
      "[[3 7]\n",
      " [6 1]]\n"
     ]
    },
    {
     "name": "stderr",
     "output_type": "stream",
     "text": [
      "/home/titir/.local/lib/python3.8/site-packages/sklearn/utils/deprecation.py:87: FutureWarning: Function plot_confusion_matrix is deprecated; Function `plot_confusion_matrix` is deprecated in 1.0 and will be removed in 1.2. Use one of the class methods: ConfusionMatrixDisplay.from_predictions or ConfusionMatrixDisplay.from_estimator.\n",
      "  warnings.warn(msg, category=FutureWarning)\n"
     ]
    },
    {
     "data": {
      "text/plain": [
       "<sklearn.metrics._plot.confusion_matrix.ConfusionMatrixDisplay at 0x7fd750d23eb0>"
      ]
     },
     "execution_count": 183,
     "metadata": {},
     "output_type": "execute_result"
    },
    {
     "data": {
      "image/png": "[encoded data removed]",
      "text/plain": [
       "<Figure size 432x288 with 2 Axes>"
      ]
     },
     "metadata": {
      "needs_background": "light"
     },
     "output_type": "display_data"
    }
   ],
   "source": [
    "from sklearn.linear_model import LogisticRegression\n",
    "\n",
    "clsf = LogisticRegression(penalty='none')\n",
    "clsf.fit(trainset_X, trainset_Y)\n",
    "\n",
    "y_pred = clsf.predict(testset_X)\n",
    "\n",
    "from sklearn import metrics\n",
    "\n",
    "accuracy = metrics.accuracy_score(testset_Y, y_pred)\n",
    "precision = metrics.precision_score(testset_Y, y_pred)\n",
    "recall = metrics.recall_score(testset_Y, y_pred)\n",
    "\n",
    "print(\"Accuracy\", accuracy)\n",
    "print(\"Precision\", precision)\n",
    "print(\"Recall\", recall)\n",
    "\n",
    "\n",
    "from sklearn.metrics import confusion_matrix, plot_confusion_matrix\n",
    "print(str(confusion_matrix(testset_Y, y_pred)))\n",
    "plot_confusion_matrix(clsf, testset_X, testset_Y)"
   ]
  },
  {
   "cell_type": "markdown",
   "metadata": {},
   "source": [
    "### Trying a grid search with KNN "
   ]
  },
  {
   "cell_type": "code",
   "execution_count": 184,
   "metadata": {},
   "outputs": [],
   "source": [
    "from sklearn.model_selection import GridSearchCV\n",
    "\n",
    "k = [i for i in range(1, 15, 2)]\n",
    "grid_params_knn = {\n",
    "    'n_neighbors': k,\n",
    "    'weights': ['uniform', 'distance'] ,\n",
    "    'metric': ['minkowski', 'manhattan'] \n",
    "}\n",
    "\n",
    "gs_knn = GridSearchCV(KNeighborsClassifier(),\n",
    "        grid_params_knn,\n",
    "        scoring='accuracy',\n",
    "        )\n",
    "\n",
    "gs_results_knn = gs_knn.fit(trainset_X, trainset_Y)"
   ]
  },
  {
   "cell_type": "code",
   "execution_count": 185,
   "metadata": {},
   "outputs": [
    {
     "data": {
      "text/plain": [
       "0.6285714285714284"
      ]
     },
     "execution_count": 185,
     "metadata": {},
     "output_type": "execute_result"
    }
   ],
   "source": [
    "gs_knn.best_score_\n"
   ]
  },
  {
   "cell_type": "code",
   "execution_count": 186,
   "metadata": {},
   "outputs": [
    {
     "data": {
      "text/plain": [
       "KNeighborsClassifier(metric='manhattan')"
      ]
     },
     "execution_count": 186,
     "metadata": {},
     "output_type": "execute_result"
    }
   ],
   "source": [
    "gs_knn.best_estimator_"
   ]
  },
  {
   "cell_type": "code",
   "execution_count": 187,
   "metadata": {},
   "outputs": [
    {
     "data": {
      "text/plain": [
       "{'metric': 'manhattan', 'n_neighbors': 5, 'weights': 'uniform'}"
      ]
     },
     "execution_count": 187,
     "metadata": {},
     "output_type": "execute_result"
    }
   ],
   "source": [
    "gs_knn.best_params_"
   ]
  },
  {
   "cell_type": "markdown",
   "metadata": {},
   "source": [
    "### MLP Classifier"
   ]
  },
  {
   "cell_type": "code",
   "execution_count": 188,
   "metadata": {},
   "outputs": [
    {
     "name": "stdout",
     "output_type": "stream",
     "text": [
      "Accuracy 0.23529411764705882\n",
      "Precision 0.3333333333333333\n",
      "Recall 0.3\n"
     ]
    }
   ],
   "source": [
    "from sklearn.neural_network import MLPClassifier, MLPRegressor, BernoulliRBM\n",
    "\n",
    "clsf_mlp = MLPClassifier(learning_rate='adaptive', max_iter=10000)\n",
    "clsf_mlp.fit(trainset_X, trainset_Y)\n",
    "\n",
    "y_pred = clsf_mlp.predict(testset_X)\n",
    "\n",
    "from sklearn import metrics\n",
    "\n",
    "accuracy = metrics.accuracy_score(testset_Y, y_pred)\n",
    "precision = metrics.precision_score(testset_Y, y_pred)\n",
    "recall = metrics.recall_score(testset_Y, y_pred)\n",
    "\n",
    "print(\"Accuracy\", accuracy)\n",
    "print(\"Precision\", precision)\n",
    "print(\"Recall\", recall)"
   ]
  },
  {
   "cell_type": "code",
   "execution_count": 189,
   "metadata": {},
   "outputs": [],
   "source": [
    "grid_params_mlp = {\n",
    "    'activation': ['tanh', 'relu', 'logistic'],\n",
    "    'solver': ['sgd', 'adam', 'lbfgs'], \n",
    "    'max_iter': [500, 1000, 10000],\n",
    "    'early_stopping': [True]\n",
    "    \n",
    "    \n",
    "    \n",
    "}\n",
    "\n",
    "gs_mlp = GridSearchCV(MLPClassifier(),\n",
    "        grid_params_mlp,\n",
    "        scoring='accuracy',\n",
    "        )\n",
    "\n",
    "gs_results_mlp = gs_mlp.fit(trainset_X, trainset_Y)"
   ]
  },
  {
   "cell_type": "code",
   "execution_count": 190,
   "metadata": {},
   "outputs": [
    {
     "data": {
      "text/plain": [
       "MLPClassifier(activation='tanh', early_stopping=True, max_iter=10000)"
      ]
     },
     "execution_count": 190,
     "metadata": {},
     "output_type": "execute_result"
    }
   ],
   "source": [
    "gs_mlp.best_estimator_"
   ]
  },
  {
   "cell_type": "code",
   "execution_count": 191,
   "metadata": {},
   "outputs": [
    {
     "data": {
      "text/plain": [
       "0.7071428571428571"
      ]
     },
     "execution_count": 191,
     "metadata": {},
     "output_type": "execute_result"
    }
   ],
   "source": [
    "gs_mlp.best_score_"
   ]
  },
  {
   "cell_type": "markdown",
   "metadata": {},
   "source": [
    "### Classifiers we have right now \n",
    "* MLP\n",
    "* Random Forests\n",
    "* Naive Bayes\n",
    "* KNN\n",
    "* SVC\n",
    "* Linear SVC\n"
   ]
  },
  {
   "cell_type": "code",
   "execution_count": 192,
   "metadata": {},
   "outputs": [],
   "source": [
    "classifiers = [\n",
    "gs_svc.best_estimator_,\n",
    "gs_knn.best_estimator_,\n",
    "gs_mlp.best_estimator_]\n",
    "\n"
   ]
  },
  {
   "cell_type": "code",
   "execution_count": 193,
   "metadata": {},
   "outputs": [],
   "source": [
    "\n",
    "def find_mode_classifier_result(newX):\n",
    "    X_features_nn = []\n",
    "    X_mode = []\n",
    "    \n",
    "    for x in newX:\n",
    "        if (len(x) == 2016):\n",
    "            nv = []\n",
    "            for clsf in classifiers:\n",
    "                nv.append(clsf.predict([x]))\n",
    "\n",
    "            X_features_nn.append(nv)\n",
    "            #print(type(nv))\n",
    "            nv_list = list(nv)\n",
    "            val = max(nv_list, key=nv_list.count)\n",
    "            X_mode.append(val)\n",
    "    return (X_features_nn, X_mode)"
   ]
  },
  {
   "cell_type": "code",
   "execution_count": 196,
   "metadata": {},
   "outputs": [],
   "source": [
    "(X_features_nn, y_pred_mode) = find_mode_classifier_result(trainset_X)"
   ]
  },
  {
   "cell_type": "markdown",
   "metadata": {},
   "source": [
    "#### Accuracy from calculating the mode of the result of all the classifiers"
   ]
  },
  {
   "cell_type": "code",
   "execution_count": 197,
   "metadata": {},
   "outputs": [
    {
     "data": {
      "text/plain": [
       "0.8421052631578947"
      ]
     },
     "execution_count": 197,
     "metadata": {},
     "output_type": "execute_result"
    }
   ],
   "source": [
    "metrics.accuracy_score(trainset_Y, y_pred_mode)"
   ]
  },
  {
   "cell_type": "code",
   "execution_count": 198,
   "metadata": {},
   "outputs": [
    {
     "data": {
      "text/plain": [
       "3"
      ]
     },
     "execution_count": 198,
     "metadata": {},
     "output_type": "execute_result"
    }
   ],
   "source": [
    "len(X_features_nn[0])"
   ]
  },
  {
   "cell_type": "markdown",
   "metadata": {},
   "source": [
    "### Addding a Neural Network"
   ]
  },
  {
   "cell_type": "code",
   "execution_count": 199,
   "metadata": {},
   "outputs": [],
   "source": [
    "from tensorflow import keras\n",
    "from tensorflow.keras.models import Sequential\n",
    "from tensorflow.keras.layers import Dense, Flatten, Activation, LeakyReLU\n",
    "import matplotlib.pyplot as plt\n",
    "%matplotlib inline"
   ]
  },
  {
   "cell_type": "code",
   "execution_count": 200,
   "metadata": {},
   "outputs": [],
   "source": [
    "def build_model():\n",
    "    model = Sequential()\n",
    "    model.add(Dense(32, input_dim=3, activation='tanh'))\n",
    "    model.add(Dense(16, activation='relu'))\n",
    "    model.add(Dense(16, activation='relu'))\n",
    "    model.add(Dense(1, activation='sigmoid'))\n",
    "    model.compile(loss='binary_crossentropy', optimizer='adam', metrics=[\"accuracy\"])\n",
    "    \n",
    "    return model\n",
    "    "
   ]
  },
  {
   "cell_type": "code",
   "execution_count": 201,
   "metadata": {},
   "outputs": [],
   "source": [
    "model = build_model()\n",
    "epochs = 100"
   ]
  },
  {
   "cell_type": "code",
   "execution_count": 202,
   "metadata": {},
   "outputs": [],
   "source": [
    "from sklearn.preprocessing import normalize\n",
    "X_train = np.array(X_features_nn)\n",
    "Y_train = np.array(trainset_Y)"
   ]
  },
  {
   "cell_type": "code",
   "execution_count": 203,
   "metadata": {},
   "outputs": [
    {
     "name": "stdout",
     "output_type": "stream",
     "text": [
      "Epoch 1/100\n",
      "2/2 [==============================] - 1s 5ms/step - loss: 0.6833 - accuracy: 0.3421\n",
      "Epoch 2/100\n",
      "2/2 [==============================] - 0s 7ms/step - loss: 0.5820 - accuracy: 0.3421\n",
      "Epoch 3/100\n",
      "2/2 [==============================] - 0s 4ms/step - loss: 0.4896 - accuracy: 0.5000\n",
      "Epoch 4/100\n",
      "2/2 [==============================] - 0s 4ms/step - loss: 0.4013 - accuracy: 0.5000\n",
      "Epoch 5/100\n",
      "2/2 [==============================] - 0s 4ms/step - loss: 0.3129 - accuracy: 0.5000\n",
      "Epoch 6/100\n",
      "2/2 [==============================] - 0s 2ms/step - loss: 0.2277 - accuracy: 0.5000\n",
      "Epoch 7/100\n",
      "2/2 [==============================] - 0s 3ms/step - loss: 0.1501 - accuracy: 0.5000\n",
      "Epoch 8/100\n",
      "2/2 [==============================] - 0s 3ms/step - loss: 0.0694 - accuracy: 0.5000\n",
      "Epoch 9/100\n",
      "2/2 [==============================] - 0s 3ms/step - loss: -0.0054 - accuracy: 0.5000\n",
      "Epoch 10/100\n",
      "2/2 [==============================] - 0s 3ms/step - loss: -0.0780 - accuracy: 0.5000\n",
      "Epoch 11/100\n",
      "2/2 [==============================] - 0s 3ms/step - loss: -0.1448 - accuracy: 0.5000\n",
      "Epoch 12/100\n",
      "2/2 [==============================] - 0s 3ms/step - loss: -0.2129 - accuracy: 0.5000\n",
      "Epoch 13/100\n",
      "2/2 [==============================] - 0s 2ms/step - loss: -0.2887 - accuracy: 0.5000\n",
      "Epoch 14/100\n",
      "2/2 [==============================] - 0s 3ms/step - loss: -0.3615 - accuracy: 0.5000\n",
      "Epoch 15/100\n",
      "2/2 [==============================] - 0s 3ms/step - loss: -0.4385 - accuracy: 0.5000\n",
      "Epoch 16/100\n",
      "2/2 [==============================] - 0s 3ms/step - loss: -0.5157 - accuracy: 0.5000\n",
      "Epoch 17/100\n",
      "2/2 [==============================] - 0s 7ms/step - loss: -0.5972 - accuracy: 0.5000\n",
      "Epoch 18/100\n",
      "2/2 [==============================] - 0s 2ms/step - loss: -0.6812 - accuracy: 0.5000\n",
      "Epoch 19/100\n",
      "2/2 [==============================] - 0s 2ms/step - loss: -0.7666 - accuracy: 0.5000\n",
      "Epoch 20/100\n",
      "2/2 [==============================] - 0s 3ms/step - loss: -0.8589 - accuracy: 0.5000\n",
      "Epoch 21/100\n",
      "2/2 [==============================] - 0s 8ms/step - loss: -0.9446 - accuracy: 0.5000\n",
      "Epoch 22/100\n",
      "2/2 [==============================] - 0s 4ms/step - loss: -1.0355 - accuracy: 0.5000\n",
      "Epoch 23/100\n",
      "2/2 [==============================] - 0s 2ms/step - loss: -1.1291 - accuracy: 0.5000\n",
      "Epoch 24/100\n",
      "2/2 [==============================] - 0s 2ms/step - loss: -1.2232 - accuracy: 0.5000\n",
      "Epoch 25/100\n",
      "2/2 [==============================] - 0s 2ms/step - loss: -1.3149 - accuracy: 0.5000\n",
      "Epoch 26/100\n",
      "2/2 [==============================] - 0s 3ms/step - loss: -1.4201 - accuracy: 0.5000\n",
      "Epoch 27/100\n",
      "2/2 [==============================] - 0s 2ms/step - loss: -1.5076 - accuracy: 0.5000\n",
      "Epoch 28/100\n",
      "2/2 [==============================] - 0s 2ms/step - loss: -1.6100 - accuracy: 0.5000\n",
      "Epoch 29/100\n",
      "2/2 [==============================] - 0s 2ms/step - loss: -1.7144 - accuracy: 0.5000\n",
      "Epoch 30/100\n",
      "2/2 [==============================] - 0s 3ms/step - loss: -1.8195 - accuracy: 0.5000\n",
      "Epoch 31/100\n",
      "2/2 [==============================] - 0s 3ms/step - loss: -1.9371 - accuracy: 0.5000\n",
      "Epoch 32/100\n",
      "2/2 [==============================] - 0s 2ms/step - loss: -2.0508 - accuracy: 0.5000\n",
      "Epoch 33/100\n",
      "2/2 [==============================] - 0s 3ms/step - loss: -2.1718 - accuracy: 0.5000\n",
      "Epoch 34/100\n",
      "2/2 [==============================] - 0s 3ms/step - loss: -2.2963 - accuracy: 0.5000\n",
      "Epoch 35/100\n",
      "2/2 [==============================] - 0s 2ms/step - loss: -2.4366 - accuracy: 0.5000\n",
      "Epoch 36/100\n",
      "2/2 [==============================] - 0s 3ms/step - loss: -2.5646 - accuracy: 0.5000\n",
      "Epoch 37/100\n",
      "2/2 [==============================] - 0s 2ms/step - loss: -2.7055 - accuracy: 0.5000\n",
      "Epoch 38/100\n",
      "2/2 [==============================] - 0s 2ms/step - loss: -2.8456 - accuracy: 0.5000\n",
      "Epoch 39/100\n",
      "2/2 [==============================] - 0s 3ms/step - loss: -2.9982 - accuracy: 0.5000\n",
      "Epoch 40/100\n",
      "2/2 [==============================] - 0s 3ms/step - loss: -3.1549 - accuracy: 0.5000\n",
      "Epoch 41/100\n",
      "2/2 [==============================] - 0s 3ms/step - loss: -3.3089 - accuracy: 0.5000\n",
      "Epoch 42/100\n",
      "2/2 [==============================] - 0s 3ms/step - loss: -3.4735 - accuracy: 0.5000\n",
      "Epoch 43/100\n",
      "2/2 [==============================] - 0s 3ms/step - loss: -3.6472 - accuracy: 0.5000\n",
      "Epoch 44/100\n",
      "2/2 [==============================] - 0s 3ms/step - loss: -3.8282 - accuracy: 0.5000\n",
      "Epoch 45/100\n",
      "2/2 [==============================] - 0s 2ms/step - loss: -4.0175 - accuracy: 0.5000\n",
      "Epoch 46/100\n",
      "2/2 [==============================] - 0s 2ms/step - loss: -4.2062 - accuracy: 0.5000\n",
      "Epoch 47/100\n",
      "2/2 [==============================] - 0s 2ms/step - loss: -4.4144 - accuracy: 0.5000\n",
      "Epoch 48/100\n",
      "2/2 [==============================] - 0s 3ms/step - loss: -4.6357 - accuracy: 0.5000\n",
      "Epoch 49/100\n",
      "2/2 [==============================] - 0s 2ms/step - loss: -4.8606 - accuracy: 0.5000\n",
      "Epoch 50/100\n",
      "2/2 [==============================] - 0s 3ms/step - loss: -5.1006 - accuracy: 0.5000\n",
      "Epoch 51/100\n",
      "2/2 [==============================] - 0s 3ms/step - loss: -5.3315 - accuracy: 0.5000\n",
      "Epoch 52/100\n",
      "2/2 [==============================] - 0s 2ms/step - loss: -5.5845 - accuracy: 0.5000\n",
      "Epoch 53/100\n",
      "2/2 [==============================] - 0s 3ms/step - loss: -5.8554 - accuracy: 0.5000\n",
      "Epoch 54/100\n",
      "2/2 [==============================] - 0s 3ms/step - loss: -6.1340 - accuracy: 0.5000\n",
      "Epoch 55/100\n",
      "2/2 [==============================] - 0s 3ms/step - loss: -6.4315 - accuracy: 0.5000\n",
      "Epoch 56/100\n",
      "2/2 [==============================] - 0s 3ms/step - loss: -6.7474 - accuracy: 0.5000\n",
      "Epoch 57/100\n",
      "2/2 [==============================] - 0s 3ms/step - loss: -7.0749 - accuracy: 0.5000\n",
      "Epoch 58/100\n",
      "2/2 [==============================] - 0s 2ms/step - loss: -7.4560 - accuracy: 0.5000\n",
      "Epoch 59/100\n",
      "2/2 [==============================] - 0s 3ms/step - loss: -7.8067 - accuracy: 0.5000\n",
      "Epoch 60/100\n",
      "2/2 [==============================] - 0s 3ms/step - loss: -8.1965 - accuracy: 0.5000\n",
      "Epoch 61/100\n",
      "2/2 [==============================] - 0s 3ms/step - loss: -8.5981 - accuracy: 0.5000\n",
      "Epoch 62/100\n",
      "2/2 [==============================] - 0s 2ms/step - loss: -9.0004 - accuracy: 0.5000\n",
      "Epoch 63/100\n",
      "2/2 [==============================] - 0s 2ms/step - loss: -9.4356 - accuracy: 0.5000\n",
      "Epoch 64/100\n",
      "2/2 [==============================] - 0s 3ms/step - loss: -9.8711 - accuracy: 0.5000\n",
      "Epoch 65/100\n",
      "2/2 [==============================] - 0s 2ms/step - loss: -10.3503 - accuracy: 0.5000\n",
      "Epoch 66/100\n",
      "2/2 [==============================] - 0s 3ms/step - loss: -10.8515 - accuracy: 0.5000\n",
      "Epoch 67/100\n",
      "2/2 [==============================] - 0s 2ms/step - loss: -11.3837 - accuracy: 0.5000\n",
      "Epoch 68/100\n",
      "2/2 [==============================] - 0s 3ms/step - loss: -11.9150 - accuracy: 0.5000\n",
      "Epoch 69/100\n",
      "2/2 [==============================] - 0s 4ms/step - loss: -12.5422 - accuracy: 0.5000\n",
      "Epoch 70/100\n",
      "2/2 [==============================] - 0s 3ms/step - loss: -13.1639 - accuracy: 0.5000\n",
      "Epoch 71/100\n",
      "2/2 [==============================] - 0s 3ms/step - loss: -13.7956 - accuracy: 0.5000\n",
      "Epoch 72/100\n",
      "2/2 [==============================] - 0s 3ms/step - loss: -14.4707 - accuracy: 0.5000\n",
      "Epoch 73/100\n",
      "2/2 [==============================] - 0s 2ms/step - loss: -15.1836 - accuracy: 0.5000\n",
      "Epoch 74/100\n",
      "2/2 [==============================] - 0s 2ms/step - loss: -15.8702 - accuracy: 0.5000\n",
      "Epoch 75/100\n",
      "2/2 [==============================] - 0s 3ms/step - loss: -16.6496 - accuracy: 0.5000\n",
      "Epoch 76/100\n",
      "2/2 [==============================] - 0s 3ms/step - loss: -17.3911 - accuracy: 0.5000\n",
      "Epoch 77/100\n",
      "2/2 [==============================] - 0s 2ms/step - loss: -18.1591 - accuracy: 0.5000\n",
      "Epoch 78/100\n",
      "2/2 [==============================] - 0s 3ms/step - loss: -18.9371 - accuracy: 0.5000\n",
      "Epoch 79/100\n",
      "2/2 [==============================] - 0s 2ms/step - loss: -19.7461 - accuracy: 0.5000\n",
      "Epoch 80/100\n",
      "2/2 [==============================] - 0s 3ms/step - loss: -20.5532 - accuracy: 0.5000\n",
      "Epoch 81/100\n",
      "2/2 [==============================] - 0s 2ms/step - loss: -21.3884 - accuracy: 0.5000\n",
      "Epoch 82/100\n",
      "2/2 [==============================] - 0s 2ms/step - loss: -22.2798 - accuracy: 0.5000\n",
      "Epoch 83/100\n",
      "2/2 [==============================] - 0s 3ms/step - loss: -23.1354 - accuracy: 0.5000\n",
      "Epoch 84/100\n",
      "2/2 [==============================] - 0s 2ms/step - loss: -24.1085 - accuracy: 0.5000\n",
      "Epoch 85/100\n",
      "2/2 [==============================] - 0s 3ms/step - loss: -25.0389 - accuracy: 0.5000\n",
      "Epoch 86/100\n",
      "2/2 [==============================] - 0s 3ms/step - loss: -26.0257 - accuracy: 0.5000\n",
      "Epoch 87/100\n",
      "2/2 [==============================] - 0s 2ms/step - loss: -27.0385 - accuracy: 0.5000\n",
      "Epoch 88/100\n",
      "2/2 [==============================] - 0s 2ms/step - loss: -28.1032 - accuracy: 0.5000\n",
      "Epoch 89/100\n",
      "2/2 [==============================] - 0s 4ms/step - loss: -29.1205 - accuracy: 0.5000\n",
      "Epoch 90/100\n",
      "2/2 [==============================] - 0s 3ms/step - loss: -30.2468 - accuracy: 0.5000\n",
      "Epoch 91/100\n",
      "2/2 [==============================] - 0s 3ms/step - loss: -31.4179 - accuracy: 0.5000\n",
      "Epoch 92/100\n",
      "2/2 [==============================] - 0s 3ms/step - loss: -32.5472 - accuracy: 0.5000\n",
      "Epoch 93/100\n",
      "2/2 [==============================] - 0s 2ms/step - loss: -33.7328 - accuracy: 0.5000\n",
      "Epoch 94/100\n",
      "2/2 [==============================] - 0s 2ms/step - loss: -34.9432 - accuracy: 0.5000\n",
      "Epoch 95/100\n",
      "2/2 [==============================] - 0s 2ms/step - loss: -36.1902 - accuracy: 0.5000\n",
      "Epoch 96/100\n",
      "2/2 [==============================] - 0s 2ms/step - loss: -37.4641 - accuracy: 0.5000\n",
      "Epoch 97/100\n",
      "2/2 [==============================] - 0s 3ms/step - loss: -38.7895 - accuracy: 0.5000\n",
      "Epoch 98/100\n",
      "2/2 [==============================] - 0s 2ms/step - loss: -39.9994 - accuracy: 0.5000\n",
      "Epoch 99/100\n",
      "2/2 [==============================] - 0s 2ms/step - loss: -41.4491 - accuracy: 0.5000\n",
      "Epoch 100/100\n",
      "2/2 [==============================] - 0s 3ms/step - loss: -42.7614 - accuracy: 0.5000\n"
     ]
    },
    {
     "data": {
      "text/plain": [
       "<keras.callbacks.History at 0x7fd7083bda30>"
      ]
     },
     "execution_count": 203,
     "metadata": {},
     "output_type": "execute_result"
    }
   ],
   "source": [
    "model.fit(X_train, Y_train, epochs=epochs)"
   ]
  },
  {
   "cell_type": "code",
   "execution_count": 204,
   "metadata": {},
   "outputs": [
    {
     "data": {
      "text/plain": [
       "0.38181818181818183"
      ]
     },
     "execution_count": 204,
     "metadata": {},
     "output_type": "execute_result"
    }
   ],
   "source": [
    "from sklearn.cluster import KMeans, DBSCAN, AffinityPropagation, OPTICS\n",
    "\n",
    "cl = KMeans(n_clusters=2).fit(newX)\n",
    "cl.labels_\n",
    "ypred = cl.labels_ + 1\n",
    "ypred\n",
    "metrics.accuracy_score(newY, ypred)"
   ]
  },
  {
   "cell_type": "code",
   "execution_count": null,
   "metadata": {},
   "outputs": [],
   "source": []
  }
 ],
 "metadata": {
  "kernelspec": {
   "display_name": "Python 3",
   "language": "python",
   "name": "python3"
  },
  "language_info": {
   "codemirror_mode": {
    "name": "ipython",
    "version": 3
   },
   "file_extension": ".py",
   "mimetype": "text/x-python",
   "name": "python",
   "nbconvert_exporter": "python",
   "pygments_lexer": "ipython3",
   "version": "3.8.10"
  }
 },
 "nbformat": 4,
 "nbformat_minor": 2
}
