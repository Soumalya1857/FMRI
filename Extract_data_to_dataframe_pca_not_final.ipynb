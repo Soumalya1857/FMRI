{
 "cells": [
  {
   "cell_type": "code",
   "execution_count": 27,
   "metadata": {},
   "outputs": [],
   "source": [
    "import os\n",
    "import pandas as pd\n",
    "import numpy as np"
   ]
  },
  {
   "cell_type": "code",
   "execution_count": 2,
   "metadata": {},
   "outputs": [
    {
     "name": "stderr",
     "output_type": "stream",
     "text": [
      "/home/titir/.local/lib/python3.8/site-packages/nilearn/datasets/__init__.py:93: FutureWarning: Fetchers from the nilearn.datasets module will be updated in version 0.9 to return python strings instead of bytes and Pandas dataframes instead of Numpy arrays.\n",
      "  warn(\"Fetchers from the nilearn.datasets module will be \"\n"
     ]
    }
   ],
   "source": [
    "from nilearn import image, plotting"
   ]
  },
  {
   "cell_type": "code",
   "execution_count": 5,
   "metadata": {},
   "outputs": [],
   "source": [
    "#rootdir = \"/home/sks/Documents/FMRI_Titir_Soumalya/25_Nov/ABIDE2_DATA\""
   ]
  },
  {
   "cell_type": "code",
   "execution_count": 3,
   "metadata": {},
   "outputs": [],
   "source": [
    "rootdir = \"/media/titir/Linux/Dataset_ABIDEII\""
   ]
  },
  {
   "cell_type": "code",
   "execution_count": 4,
   "metadata": {},
   "outputs": [],
   "source": [
    "X_features = []"
   ]
  },
  {
   "cell_type": "code",
   "execution_count": 5,
   "metadata": {},
   "outputs": [],
   "source": [
    "sites = [\"BNI\", \"ETH\", \"GU\"]\n",
    "fnames = []\n",
    "for site in sites:\n",
    "    fnames.append(\"ABIDEII-\" + site + \"_1.csv\")"
   ]
  },
  {
   "cell_type": "code",
   "execution_count": 6,
   "metadata": {},
   "outputs": [
    {
     "data": {
      "text/plain": [
       "['ABIDEII-BNI_1.csv', 'ABIDEII-ETH_1.csv', 'ABIDEII-GU_1.csv']"
      ]
     },
     "execution_count": 6,
     "metadata": {},
     "output_type": "execute_result"
    }
   ],
   "source": [
    "fnames"
   ]
  },
  {
   "cell_type": "code",
   "execution_count": 8,
   "metadata": {},
   "outputs": [
    {
     "name": "stdout",
     "output_type": "stream",
     "text": [
      "58\n",
      "95\n",
      "201\n",
      "201\n"
     ]
    }
   ],
   "source": [
    "i = 0\n",
    "fmri_filenames  = []\n",
    "for site in sites:\n",
    "    for subdir, dir, files in os.walk(rootdir):\n",
    "        for file in sorted(files, key=str):\n",
    "            filename = os.path.join(subdir, file)\n",
    "            #print(filename)\n",
    "            \n",
    "            if (filename.find('rest') != -1 and filename.find(site) != -1):\n",
    "                i = i + 1\n",
    "                #smooth_img = image.smooth_img(filename, fwhm=3)\n",
    "                #img = image.mean_img(smooth_img)\n",
    "                #view = plotting.view_img(img)\n",
    "                #plotting.show()\n",
    "                #print(smooth_img.shape)\n",
    "                #X_features.append(smooth_img)\n",
    "                fmri_filenames.append(filename)\n",
    "                ##print(filename)\n",
    "    print(len(fmri_filenames))\n",
    "            \n",
    "\n",
    "print(len(fmri_filenames))       \n",
    "        "
   ]
  },
  {
   "cell_type": "code",
   "execution_count": 9,
   "metadata": {},
   "outputs": [],
   "source": [
    "fmri_filenames.sort() "
   ]
  },
  {
   "cell_type": "code",
   "execution_count": 10,
   "metadata": {},
   "outputs": [
    {
     "data": {
      "text/plain": [
       "201"
      ]
     },
     "execution_count": 10,
     "metadata": {},
     "output_type": "execute_result"
    }
   ],
   "source": [
    "len(fmri_filenames)"
   ]
  },
  {
   "cell_type": "markdown",
   "metadata": {},
   "source": [
    "#### Checkpoint 1\n",
    "X_features have been extracted"
   ]
  },
  {
   "cell_type": "code",
   "execution_count": 11,
   "metadata": {},
   "outputs": [],
   "source": [
    "import pandas as pd"
   ]
  },
  {
   "cell_type": "code",
   "execution_count": 12,
   "metadata": {},
   "outputs": [],
   "source": [
    "import csv"
   ]
  },
  {
   "cell_type": "code",
   "execution_count": 13,
   "metadata": {},
   "outputs": [
    {
     "data": {
      "text/plain": [
       "143"
      ]
     },
     "execution_count": 13,
     "metadata": {},
     "output_type": "execute_result"
    }
   ],
   "source": [
    "len(fmri_filenames[58:])"
   ]
  },
  {
   "cell_type": "code",
   "execution_count": 14,
   "metadata": {},
   "outputs": [
    {
     "name": "stdout",
     "output_type": "stream",
     "text": [
      "58\n",
      "95\n",
      "201\n"
     ]
    }
   ],
   "source": [
    "import operator\n",
    "\n",
    "ytarget = []\n",
    "session_id = []\n",
    "\n",
    "for fname in fnames:\n",
    "    with open(fname, 'r', encoding='ISO-8859-1') as f:\n",
    "        mycsv = csv.reader(f)\n",
    "        next(mycsv)\n",
    "        mycsv = sorted(mycsv, key=operator.itemgetter(1))\n",
    "        for row in mycsv:\n",
    "            text = row[3] #dx_group\n",
    "            #print(text)\n",
    "            ytarget.append(text)\n",
    "            session_id.append(row[1])\n",
    "            #print(row[0])\n",
    "\n",
    "        print(len(ytarget))\n",
    "\n",
    "\n",
    "\n",
    "\n",
    "ytarget = [int(v) for v in ytarget]"
   ]
  },
  {
   "cell_type": "code",
   "execution_count": 15,
   "metadata": {},
   "outputs": [
    {
     "data": {
      "text/plain": [
       "201"
      ]
     },
     "execution_count": 15,
     "metadata": {},
     "output_type": "execute_result"
    }
   ],
   "source": [
    "len(ytarget)"
   ]
  },
  {
   "cell_type": "code",
   "execution_count": 16,
   "metadata": {},
   "outputs": [
    {
     "data": {
      "text/plain": [
       "'/media/titir/Linux/Dataset_ABIDEII/ABIDEII-GU_1/28746/session_1/rest_1/rest.nii.gz'"
      ]
     },
     "execution_count": 16,
     "metadata": {},
     "output_type": "execute_result"
    }
   ],
   "source": [
    "fmri_filenames[100]"
   ]
  },
  {
   "cell_type": "code",
   "execution_count": 17,
   "metadata": {
    "scrolled": true
   },
   "outputs": [
    {
     "data": {
      "text/plain": [
       "'28746'"
      ]
     },
     "execution_count": 17,
     "metadata": {},
     "output_type": "execute_result"
    }
   ],
   "source": [
    "session_id[100]"
   ]
  },
  {
   "cell_type": "code",
   "execution_count": 18,
   "metadata": {},
   "outputs": [
    {
     "data": {
      "text/plain": [
       "201"
      ]
     },
     "execution_count": 18,
     "metadata": {},
     "output_type": "execute_result"
    }
   ],
   "source": [
    "len(fmri_filenames)"
   ]
  },
  {
   "cell_type": "code",
   "execution_count": 19,
   "metadata": {},
   "outputs": [
    {
     "data": {
      "text/plain": [
       "1"
      ]
     },
     "execution_count": 19,
     "metadata": {},
     "output_type": "execute_result"
    }
   ],
   "source": [
    "ytarget[0]"
   ]
  },
  {
   "cell_type": "code",
   "execution_count": 20,
   "metadata": {},
   "outputs": [],
   "source": [
    "ytarget = [int(v) for v in ytarget]\n",
    "ytarget_np = np.array(ytarget)"
   ]
  },
  {
   "cell_type": "code",
   "execution_count": 21,
   "metadata": {},
   "outputs": [],
   "source": [
    "from sklearn import svm"
   ]
  },
  {
   "cell_type": "code",
   "execution_count": 37,
   "metadata": {},
   "outputs": [
    {
     "data": {
      "text/plain": [
       "147"
      ]
     },
     "execution_count": 37,
     "metadata": {},
     "output_type": "execute_result"
    }
   ],
   "source": [
    "#shuffle\n",
    "import random\n",
    "\n",
    "c = list(zip(X_features_cm, ytarget_np))\n",
    "\n",
    "random.shuffle(c)\n",
    "\n",
    "X, y = zip(*c)\n",
    "len(y)"
   ]
  },
  {
   "cell_type": "code",
   "execution_count": 73,
   "metadata": {},
   "outputs": [
    {
     "data": {
      "text/plain": [
       "2"
      ]
     },
     "execution_count": 73,
     "metadata": {},
     "output_type": "execute_result"
    }
   ],
   "source": [
    "len(c[0])"
   ]
  },
  {
   "cell_type": "code",
   "execution_count": 34,
   "metadata": {},
   "outputs": [
    {
     "name": "stdout",
     "output_type": "stream",
     "text": [
      "2016\n"
     ]
    }
   ],
   "source": [
    "print(len(X[0]))"
   ]
  },
  {
   "cell_type": "code",
   "execution_count": 30,
   "metadata": {},
   "outputs": [
    {
     "data": {
      "text/plain": [
       "tuple"
      ]
     },
     "execution_count": 30,
     "metadata": {},
     "output_type": "execute_result"
    }
   ],
   "source": [
    "type(X)"
   ]
  },
  {
   "cell_type": "code",
   "execution_count": null,
   "metadata": {},
   "outputs": [],
   "source": [
    "index = 0\n",
    "for i in range(len(X)):\n",
    "    if len(X[i]) != 2016:\n",
    "        index = i\n",
    "        \n"
   ]
  },
  {
   "cell_type": "code",
   "execution_count": null,
   "metadata": {},
   "outputs": [],
   "source": [
    "new_arr = np.delete(X, np.where(len(X) != 2016))"
   ]
  },
  {
   "cell_type": "code",
   "execution_count": null,
   "metadata": {},
   "outputs": [
    {
     "data": {
      "text/plain": [
       "49"
      ]
     },
     "execution_count": 112,
     "metadata": {},
     "output_type": "execute_result"
    }
   ],
   "source": [
    "np.delete(y, index)\n",
    "len(y)"
   ]
  },
  {
   "cell_type": "code",
   "execution_count": 35,
   "metadata": {},
   "outputs": [],
   "source": [
    "newX = []\n",
    "newY = []\n",
    "for i in range(50):\n",
    "    if len(X[i]) == 2016:\n",
    "        newX.append(X[i])\n",
    "        newY.append(y[i])"
   ]
  },
  {
   "cell_type": "code",
   "execution_count": 37,
   "metadata": {},
   "outputs": [
    {
     "data": {
      "text/plain": [
       "48"
      ]
     },
     "execution_count": 37,
     "metadata": {},
     "output_type": "execute_result"
    }
   ],
   "source": [
    "len(newY)"
   ]
  },
  {
   "cell_type": "code",
   "execution_count": 45,
   "metadata": {},
   "outputs": [],
   "source": [
    "trainset_x = newX[:40]\n",
    "trainset_y = newY[:40]\n",
    "testset_x = newX[40:]\n",
    "testset_y = newY[40:]"
   ]
  },
  {
   "cell_type": "code",
   "execution_count": 46,
   "metadata": {},
   "outputs": [
    {
     "name": "stdout",
     "output_type": "stream",
     "text": [
      "[2, 2, 1, 1, 1, 1, 2, 2, 2, 2, 1, 1, 1, 2, 2, 2, 2, 1, 1, 1, 1, 2, 1, 1, 1, 1, 1, 1, 2, 1, 1, 2, 1, 2, 1, 2, 1, 2, 1, 2]\n"
     ]
    }
   ],
   "source": [
    "print(trainset_y)"
   ]
  },
  {
   "cell_type": "code",
   "execution_count": 47,
   "metadata": {},
   "outputs": [
    {
     "data": {
      "text/plain": [
       "SVC()"
      ]
     },
     "execution_count": 47,
     "metadata": {},
     "output_type": "execute_result"
    }
   ],
   "source": [
    "from sklearn import svm\n",
    "clsf = svm.SVC()\n",
    "clsf.fit(trainset_x, trainset_y)"
   ]
  },
  {
   "cell_type": "code",
   "execution_count": null,
   "metadata": {},
   "outputs": [],
   "source": []
  },
  {
   "cell_type": "code",
   "execution_count": 48,
   "metadata": {},
   "outputs": [],
   "source": [
    "count_correct = 0\n",
    "count_total  = 0\n",
    "for i in range(len(testset_y)):\n",
    "    ans = clsf.predict([testset_x[i]])\n",
    "    if ans == testset_y[i]:\n",
    "        count_correct = count_correct + 1\n",
    "    count_total = count_total + 1"
   ]
  },
  {
   "cell_type": "code",
   "execution_count": 49,
   "metadata": {},
   "outputs": [
    {
     "data": {
      "text/plain": [
       "0.625"
      ]
     },
     "execution_count": 49,
     "metadata": {},
     "output_type": "execute_result"
    }
   ],
   "source": [
    "count_correct/count_total\n"
   ]
  },
  {
   "cell_type": "code",
   "execution_count": 22,
   "metadata": {},
   "outputs": [],
   "source": [
    "from nilearn import datasets\n",
    "from nilearn.input_data import NiftiLabelsMasker\n",
    "from nilearn.connectome import ConnectivityMeasure\n",
    "from sklearn.decomposition import PCA"
   ]
  },
  {
   "cell_type": "code",
   "execution_count": 21,
   "metadata": {},
   "outputs": [
    {
     "name": "stdout",
     "output_type": "stream",
     "text": [
      "Requirement already satisfied: numba in /home/titir/.local/lib/python3.8/site-packages (0.54.1)\n",
      "Requirement already satisfied: numpy<1.21,>=1.17 in /usr/lib/python3/dist-packages (from numba) (1.17.4)\n",
      "Requirement already satisfied: llvmlite<0.38,>=0.37.0rc1 in /home/titir/.local/lib/python3.8/site-packages (from numba) (0.37.0)\n",
      "Requirement already satisfied: setuptools in /usr/lib/python3/dist-packages (from numba) (45.2.0)\n",
      "Note: you may need to restart the kernel to use updated packages.\n"
     ]
    }
   ],
   "source": [
    "pip install numba"
   ]
  },
  {
   "cell_type": "code",
   "execution_count": 28,
   "metadata": {},
   "outputs": [],
   "source": [
    "from numba import jit, cuda"
   ]
  },
  {
   "cell_type": "code",
   "execution_count": 26,
   "metadata": {},
   "outputs": [
    {
     "name": "stdout",
     "output_type": "stream",
     "text": [
      "120\n",
      "64\n",
      "2016\n",
      "finished extracting 1 of 201\n",
      "120\n",
      "64\n",
      "2016\n",
      "finished extracting 2 of 201\n",
      "120\n",
      "64\n",
      "2016\n",
      "finished extracting 3 of 201\n",
      "120\n",
      "64\n",
      "2016\n",
      "finished extracting 4 of 201\n",
      "120\n",
      "64\n",
      "2016\n",
      "finished extracting 5 of 201\n",
      "120\n",
      "64\n",
      "2016\n",
      "finished extracting 6 of 201\n",
      "120\n",
      "64\n",
      "2016\n",
      "finished extracting 7 of 201\n",
      "120\n",
      "64\n",
      "2016\n",
      "finished extracting 8 of 201\n",
      "120\n",
      "64\n",
      "2016\n",
      "finished extracting 9 of 201\n",
      "120\n",
      "64\n",
      "2016\n",
      "finished extracting 10 of 201\n",
      "120\n",
      "64\n",
      "2016\n",
      "finished extracting 11 of 201\n",
      "120\n",
      "64\n",
      "2016\n",
      "finished extracting 12 of 201\n",
      "120\n",
      "64\n",
      "2016\n",
      "finished extracting 13 of 201\n",
      "120\n",
      "64\n",
      "2016\n",
      "finished extracting 14 of 201\n",
      "120\n",
      "64\n",
      "2016\n",
      "finished extracting 15 of 201\n",
      "120\n",
      "64\n",
      "2016\n",
      "finished extracting 16 of 201\n",
      "120\n",
      "64\n",
      "2016\n",
      "finished extracting 17 of 201\n",
      "120\n",
      "64\n",
      "2016\n",
      "finished extracting 18 of 201\n",
      "120\n",
      "64\n",
      "2016\n",
      "finished extracting 19 of 201\n",
      "120\n",
      "64\n",
      "2016\n",
      "finished extracting 20 of 201\n",
      "120\n",
      "64\n",
      "2016\n",
      "finished extracting 21 of 201\n",
      "120\n",
      "64\n",
      "2016\n",
      "finished extracting 22 of 201\n",
      "120\n",
      "64\n",
      "2016\n",
      "finished extracting 23 of 201\n",
      "120\n",
      "64\n",
      "2016\n",
      "finished extracting 24 of 201\n",
      "120\n",
      "64\n",
      "2016\n",
      "finished extracting 25 of 201\n",
      "120\n",
      "64\n",
      "2016\n",
      "finished extracting 26 of 201\n",
      "120\n",
      "60\n",
      "1770\n",
      "finished extracting 27 of 201\n",
      "120\n",
      "64\n",
      "2016\n",
      "finished extracting 28 of 201\n",
      "120\n",
      "64\n",
      "2016\n",
      "finished extracting 29 of 201\n",
      "120\n",
      "64\n",
      "2016\n",
      "finished extracting 30 of 201\n",
      "120\n",
      "64\n",
      "2016\n",
      "finished extracting 31 of 201\n",
      "120\n",
      "64\n",
      "2016\n",
      "finished extracting 32 of 201\n",
      "120\n",
      "64\n",
      "2016\n",
      "finished extracting 33 of 201\n",
      "120\n",
      "64\n",
      "2016\n",
      "finished extracting 34 of 201\n",
      "120\n",
      "64\n",
      "2016\n",
      "finished extracting 35 of 201\n",
      "120\n",
      "64\n",
      "2016\n",
      "finished extracting 36 of 201\n",
      "120\n",
      "64\n",
      "2016\n",
      "finished extracting 37 of 201\n",
      "120\n",
      "64\n",
      "2016\n",
      "finished extracting 38 of 201\n",
      "120\n",
      "64\n",
      "2016\n",
      "finished extracting 39 of 201\n",
      "120\n",
      "63\n",
      "1953\n",
      "finished extracting 40 of 201\n",
      "120\n",
      "64\n",
      "2016\n",
      "finished extracting 41 of 201\n",
      "120\n",
      "61\n",
      "1830\n",
      "finished extracting 42 of 201\n",
      "120\n",
      "64\n",
      "2016\n",
      "finished extracting 43 of 201\n",
      "120\n",
      "64\n",
      "2016\n",
      "finished extracting 44 of 201\n",
      "120\n",
      "64\n",
      "2016\n",
      "finished extracting 45 of 201\n",
      "120\n",
      "64\n",
      "2016\n",
      "finished extracting 46 of 201\n",
      "120\n",
      "64\n",
      "2016\n",
      "finished extracting 47 of 201\n",
      "120\n",
      "64\n",
      "2016\n",
      "finished extracting 48 of 201\n",
      "120\n",
      "64\n",
      "2016\n",
      "finished extracting 49 of 201\n",
      "120\n",
      "64\n",
      "2016\n",
      "finished extracting 50 of 201\n",
      "120\n",
      "64\n",
      "2016\n",
      "finished extracting 51 of 201\n",
      "120\n",
      "64\n",
      "2016\n",
      "finished extracting 52 of 201\n",
      "120\n",
      "64\n",
      "2016\n",
      "finished extracting 53 of 201\n",
      "120\n",
      "64\n",
      "2016\n",
      "finished extracting 54 of 201\n",
      "120\n",
      "64\n",
      "2016\n",
      "finished extracting 55 of 201\n",
      "120\n",
      "64\n",
      "2016\n",
      "finished extracting 56 of 201\n",
      "119\n",
      "64\n",
      "2016\n",
      "finished extracting 57 of 201\n",
      "119\n",
      "64\n",
      "2016\n",
      "finished extracting 58 of 201\n",
      "210\n",
      "64\n",
      "2016\n",
      "finished extracting 59 of 201\n",
      "210\n",
      "64\n",
      "2016\n",
      "finished extracting 60 of 201\n",
      "210\n",
      "64\n",
      "2016\n",
      "finished extracting 61 of 201\n",
      "210\n",
      "64\n",
      "2016\n",
      "finished extracting 62 of 201\n",
      "210\n",
      "64\n",
      "2016\n",
      "finished extracting 63 of 201\n",
      "210\n",
      "64\n",
      "2016\n",
      "finished extracting 64 of 201\n",
      "210\n",
      "64\n",
      "2016\n",
      "finished extracting 65 of 201\n",
      "210\n",
      "58\n",
      "1653\n",
      "finished extracting 66 of 201\n",
      "210\n",
      "64\n",
      "2016\n",
      "finished extracting 67 of 201\n",
      "210\n",
      "64\n",
      "2016\n",
      "finished extracting 68 of 201\n",
      "210\n",
      "64\n",
      "2016\n",
      "finished extracting 69 of 201\n",
      "210\n",
      "64\n",
      "2016\n",
      "finished extracting 70 of 201\n",
      "210\n",
      "64\n",
      "2016\n",
      "finished extracting 71 of 201\n",
      "210\n",
      "64\n",
      "2016\n",
      "finished extracting 72 of 201\n",
      "210\n",
      "64\n",
      "2016\n",
      "finished extracting 73 of 201\n",
      "210\n",
      "63\n",
      "1953\n",
      "finished extracting 74 of 201\n",
      "210\n",
      "64\n",
      "2016\n",
      "finished extracting 75 of 201\n",
      "210\n",
      "64\n",
      "2016\n",
      "finished extracting 76 of 201\n",
      "210\n",
      "64\n",
      "2016\n",
      "finished extracting 77 of 201\n",
      "210\n",
      "64\n",
      "2016\n",
      "finished extracting 78 of 201\n",
      "210\n",
      "64\n",
      "2016\n",
      "finished extracting 79 of 201\n",
      "210\n",
      "64\n",
      "2016\n",
      "finished extracting 80 of 201\n",
      "210\n",
      "64\n",
      "2016\n",
      "finished extracting 81 of 201\n",
      "210\n",
      "64\n",
      "2016\n",
      "finished extracting 82 of 201\n",
      "210\n",
      "64\n",
      "2016\n",
      "finished extracting 83 of 201\n",
      "210\n",
      "64\n",
      "2016\n",
      "finished extracting 84 of 201\n",
      "210\n",
      "64\n",
      "2016\n",
      "finished extracting 85 of 201\n",
      "210\n",
      "64\n",
      "2016\n",
      "finished extracting 86 of 201\n",
      "210\n",
      "64\n",
      "2016\n",
      "finished extracting 87 of 201\n",
      "210\n",
      "64\n",
      "2016\n",
      "finished extracting 88 of 201\n",
      "210\n",
      "64\n",
      "2016\n",
      "finished extracting 89 of 201\n",
      "210\n",
      "64\n",
      "2016\n",
      "finished extracting 90 of 201\n",
      "210\n",
      "52\n",
      "1326\n",
      "finished extracting 91 of 201\n",
      "210\n",
      "64\n",
      "2016\n",
      "finished extracting 92 of 201\n",
      "210\n",
      "64\n",
      "2016\n",
      "finished extracting 93 of 201\n",
      "210\n",
      "64\n",
      "2016\n",
      "finished extracting 94 of 201\n",
      "210\n",
      "64\n",
      "2016\n",
      "finished extracting 95 of 201\n",
      "152\n",
      "64\n",
      "2016\n",
      "finished extracting 96 of 201\n",
      "152\n",
      "64\n",
      "2016\n",
      "finished extracting 97 of 201\n",
      "152\n",
      "64\n",
      "2016\n",
      "finished extracting 98 of 201\n",
      "152\n",
      "64\n",
      "2016\n",
      "finished extracting 99 of 201\n",
      "152\n",
      "64\n",
      "2016\n",
      "finished extracting 100 of 201\n",
      "152\n",
      "64\n",
      "2016\n",
      "finished extracting 101 of 201\n",
      "152\n",
      "64\n",
      "2016\n",
      "finished extracting 102 of 201\n",
      "152\n",
      "64\n",
      "2016\n",
      "finished extracting 103 of 201\n",
      "152\n",
      "64\n",
      "2016\n",
      "finished extracting 104 of 201\n",
      "152\n",
      "64\n",
      "2016\n",
      "finished extracting 105 of 201\n",
      "152\n",
      "61\n",
      "1830\n",
      "finished extracting 106 of 201\n",
      "152\n",
      "64\n",
      "2016\n",
      "finished extracting 107 of 201\n",
      "152\n",
      "64\n",
      "2016\n",
      "finished extracting 108 of 201\n",
      "152\n",
      "64\n",
      "2016\n",
      "finished extracting 109 of 201\n",
      "152\n",
      "61\n",
      "1830\n",
      "finished extracting 110 of 201\n",
      "152\n",
      "64\n",
      "2016\n",
      "finished extracting 111 of 201\n",
      "152\n",
      "63\n",
      "1953\n",
      "finished extracting 112 of 201\n",
      "152\n",
      "64\n",
      "2016\n",
      "finished extracting 113 of 201\n",
      "152\n",
      "62\n",
      "1891\n",
      "finished extracting 114 of 201\n",
      "152\n",
      "64\n",
      "2016\n",
      "finished extracting 115 of 201\n",
      "152\n",
      "64\n",
      "2016\n",
      "finished extracting 116 of 201\n",
      "152\n",
      "64\n",
      "2016\n",
      "finished extracting 117 of 201\n",
      "152\n",
      "61\n",
      "1830\n",
      "finished extracting 118 of 201\n",
      "152\n",
      "64\n",
      "2016\n",
      "finished extracting 119 of 201\n",
      "152\n",
      "64\n",
      "2016\n",
      "finished extracting 120 of 201\n",
      "152\n",
      "64\n",
      "2016\n",
      "finished extracting 121 of 201\n",
      "152\n",
      "64\n",
      "2016\n",
      "finished extracting 122 of 201\n",
      "152\n",
      "64\n",
      "2016\n",
      "finished extracting 123 of 201\n",
      "152\n",
      "61\n",
      "1830\n",
      "finished extracting 124 of 201\n",
      "152\n",
      "61\n",
      "1830\n",
      "finished extracting 125 of 201\n",
      "152\n",
      "64\n",
      "2016\n",
      "finished extracting 126 of 201\n",
      "152\n",
      "61\n",
      "1830\n",
      "finished extracting 127 of 201\n",
      "152\n",
      "64\n",
      "2016\n",
      "finished extracting 128 of 201\n",
      "152\n",
      "64\n",
      "2016\n",
      "finished extracting 129 of 201\n",
      "152\n",
      "64\n",
      "2016\n",
      "finished extracting 130 of 201\n",
      "152\n",
      "61\n",
      "1830\n",
      "finished extracting 131 of 201\n",
      "152\n",
      "62\n",
      "1891\n",
      "finished extracting 132 of 201\n",
      "152\n",
      "64\n",
      "2016\n",
      "finished extracting 133 of 201\n",
      "152\n",
      "64\n",
      "2016\n",
      "finished extracting 134 of 201\n",
      "152\n",
      "64\n",
      "2016\n",
      "finished extracting 135 of 201\n",
      "152\n",
      "62\n",
      "1891\n",
      "finished extracting 136 of 201\n",
      "152\n",
      "50\n",
      "1225\n",
      "finished extracting 137 of 201\n",
      "152\n",
      "61\n",
      "1830\n",
      "finished extracting 138 of 201\n",
      "152\n",
      "62\n",
      "1891\n",
      "finished extracting 139 of 201\n",
      "152\n",
      "59\n",
      "1711\n",
      "finished extracting 140 of 201\n",
      "152\n",
      "61\n",
      "1830\n",
      "finished extracting 141 of 201\n",
      "152\n",
      "60\n",
      "1770\n",
      "finished extracting 142 of 201\n",
      "152\n",
      "59\n",
      "1711\n",
      "finished extracting 143 of 201\n",
      "152\n",
      "51\n",
      "1275\n",
      "finished extracting 144 of 201\n",
      "152\n",
      "55\n",
      "1485\n",
      "finished extracting 145 of 201\n",
      "152\n",
      "59\n",
      "1711\n",
      "finished extracting 146 of 201\n",
      "152\n",
      "61\n",
      "1830\n",
      "finished extracting 147 of 201\n",
      "152\n",
      "58\n",
      "1653\n",
      "finished extracting 148 of 201\n",
      "152\n",
      "54\n",
      "1431\n",
      "finished extracting 149 of 201\n",
      "152\n",
      "54\n",
      "1431\n",
      "finished extracting 150 of 201\n",
      "152\n",
      "59\n",
      "1711\n",
      "finished extracting 151 of 201\n",
      "152\n",
      "60\n",
      "1770\n",
      "finished extracting 152 of 201\n",
      "152\n",
      "59\n",
      "1711\n",
      "finished extracting 153 of 201\n",
      "152\n",
      "63\n",
      "1953\n",
      "finished extracting 154 of 201\n",
      "152\n",
      "59\n",
      "1711\n",
      "finished extracting 155 of 201\n",
      "152\n",
      "62\n",
      "1891\n",
      "finished extracting 156 of 201\n",
      "152\n",
      "60\n",
      "1770\n",
      "finished extracting 157 of 201\n",
      "152\n",
      "59\n",
      "1711\n",
      "finished extracting 158 of 201\n",
      "152\n",
      "57\n",
      "1596\n",
      "finished extracting 159 of 201\n",
      "152\n",
      "64\n",
      "2016\n",
      "finished extracting 160 of 201\n",
      "152\n",
      "52\n",
      "1326\n",
      "finished extracting 161 of 201\n",
      "152\n",
      "60\n",
      "1770\n",
      "finished extracting 162 of 201\n",
      "152\n",
      "61\n",
      "1830\n",
      "finished extracting 163 of 201\n",
      "152\n",
      "55\n",
      "1485\n",
      "finished extracting 164 of 201\n",
      "152\n",
      "50\n",
      "1225\n",
      "finished extracting 165 of 201\n",
      "152\n",
      "57\n",
      "1596\n",
      "finished extracting 166 of 201\n",
      "152\n",
      "58\n",
      "1653\n",
      "finished extracting 167 of 201\n",
      "152\n",
      "61\n",
      "1830\n",
      "finished extracting 168 of 201\n",
      "152\n",
      "58\n",
      "1653\n",
      "finished extracting 169 of 201\n",
      "152\n",
      "60\n",
      "1770\n",
      "finished extracting 170 of 201\n",
      "152\n",
      "61\n",
      "1830\n",
      "finished extracting 171 of 201\n",
      "152\n",
      "64\n",
      "2016\n",
      "finished extracting 172 of 201\n",
      "152\n",
      "52\n",
      "1326\n",
      "finished extracting 173 of 201\n",
      "152\n",
      "55\n",
      "1485\n",
      "finished extracting 174 of 201\n",
      "152\n",
      "52\n",
      "1326\n",
      "finished extracting 175 of 201\n",
      "152\n",
      "52\n",
      "1326\n",
      "finished extracting 176 of 201\n",
      "152\n",
      "59\n",
      "1711\n",
      "finished extracting 177 of 201\n",
      "152\n",
      "56\n",
      "1540\n",
      "finished extracting 178 of 201\n",
      "152\n",
      "59\n",
      "1711\n",
      "finished extracting 179 of 201\n",
      "152\n",
      "56\n",
      "1540\n",
      "finished extracting 180 of 201\n",
      "152\n",
      "55\n",
      "1485\n",
      "finished extracting 181 of 201\n",
      "152\n",
      "53\n",
      "1378\n",
      "finished extracting 182 of 201\n",
      "152\n",
      "59\n",
      "1711\n",
      "finished extracting 183 of 201\n",
      "152\n",
      "62\n",
      "1891\n",
      "finished extracting 184 of 201\n",
      "152\n",
      "56\n",
      "1540\n",
      "finished extracting 185 of 201\n",
      "152\n",
      "60\n",
      "1770\n",
      "finished extracting 186 of 201\n",
      "152\n",
      "55\n",
      "1485\n",
      "finished extracting 187 of 201\n",
      "152\n",
      "58\n",
      "1653\n",
      "finished extracting 188 of 201\n",
      "152\n",
      "52\n",
      "1326\n",
      "finished extracting 189 of 201\n",
      "152\n",
      "56\n",
      "1540\n",
      "finished extracting 190 of 201\n",
      "152\n",
      "61\n",
      "1830\n",
      "finished extracting 191 of 201\n",
      "152\n",
      "63\n",
      "1953\n",
      "finished extracting 192 of 201\n",
      "152\n",
      "55\n",
      "1485\n",
      "finished extracting 193 of 201\n",
      "152\n",
      "59\n",
      "1711\n",
      "finished extracting 194 of 201\n",
      "152\n",
      "61\n",
      "1830\n",
      "finished extracting 195 of 201\n",
      "152\n",
      "59\n",
      "1711\n",
      "finished extracting 196 of 201\n",
      "152\n",
      "59\n",
      "1711\n",
      "finished extracting 197 of 201\n",
      "152\n",
      "59\n",
      "1711\n",
      "finished extracting 198 of 201\n",
      "152\n",
      "59\n",
      "1711\n",
      "finished extracting 199 of 201\n",
      "152\n",
      "60\n",
      "1770\n",
      "finished extracting 200 of 201\n",
      "152\n",
      "55\n",
      "1485\n",
      "finished extracting 201 of 201\n"
     ]
    }
   ],
   "source": [
    "\n",
    "def prepare_data():\n",
    "    multiscale = datasets.fetch_atlas_basc_multiscale_2015()\n",
    "    atlas_filename = multiscale.scale064\n",
    "\n",
    "    # initialize masker object\n",
    "    masker = NiftiLabelsMasker(labels_img=atlas_filename,\n",
    "                               standardize=True,\n",
    "                               memory='nilearn_cache',\n",
    "                               verbose=0)\n",
    "\n",
    "    # initialize correlation measure\n",
    "    #print(len(masker))\n",
    "    correlation_measure = ConnectivityMeasure(kind='correlation', vectorize=True,\n",
    "                                             discard_diagonal=True)\n",
    "     \n",
    "    X_features_cm = []\n",
    "    \n",
    "    for i,sub in enumerate(fmri_filenames):\n",
    "            # extract the timeseries from the ROIs in the atlas\n",
    "            time_series = masker.fit_transform(sub)\n",
    "            print(len(time_series))\n",
    "            print(len(time_series[0]))\n",
    "            # create a region x region correlation matrix\n",
    "            correlation_matrix = correlation_measure.fit_transform([time_series])[0]\n",
    "            # the dimensions will be 64*64 - 64 and then the whole divided by two so that we don't take any\n",
    "            # redundant correlations\n",
    "            # add to our container\n",
    "            np.reshape(correlation_matrix, (2016, ))\n",
    "            X_features_cm.append(correlation_matrix)\n",
    "            print(len(correlation_matrix))\n",
    "            # keep track of status\n",
    "            print('finished extracting %s of %s'%(i+1,len(fmri_filenames)))\n",
    "            \n",
    "    # Dimensionality reduction of features with PCA\n",
    "    \n",
    "    \n",
    "    return X_features_cm\n",
    "X_features_cm = prepare_data()\n",
    "    "
   ]
  },
  {
   "cell_type": "code",
   "execution_count": 23,
   "metadata": {},
   "outputs": [
    {
     "name": "stdout",
     "output_type": "stream",
     "text": [
      "['/home/titir/nilearn_data/ABIDE_pcp/cpac/nofilt_noglobal/Pitt_0050003_func_preproc.nii.gz']\n",
      "0\n",
      "/home/titir/nilearn_data/ABIDE_pcp/cpac/nofilt_noglobal/Pitt_0050003_func_preproc.nii.gz\n"
     ]
    },
    {
     "name": "stderr",
     "output_type": "stream",
     "text": [
      "/usr/lib/python3/dist-packages/numpy/lib/npyio.py:2358: VisibleDeprecationWarning: Reading unicode strings without specifying the encoding argument is deprecated. Set the encoding, use None for the system default.\n",
      "  output = genfromtxt(fname, **kwargs)\n"
     ]
    }
   ],
   "source": [
    "abide = datasets.fetch_abide_pcp(\n",
    "                                 pipeline = \"cpac\",\n",
    "                                 quality_checked = True, \n",
    "                                 n_subjects=1)\n",
    "# make list of filenames\n",
    "fmri_filenames_t = abide.func_preproc\n",
    "print(fmri_filenames_t)\n",
    "for i,sub in enumerate(fmri_filenames_t):\n",
    "    print(i)\n",
    "    print(sub)"
   ]
  },
  {
   "cell_type": "code",
   "execution_count": 30,
   "metadata": {},
   "outputs": [
    {
     "data": {
      "text/plain": [
       "['29085', '29086', '29087', '29088', '29089']"
      ]
     },
     "execution_count": 30,
     "metadata": {},
     "output_type": "execute_result"
    }
   ],
   "source": [
    "session_id[85:90]"
   ]
  },
  {
   "cell_type": "code",
   "execution_count": 31,
   "metadata": {},
   "outputs": [],
   "source": [
    "X_features_cm = list([list(element) for element in X_features_cm])"
   ]
  },
  {
   "cell_type": "code",
   "execution_count": 39,
   "metadata": {},
   "outputs": [
    {
     "name": "stdout",
     "output_type": "stream",
     "text": [
      "2016\n",
      "2016\n",
      "2016\n",
      "2016\n",
      "2016\n",
      "2016\n",
      "2016\n",
      "2016\n",
      "2016\n",
      "2016\n",
      "2016\n",
      "2016\n",
      "2016\n",
      "2016\n",
      "2016\n",
      "2016\n",
      "2016\n",
      "2016\n",
      "2016\n",
      "2016\n",
      "2016\n",
      "2016\n",
      "2016\n",
      "2016\n",
      "2016\n",
      "2016\n",
      "1770\n",
      "2016\n",
      "2016\n",
      "2016\n",
      "2016\n",
      "2016\n",
      "2016\n",
      "2016\n",
      "2016\n",
      "2016\n",
      "2016\n",
      "2016\n",
      "2016\n",
      "1953\n",
      "2016\n",
      "1830\n",
      "2016\n",
      "2016\n",
      "2016\n",
      "2016\n",
      "2016\n",
      "2016\n",
      "2016\n",
      "2016\n",
      "2016\n",
      "2016\n",
      "2016\n",
      "2016\n",
      "2016\n",
      "2016\n",
      "2016\n",
      "2016\n",
      "2016\n",
      "2016\n",
      "2016\n",
      "2016\n",
      "2016\n",
      "2016\n",
      "2016\n",
      "1653\n",
      "2016\n",
      "2016\n",
      "2016\n",
      "2016\n",
      "2016\n",
      "2016\n",
      "2016\n",
      "1953\n",
      "2016\n",
      "2016\n",
      "2016\n",
      "2016\n",
      "2016\n",
      "2016\n",
      "2016\n",
      "2016\n",
      "2016\n",
      "2016\n",
      "2016\n",
      "2016\n",
      "2016\n",
      "2016\n",
      "2016\n",
      "2016\n",
      "1326\n",
      "2016\n",
      "2016\n",
      "2016\n",
      "2016\n",
      "2016\n",
      "2016\n",
      "2016\n",
      "2016\n",
      "2016\n",
      "2016\n",
      "2016\n",
      "2016\n",
      "2016\n",
      "2016\n",
      "1830\n",
      "2016\n",
      "2016\n",
      "2016\n",
      "1830\n",
      "2016\n",
      "1953\n",
      "2016\n",
      "1891\n",
      "2016\n",
      "2016\n",
      "2016\n",
      "1830\n",
      "2016\n",
      "2016\n",
      "2016\n",
      "2016\n",
      "2016\n",
      "1830\n",
      "1830\n",
      "2016\n",
      "1830\n",
      "2016\n",
      "2016\n",
      "2016\n",
      "1830\n",
      "1891\n",
      "2016\n",
      "2016\n",
      "2016\n",
      "1891\n",
      "1225\n",
      "1830\n",
      "1891\n",
      "1711\n",
      "1830\n",
      "1770\n",
      "1711\n",
      "1275\n",
      "1485\n",
      "1711\n",
      "1830\n",
      "1653\n",
      "1431\n",
      "1431\n",
      "1711\n",
      "1770\n",
      "1711\n",
      "1953\n",
      "1711\n",
      "1891\n",
      "1770\n",
      "1711\n",
      "1596\n",
      "2016\n",
      "1326\n",
      "1770\n",
      "1830\n",
      "1485\n",
      "1225\n",
      "1596\n",
      "1653\n",
      "1830\n",
      "1653\n",
      "1770\n",
      "1830\n",
      "2016\n",
      "1326\n",
      "1485\n",
      "1326\n",
      "1326\n",
      "1711\n",
      "1540\n",
      "1711\n",
      "1540\n",
      "1485\n",
      "1378\n",
      "1711\n",
      "1891\n",
      "1540\n",
      "1770\n",
      "1485\n",
      "1653\n",
      "1326\n",
      "1540\n",
      "1830\n",
      "1953\n",
      "1485\n",
      "1711\n",
      "1830\n",
      "1711\n",
      "1711\n",
      "1711\n",
      "1711\n",
      "1770\n",
      "1485\n",
      "121\n"
     ]
    }
   ],
   "source": [
    "len(X_features_cm)\n",
    "i = 0\n",
    "for arr in X_features_cm:\n",
    "    print(len(arr))\n",
    "    if (len(arr) == 2016):\n",
    "        i = i + 1\n",
    "print(i)\n"
   ]
  },
  {
   "cell_type": "markdown",
   "metadata": {},
   "source": [
    "#### TODO\n",
    "* visualize the correlation matrices(n*n)\n",
    "* apply other atlas(what is the atlas used, number of regions)\n",
    "* Look into anat.nii.gz\n",
    "* ransac matlab\n",
    "* cluster healthy datasets, and check if new fmri data belongs to any of those clusters"
   ]
  },
  {
   "cell_type": "markdown",
   "metadata": {},
   "source": [
    "### Running SVM on ABIDE 2 dataset"
   ]
  },
  {
   "cell_type": "code",
   "execution_count": 36,
   "metadata": {},
   "outputs": [
    {
     "name": "stdout",
     "output_type": "stream",
     "text": [
      "121\n"
     ]
    }
   ],
   "source": [
    "import datetime\n",
    "import random\n",
    "from sklearn import svm\n",
    "from sklearn.model_selection import train_test_split\n",
    "random.seed(datetime.datetime.now())\n",
    "\n",
    "newX = []\n",
    "newY = []\n",
    "for i in range(len(X_features_cm)):\n",
    "    if len(X_features_cm[i]) == 2016:\n",
    "        newX.append(X_features_cm[i])\n",
    "        newY.append(ytarget_np[i])\n",
    "print(len(newX))\n",
    "\n",
    "    \n"
   ]
  },
  {
   "cell_type": "code",
   "execution_count": 37,
   "metadata": {},
   "outputs": [
    {
     "name": "stdout",
     "output_type": "stream",
     "text": [
      "Running PCA...\n"
     ]
    }
   ],
   "source": [
    "from sklearn.decomposition import PCA\n",
    "print(\"Running PCA...\")\n",
    "pca = PCA(0.99).fit(newX)\n",
    "newX_pca =  pca.transform(newX)"
   ]
  },
  {
   "cell_type": "code",
   "execution_count": 38,
   "metadata": {},
   "outputs": [
    {
     "data": {
      "text/plain": [
       "104"
      ]
     },
     "execution_count": 38,
     "metadata": {},
     "output_type": "execute_result"
    }
   ],
   "source": [
    "len(newX_pca[0])"
   ]
  },
  {
   "cell_type": "markdown",
   "metadata": {},
   "source": [
    "#### Here we are seperating the dataset into training and test sets"
   ]
  },
  {
   "cell_type": "code",
   "execution_count": 275,
   "metadata": {},
   "outputs": [],
   "source": [
    "trainset_X, testset_X, trainset_Y, testset_Y = train_test_split(newX, newY, test_size=0.3, random_state=103)"
   ]
  },
  {
   "cell_type": "code",
   "execution_count": 276,
   "metadata": {},
   "outputs": [
    {
     "name": "stdout",
     "output_type": "stream",
     "text": [
      "Accuracy 0.48148148148148145\n",
      "Precision 0.5\n",
      "Recall 0.21428571428571427\n"
     ]
    }
   ],
   "source": [
    "clsf_svc = svm.SVC(kernel=\"linear\", C=2)\n",
    "clsf_svc.fit(trainset_X, trainset_Y)\n",
    "\n",
    "y_pred = clsf_svc.predict(testset_X)\n",
    "\n",
    "from sklearn import metrics\n",
    "\n",
    "accuracy = metrics.accuracy_score(testset_Y, y_pred)\n",
    "precision = metrics.precision_score(testset_Y, y_pred)\n",
    "recall = metrics.recall_score(testset_Y, y_pred)\n",
    "\n",
    "print(\"Accuracy\", accuracy)\n",
    "print(\"Precision\", precision)\n",
    "print(\"Recall\", recall)"
   ]
  },
  {
   "cell_type": "code",
   "execution_count": 277,
   "metadata": {},
   "outputs": [
    {
     "name": "stdout",
     "output_type": "stream",
     "text": [
      "Accuracy 0.5185185185185185\n",
      "Precision 0.6\n",
      "Recall 0.21428571428571427\n",
      "[[ 3 11]\n",
      " [ 2 11]]\n"
     ]
    },
    {
     "name": "stderr",
     "output_type": "stream",
     "text": [
      "/home/titir/.local/lib/python3.8/site-packages/sklearn/utils/deprecation.py:87: FutureWarning: Function plot_confusion_matrix is deprecated; Function `plot_confusion_matrix` is deprecated in 1.0 and will be removed in 1.2. Use one of the class methods: ConfusionMatrixDisplay.from_predictions or ConfusionMatrixDisplay.from_estimator.\n",
      "  warnings.warn(msg, category=FutureWarning)\n"
     ]
    },
    {
     "data": {
      "text/plain": [
       "<sklearn.metrics._plot.confusion_matrix.ConfusionMatrixDisplay at 0x7fd6f03a5850>"
      ]
     },
     "execution_count": 277,
     "metadata": {},
     "output_type": "execute_result"
    },
    {
     "data": {
      "image/png": "[encoded data removed]",
      "text/plain": [
       "<Figure size 432x288 with 2 Axes>"
      ]
     },
     "metadata": {
      "needs_background": "light"
     },
     "output_type": "display_data"
    }
   ],
   "source": [
    "clsf = svm.SVC(kernel=\"sigmoid\", C=2)   ## C=3 gave higher values of accuracy!\n",
    "clsf.fit(trainset_X, trainset_Y)\n",
    "\n",
    "y_pred = clsf.predict(testset_X)\n",
    "\n",
    "from sklearn import metrics\n",
    "\n",
    "accuracy = metrics.accuracy_score(testset_Y, y_pred)\n",
    "precision = metrics.precision_score(testset_Y, y_pred)\n",
    "recall = metrics.recall_score(testset_Y, y_pred)\n",
    "\n",
    "print(\"Accuracy\", accuracy)\n",
    "print(\"Precision\", precision)\n",
    "print(\"Recall\", recall)\n",
    "\n",
    "\n",
    "from sklearn.metrics import confusion_matrix, plot_confusion_matrix\n",
    "print(str(confusion_matrix(testset_Y, y_pred)))\n",
    "plot_confusion_matrix(clsf, testset_X, testset_Y)"
   ]
  },
  {
   "cell_type": "code",
   "execution_count": 278,
   "metadata": {},
   "outputs": [],
   "source": [
    "from sklearn.model_selection import GridSearchCV"
   ]
  },
  {
   "cell_type": "code",
   "execution_count": 279,
   "metadata": {},
   "outputs": [],
   "source": [
    "grid_params = {\n",
    "    'kernel': ['sigmoid', 'poly', 'linear', 'rbf'],\n",
    "    'C': [1, 2, 3, 4]\n",
    "    \n",
    "    \n",
    "    \n",
    "}\n",
    "\n",
    "gs_svc = GridSearchCV(svm.SVC(),\n",
    "        grid_params,\n",
    "        scoring='accuracy',\n",
    "        cv=5\n",
    "        )\n",
    "\n",
    "gs_results = gs_svc.fit(trainset_X, trainset_Y)"
   ]
  },
  {
   "cell_type": "code",
   "execution_count": 280,
   "metadata": {},
   "outputs": [
    {
     "data": {
      "text/plain": [
       "SVC(C=1, kernel='sigmoid')"
      ]
     },
     "execution_count": 280,
     "metadata": {},
     "output_type": "execute_result"
    }
   ],
   "source": [
    "gs_svc.best_estimator_"
   ]
  },
  {
   "cell_type": "code",
   "execution_count": 281,
   "metadata": {},
   "outputs": [
    {
     "data": {
      "text/plain": [
       "0.5653846153846155"
      ]
     },
     "execution_count": 281,
     "metadata": {},
     "output_type": "execute_result"
    }
   ],
   "source": [
    "gs_svc.best_score_"
   ]
  },
  {
   "cell_type": "code",
   "execution_count": 282,
   "metadata": {},
   "outputs": [
    {
     "name": "stdout",
     "output_type": "stream",
     "text": [
      "Accuracy 0.37037037037037035\n",
      "Precision 0.4\n",
      "Recall 0.42857142857142855\n"
     ]
    }
   ],
   "source": [
    "from sklearn.svm import LinearSVC\n",
    "clsf_ls = LinearSVC(dual=False, random_state=0, penalty=\"l1\", max_iter=10000)\n",
    "clsf_ls.fit(trainset_X, trainset_Y)\n",
    "\n",
    "y_pred = clsf_ls.predict(testset_X)\n",
    "\n",
    "from sklearn import metrics\n",
    "\n",
    "accuracy = metrics.accuracy_score(testset_Y, y_pred)\n",
    "precision = metrics.precision_score(testset_Y, y_pred)\n",
    "recall = metrics.recall_score(testset_Y, y_pred)\n",
    "\n",
    "print(\"Accuracy\", accuracy)\n",
    "print(\"Precision\", precision)\n",
    "print(\"Recall\", recall)"
   ]
  },
  {
   "cell_type": "markdown",
   "metadata": {},
   "source": [
    "### Running Logistic Regression on ABIDE 2 dataset"
   ]
  },
  {
   "cell_type": "code",
   "execution_count": 283,
   "metadata": {},
   "outputs": [
    {
     "name": "stdout",
     "output_type": "stream",
     "text": [
      "Accuracy 0.5925925925925926\n",
      "Precision 0.7142857142857143\n",
      "Recall 0.35714285714285715\n",
      "[[ 5  9]\n",
      " [ 2 11]]\n"
     ]
    },
    {
     "name": "stderr",
     "output_type": "stream",
     "text": [
      "/home/titir/.local/lib/python3.8/site-packages/sklearn/utils/deprecation.py:87: FutureWarning: Function plot_confusion_matrix is deprecated; Function `plot_confusion_matrix` is deprecated in 1.0 and will be removed in 1.2. Use one of the class methods: ConfusionMatrixDisplay.from_predictions or ConfusionMatrixDisplay.from_estimator.\n",
      "  warnings.warn(msg, category=FutureWarning)\n"
     ]
    },
    {
     "data": {
      "text/plain": [
       "<sklearn.metrics._plot.confusion_matrix.ConfusionMatrixDisplay at 0x7fd74ee72490>"
      ]
     },
     "execution_count": 283,
     "metadata": {},
     "output_type": "execute_result"
    },
    {
     "data": {
      "image/png": "[encoded data removed]",
      "text/plain": [
       "<Figure size 432x288 with 2 Axes>"
      ]
     },
     "metadata": {
      "needs_background": "light"
     },
     "output_type": "display_data"
    }
   ],
   "source": [
    "from sklearn.linear_model import LogisticRegression\n",
    "\n",
    "clsf_lg = LogisticRegression(penalty='l2')\n",
    "clsf_lg.fit(trainset_X, trainset_Y)\n",
    "\n",
    "y_pred = clsf_lg.predict(testset_X)\n",
    "\n",
    "from sklearn import metrics\n",
    "\n",
    "accuracy = metrics.accuracy_score(testset_Y, y_pred)\n",
    "precision = metrics.precision_score(testset_Y, y_pred)\n",
    "recall = metrics.recall_score(testset_Y, y_pred)\n",
    "\n",
    "print(\"Accuracy\", accuracy)\n",
    "print(\"Precision\", precision)\n",
    "print(\"Recall\", recall)\n",
    "\n",
    "\n",
    "from sklearn.metrics import confusion_matrix, plot_confusion_matrix\n",
    "print(str(confusion_matrix(testset_Y, y_pred)))\n",
    "plot_confusion_matrix(clsf, testset_X, testset_Y)"
   ]
  },
  {
   "cell_type": "code",
   "execution_count": 176,
   "metadata": {},
   "outputs": [],
   "source": [
    "import matplotlib.pyplot as plt\n",
    "import seaborn as sn\n"
   ]
  },
  {
   "cell_type": "markdown",
   "metadata": {},
   "source": [
    "### Running a Random Forest Classifier"
   ]
  },
  {
   "cell_type": "code",
   "execution_count": 284,
   "metadata": {},
   "outputs": [
    {
     "name": "stdout",
     "output_type": "stream",
     "text": [
      "Accuracy 0.6296296296296297\n",
      "Precision 0.7\n",
      "Recall 0.5\n"
     ]
    }
   ],
   "source": [
    "from sklearn.ensemble import RandomForestClassifier \n",
    "# TODO\n",
    "clsf_rf = RandomForestClassifier()\n",
    "clsf_rf.fit(trainset_X, trainset_Y)\n",
    "\n",
    "y_pred = clsf_rf.predict(testset_X)\n",
    "\n",
    "from sklearn import metrics\n",
    "\n",
    "accuracy = metrics.accuracy_score(testset_Y, y_pred)\n",
    "precision = metrics.precision_score(testset_Y, y_pred)\n",
    "recall = metrics.recall_score(testset_Y, y_pred)\n",
    "\n",
    "print(\"Accuracy\", accuracy)\n",
    "print(\"Precision\", precision)\n",
    "print(\"Recall\", recall)"
   ]
  },
  {
   "cell_type": "code",
   "execution_count": 285,
   "metadata": {},
   "outputs": [
    {
     "data": {
      "text/plain": [
       "RandomForestClassifier(max_depth=80, n_estimators=110)"
      ]
     },
     "execution_count": 285,
     "metadata": {},
     "output_type": "execute_result"
    }
   ],
   "source": [
    "grid_params_rf = {\n",
    "    'bootstrap': [True],\n",
    "    'max_depth': [80, 90, 100, 110],\n",
    "    'n_estimators': [80, 90, 100, 110]\n",
    "    \n",
    "}\n",
    "\n",
    "gs_rf = GridSearchCV(RandomForestClassifier(),\n",
    "                        grid_params_rf,\n",
    "                        scoring='accuracy')\n",
    "\n",
    "gs_results_rf = gs_rf.fit(trainset_X, trainset_Y)\n",
    "gs_rf.best_estimator_"
   ]
  },
  {
   "cell_type": "code",
   "execution_count": 286,
   "metadata": {},
   "outputs": [
    {
     "data": {
      "text/plain": [
       "0.5935897435897436"
      ]
     },
     "execution_count": 286,
     "metadata": {},
     "output_type": "execute_result"
    }
   ],
   "source": [
    "gs_rf.best_score_"
   ]
  },
  {
   "cell_type": "code",
   "execution_count": 287,
   "metadata": {},
   "outputs": [
    {
     "name": "stdout",
     "output_type": "stream",
     "text": [
      "Accuracy 0.5185185185185185\n",
      "Precision 0.5384615384615384\n",
      "Recall 0.5\n"
     ]
    }
   ],
   "source": [
    "from sklearn.tree import DecisionTreeClassifier \n",
    "\n",
    "clsf_dt = DecisionTreeClassifier() \n",
    "clsf_dt.fit(trainset_X, trainset_Y)\n",
    "\n",
    "y_pred = clsf_dt.predict(testset_X)\n",
    "\n",
    "from sklearn import metrics\n",
    "\n",
    "accuracy = metrics.accuracy_score(testset_Y, y_pred)\n",
    "precision = metrics.precision_score(testset_Y, y_pred)\n",
    "recall = metrics.recall_score(testset_Y, y_pred)\n",
    "\n",
    "print(\"Accuracy\", accuracy)\n",
    "print(\"Precision\", precision)\n",
    "print(\"Recall\", recall)"
   ]
  },
  {
   "cell_type": "markdown",
   "metadata": {},
   "source": [
    "### Naive Bayes"
   ]
  },
  {
   "cell_type": "code",
   "execution_count": 288,
   "metadata": {},
   "outputs": [
    {
     "name": "stdout",
     "output_type": "stream",
     "text": [
      "Accuracy 0.5925925925925926\n",
      "Precision 0.6363636363636364\n",
      "Recall 0.5\n"
     ]
    },
    {
     "name": "stderr",
     "output_type": "stream",
     "text": [
      "/home/titir/.local/lib/python3.8/site-packages/sklearn/utils/deprecation.py:87: FutureWarning: Function plot_confusion_matrix is deprecated; Function `plot_confusion_matrix` is deprecated in 1.0 and will be removed in 1.2. Use one of the class methods: ConfusionMatrixDisplay.from_predictions or ConfusionMatrixDisplay.from_estimator.\n",
      "  warnings.warn(msg, category=FutureWarning)\n"
     ]
    },
    {
     "data": {
      "text/plain": [
       "<sklearn.metrics._plot.confusion_matrix.ConfusionMatrixDisplay at 0x7fd6fc2f2490>"
      ]
     },
     "execution_count": 288,
     "metadata": {},
     "output_type": "execute_result"
    },
    {
     "data": {
      "image/png": "[encoded data removed]",
      "text/plain": [
       "<Figure size 432x288 with 2 Axes>"
      ]
     },
     "metadata": {
      "needs_background": "light"
     },
     "output_type": "display_data"
    }
   ],
   "source": [
    "from sklearn.naive_bayes import GaussianNB, MultinomialNB, ComplementNB, BernoulliNB, CategoricalNB\n",
    "clsf_nb = GaussianNB() ## gives best accuracy of all the different naive bayes approaches\n",
    "clsf_nb.fit(trainset_X, trainset_Y)\n",
    "\n",
    "y_pred = clsf_nb.predict(testset_X)\n",
    "\n",
    "from sklearn import metrics\n",
    "\n",
    "accuracy = metrics.accuracy_score(testset_Y, y_pred)\n",
    "precision = metrics.precision_score(testset_Y, y_pred)\n",
    "recall = metrics.recall_score(testset_Y, y_pred)\n",
    "\n",
    "print(\"Accuracy\", accuracy)\n",
    "print(\"Precision\", precision)\n",
    "print(\"Recall\", recall)\n",
    "\n",
    "plot_confusion_matrix(clsf, testset_X, testset_Y)"
   ]
  },
  {
   "cell_type": "markdown",
   "metadata": {},
   "source": [
    "### KNN"
   ]
  },
  {
   "cell_type": "code",
   "execution_count": 289,
   "metadata": {},
   "outputs": [
    {
     "name": "stdout",
     "output_type": "stream",
     "text": [
      "Accuracy 0.5185185185185185\n",
      "Precision 0.6\n",
      "Recall 0.21428571428571427\n"
     ]
    }
   ],
   "source": [
    "from sklearn.neighbors import KNeighborsClassifier\n",
    "from math import sqrt\n",
    "\n",
    "k = int(sqrt(len(trainset_X)))\n",
    "clsf = KNeighborsClassifier(n_neighbors=14) \n",
    "clsf.fit(trainset_X, trainset_Y)\n",
    "\n",
    "y_pred = clsf.predict(testset_X)\n",
    "\n",
    "from sklearn import metrics\n",
    "\n",
    "accuracy = metrics.accuracy_score(testset_Y, y_pred)\n",
    "precision = metrics.precision_score(testset_Y, y_pred)\n",
    "recall = metrics.recall_score(testset_Y, y_pred)\n",
    "\n",
    "print(\"Accuracy\", accuracy)\n",
    "print(\"Precision\", precision)\n",
    "print(\"Recall\", recall)"
   ]
  },
  {
   "cell_type": "code",
   "execution_count": 290,
   "metadata": {},
   "outputs": [
    {
     "name": "stdout",
     "output_type": "stream",
     "text": [
      "Accuracy 0.6296296296296297\n",
      "Precision 0.75\n",
      "Recall 0.42857142857142855\n",
      "[[ 6  8]\n",
      " [ 2 11]]\n"
     ]
    },
    {
     "name": "stderr",
     "output_type": "stream",
     "text": [
      "/home/titir/.local/lib/python3.8/site-packages/sklearn/utils/deprecation.py:87: FutureWarning: Function plot_confusion_matrix is deprecated; Function `plot_confusion_matrix` is deprecated in 1.0 and will be removed in 1.2. Use one of the class methods: ConfusionMatrixDisplay.from_predictions or ConfusionMatrixDisplay.from_estimator.\n",
      "  warnings.warn(msg, category=FutureWarning)\n"
     ]
    },
    {
     "data": {
      "text/plain": [
       "<sklearn.metrics._plot.confusion_matrix.ConfusionMatrixDisplay at 0x7fd6fc1dd3d0>"
      ]
     },
     "execution_count": 290,
     "metadata": {},
     "output_type": "execute_result"
    },
    {
     "data": {
      "image/png": "[encoded data removed]",
      "text/plain": [
       "<Figure size 432x288 with 2 Axes>"
      ]
     },
     "metadata": {
      "needs_background": "light"
     },
     "output_type": "display_data"
    }
   ],
   "source": [
    "from sklearn.linear_model import LogisticRegression\n",
    "\n",
    "clsf = LogisticRegression(penalty='none')\n",
    "clsf.fit(trainset_X, trainset_Y)\n",
    "\n",
    "y_pred = clsf.predict(testset_X)\n",
    "\n",
    "from sklearn import metrics\n",
    "\n",
    "accuracy = metrics.accuracy_score(testset_Y, y_pred)\n",
    "precision = metrics.precision_score(testset_Y, y_pred)\n",
    "recall = metrics.recall_score(testset_Y, y_pred)\n",
    "\n",
    "print(\"Accuracy\", accuracy)\n",
    "print(\"Precision\", precision)\n",
    "print(\"Recall\", recall)\n",
    "\n",
    "\n",
    "from sklearn.metrics import confusion_matrix, plot_confusion_matrix\n",
    "print(str(confusion_matrix(testset_Y, y_pred)))\n",
    "plot_confusion_matrix(clsf, testset_X, testset_Y)"
   ]
  },
  {
   "cell_type": "markdown",
   "metadata": {},
   "source": [
    "### Trying a grid search with KNN "
   ]
  },
  {
   "cell_type": "code",
   "execution_count": 291,
   "metadata": {},
   "outputs": [],
   "source": [
    "from sklearn.model_selection import GridSearchCV\n",
    "\n",
    "k = [i for i in range(1, 15, 2)]\n",
    "grid_params_knn = {\n",
    "    'n_neighbors': k,\n",
    "    'weights': ['uniform', 'distance'] ,\n",
    "    'metric': ['minkowski', 'manhattan'] \n",
    "}\n",
    "\n",
    "gs_knn = GridSearchCV(KNeighborsClassifier(),\n",
    "        grid_params_knn,\n",
    "        scoring='accuracy',\n",
    "        )\n",
    "\n",
    "gs_results_knn = gs_knn.fit(trainset_X, trainset_Y)"
   ]
  },
  {
   "cell_type": "code",
   "execution_count": 292,
   "metadata": {},
   "outputs": [
    {
     "data": {
      "text/plain": [
       "0.5794871794871794"
      ]
     },
     "execution_count": 292,
     "metadata": {},
     "output_type": "execute_result"
    }
   ],
   "source": [
    "gs_knn.best_score_\n"
   ]
  },
  {
   "cell_type": "code",
   "execution_count": 293,
   "metadata": {},
   "outputs": [
    {
     "data": {
      "text/plain": [
       "KNeighborsClassifier(n_neighbors=7)"
      ]
     },
     "execution_count": 293,
     "metadata": {},
     "output_type": "execute_result"
    }
   ],
   "source": [
    "gs_knn.best_estimator_"
   ]
  },
  {
   "cell_type": "code",
   "execution_count": 294,
   "metadata": {},
   "outputs": [
    {
     "data": {
      "text/plain": [
       "{'metric': 'minkowski', 'n_neighbors': 7, 'weights': 'uniform'}"
      ]
     },
     "execution_count": 294,
     "metadata": {},
     "output_type": "execute_result"
    }
   ],
   "source": [
    "gs_knn.best_params_"
   ]
  },
  {
   "cell_type": "markdown",
   "metadata": {},
   "source": [
    "### MLP Classifier"
   ]
  },
  {
   "cell_type": "code",
   "execution_count": 295,
   "metadata": {},
   "outputs": [
    {
     "name": "stdout",
     "output_type": "stream",
     "text": [
      "Accuracy 0.6666666666666666\n",
      "Precision 0.7272727272727273\n",
      "Recall 0.5714285714285714\n"
     ]
    }
   ],
   "source": [
    "from sklearn.neural_network import MLPClassifier, MLPRegressor, BernoulliRBM\n",
    "\n",
    "clsf_mlp = MLPClassifier(learning_rate='adaptive', max_iter=10000)\n",
    "clsf_mlp.fit(trainset_X, trainset_Y)\n",
    "\n",
    "y_pred = clsf_mlp.predict(testset_X)\n",
    "\n",
    "from sklearn import metrics\n",
    "\n",
    "accuracy = metrics.accuracy_score(testset_Y, y_pred)\n",
    "precision = metrics.precision_score(testset_Y, y_pred)\n",
    "recall = metrics.recall_score(testset_Y, y_pred)\n",
    "\n",
    "print(\"Accuracy\", accuracy)\n",
    "print(\"Precision\", precision)\n",
    "print(\"Recall\", recall)"
   ]
  },
  {
   "cell_type": "code",
   "execution_count": 299,
   "metadata": {},
   "outputs": [
    {
     "name": "stderr",
     "output_type": "stream",
     "text": [
      "/home/titir/.local/lib/python3.8/site-packages/sklearn/neural_network/_multilayer_perceptron.py:692: ConvergenceWarning: Stochastic Optimizer: Maximum iterations (500) reached and the optimization hasn't converged yet.\n",
      "  warnings.warn(\n",
      "/home/titir/.local/lib/python3.8/site-packages/sklearn/neural_network/_multilayer_perceptron.py:692: ConvergenceWarning: Stochastic Optimizer: Maximum iterations (500) reached and the optimization hasn't converged yet.\n",
      "  warnings.warn(\n",
      "/home/titir/.local/lib/python3.8/site-packages/sklearn/neural_network/_multilayer_perceptron.py:699: UserWarning: Training interrupted by user.\n",
      "  warnings.warn(\"Training interrupted by user.\")\n",
      "/home/titir/.local/lib/python3.8/site-packages/sklearn/neural_network/_multilayer_perceptron.py:692: ConvergenceWarning: Stochastic Optimizer: Maximum iterations (500) reached and the optimization hasn't converged yet.\n",
      "  warnings.warn(\n",
      "/home/titir/.local/lib/python3.8/site-packages/sklearn/neural_network/_multilayer_perceptron.py:692: ConvergenceWarning: Stochastic Optimizer: Maximum iterations (500) reached and the optimization hasn't converged yet.\n",
      "  warnings.warn(\n",
      "/home/titir/.local/lib/python3.8/site-packages/sklearn/neural_network/_multilayer_perceptron.py:699: UserWarning: Training interrupted by user.\n",
      "  warnings.warn(\"Training interrupted by user.\")\n",
      "/home/titir/.local/lib/python3.8/site-packages/sklearn/neural_network/_multilayer_perceptron.py:699: UserWarning: Training interrupted by user.\n",
      "  warnings.warn(\"Training interrupted by user.\")\n"
     ]
    }
   ],
   "source": [
    "grid_params_mlp = {\n",
    "    'activation': ['tanh', 'relu', 'logistic'],\n",
    "    'solver': ['sgd', 'adam', 'lbfgs'], \n",
    "    'max_iter': [1000, 10000],\n",
    "    \n",
    "    \n",
    "    \n",
    "    \n",
    "}\n",
    "\n",
    "gs_mlp = GridSearchCV(MLPClassifier(),\n",
    "        grid_params_mlp,\n",
    "        scoring='accuracy',\n",
    "        )\n",
    "\n",
    "gs_results_mlp = gs_mlp.fit(trainset_X, trainset_Y)"
   ]
  },
  {
   "cell_type": "code",
   "execution_count": 297,
   "metadata": {},
   "outputs": [
    {
     "data": {
      "text/plain": [
       "MLPClassifier(activation='logistic', early_stopping=True, max_iter=500,\n",
       "              solver='sgd')"
      ]
     },
     "execution_count": 297,
     "metadata": {},
     "output_type": "execute_result"
    }
   ],
   "source": [
    "gs_mlp.best_estimator_"
   ]
  },
  {
   "cell_type": "code",
   "execution_count": 298,
   "metadata": {},
   "outputs": [
    {
     "data": {
      "text/plain": [
       "0.6"
      ]
     },
     "execution_count": 298,
     "metadata": {},
     "output_type": "execute_result"
    }
   ],
   "source": [
    "gs_mlp.best_score_"
   ]
  },
  {
   "cell_type": "markdown",
   "metadata": {},
   "source": [
    "### Classifiers we have right now \n",
    "* MLP\n",
    "* Random Forests\n",
    "* Naive Bayes\n",
    "* KNN\n",
    "* SVC\n",
    "* Linear SVC\n"
   ]
  },
  {
   "cell_type": "code",
   "execution_count": 192,
   "metadata": {},
   "outputs": [],
   "source": [
    "classifiers = [\n",
    "gs_svc.best_estimator_, #73% accuracy\n",
    "gs_rf.best_estimator_, #65% accuracy\n",
    "gs_knn.best_estimator_, #62% accuracy\n",
    "gs_mlp.best_estimator_] #70% accuracy\n",
    "\n"
   ]
  },
  {
   "cell_type": "code",
   "execution_count": 224,
   "metadata": {},
   "outputs": [],
   "source": [
    "def find_mode_classifier_result(newX):\n",
    "    X_mode = []\n",
    "    \n",
    "    for x in newX:\n",
    "        if (len(x) == 2016):\n",
    "            nv = []\n",
    "            for clsf in classifiers:\n",
    "                nv.append(clsf.predict([x]))\n",
    "\n",
    "            X_features_nn.append(nv)\n",
    "            #print(type(nv))\n",
    "            nv_list = list(nv)\n",
    "            val = sum(nv_list)\n",
    "            X_mode.append(int(val/len(classifiers)))\n",
    "    return (X_features_nn, X_mode)"
   ]
  },
  {
   "cell_type": "code",
   "execution_count": 227,
   "metadata": {},
   "outputs": [],
   "source": [
    "(X_features_nn, y_pred_mode) = find_mode_classifier_result(testset_X)"
   ]
  },
  {
   "cell_type": "markdown",
   "metadata": {},
   "source": [
    "#### Accuracy from calculating the mode of the result of all the classifiers"
   ]
  },
  {
   "cell_type": "code",
   "execution_count": 228,
   "metadata": {},
   "outputs": [
    {
     "data": {
      "text/plain": [
       "0.47058823529411764"
      ]
     },
     "execution_count": 228,
     "metadata": {},
     "output_type": "execute_result"
    }
   ],
   "source": [
    "metrics.accuracy_score(testset_Y, y_pred_mode)"
   ]
  },
  {
   "cell_type": "code",
   "execution_count": 198,
   "metadata": {},
   "outputs": [
    {
     "data": {
      "text/plain": [
       "3"
      ]
     },
     "execution_count": 198,
     "metadata": {},
     "output_type": "execute_result"
    }
   ],
   "source": [
    "len(X_features_nn[0])"
   ]
  },
  {
   "cell_type": "markdown",
   "metadata": {},
   "source": [
    "### Addding a Neural Network"
   ]
  },
  {
   "cell_type": "code",
   "execution_count": 212,
   "metadata": {},
   "outputs": [],
   "source": [
    "from tensorflow import keras\n",
    "from tensorflow.keras.models import Sequential\n",
    "from tensorflow.keras.layers import Dense, Flatten, Activation, LeakyReLU\n",
    "import matplotlib.pyplot as plt\n",
    "%matplotlib inline"
   ]
  },
  {
   "cell_type": "code",
   "execution_count": 217,
   "metadata": {},
   "outputs": [],
   "source": [
    "def build_model():\n",
    "    model = Sequential()\n",
    "    model.add(Dense(32, input_dim=2016, activation='tanh'))\n",
    "    model.add(Dense(64, activation='relu'))\n",
    "    model.add(Dense(32, activation='relu'))\n",
    "    model.add(Dense(1, activation='sigmoid'))\n",
    "    model.compile(loss='binary_crossentropy', optimizer='adam', metrics=[\"accuracy\"])\n",
    "    \n",
    "    return model\n",
    "    "
   ]
  },
  {
   "cell_type": "code",
   "execution_count": 218,
   "metadata": {},
   "outputs": [],
   "source": [
    "model = build_model()\n",
    "epochs = 100"
   ]
  },
  {
   "cell_type": "code",
   "execution_count": 219,
   "metadata": {},
   "outputs": [],
   "source": [
    "from sklearn.preprocessing import normalize\n",
    "X_train = np.array(newX)\n",
    "Y_train = np.array(newY)"
   ]
  },
  {
   "cell_type": "code",
   "execution_count": 220,
   "metadata": {},
   "outputs": [
    {
     "name": "stdout",
     "output_type": "stream",
     "text": [
      "Epoch 1/100\n",
      "2/2 [==============================] - 0s 2ms/step - loss: 0.8908 - accuracy: 0.2000\n",
      "Epoch 2/100\n",
      "2/2 [==============================] - 0s 2ms/step - loss: -0.3165 - accuracy: 0.5091\n",
      "Epoch 3/100\n",
      "2/2 [==============================] - 0s 3ms/step - loss: -0.7965 - accuracy: 0.5091\n",
      "Epoch 4/100\n",
      "2/2 [==============================] - 0s 4ms/step - loss: -1.0625 - accuracy: 0.5273\n",
      "Epoch 5/100\n",
      "2/2 [==============================] - 0s 3ms/step - loss: -1.2438 - accuracy: 0.5273\n",
      "Epoch 6/100\n",
      "2/2 [==============================] - 0s 4ms/step - loss: -1.3877 - accuracy: 0.5273\n",
      "Epoch 7/100\n",
      "2/2 [==============================] - 0s 3ms/step - loss: -1.5568 - accuracy: 0.5273\n",
      "Epoch 8/100\n",
      "2/2 [==============================] - 0s 3ms/step - loss: -1.7265 - accuracy: 0.5273\n",
      "Epoch 9/100\n",
      "2/2 [==============================] - 0s 3ms/step - loss: -1.9038 - accuracy: 0.5273\n",
      "Epoch 10/100\n",
      "2/2 [==============================] - 0s 3ms/step - loss: -2.0963 - accuracy: 0.5273\n",
      "Epoch 11/100\n",
      "2/2 [==============================] - 0s 3ms/step - loss: -2.2887 - accuracy: 0.5273\n",
      "Epoch 12/100\n",
      "2/2 [==============================] - 0s 4ms/step - loss: -2.5258 - accuracy: 0.5273\n",
      "Epoch 13/100\n",
      "2/2 [==============================] - 0s 3ms/step - loss: -2.7465 - accuracy: 0.5273\n",
      "Epoch 14/100\n",
      "2/2 [==============================] - 0s 4ms/step - loss: -2.9876 - accuracy: 0.5273\n",
      "Epoch 15/100\n",
      "2/2 [==============================] - 0s 3ms/step - loss: -3.2431 - accuracy: 0.5273\n",
      "Epoch 16/100\n",
      "2/2 [==============================] - 0s 3ms/step - loss: -3.4900 - accuracy: 0.5273\n",
      "Epoch 17/100\n",
      "2/2 [==============================] - 0s 5ms/step - loss: -3.7845 - accuracy: 0.5273\n",
      "Epoch 18/100\n",
      "2/2 [==============================] - 0s 3ms/step - loss: -4.0801 - accuracy: 0.5273\n",
      "Epoch 19/100\n",
      "2/2 [==============================] - 0s 3ms/step - loss: -4.4212 - accuracy: 0.5273\n",
      "Epoch 20/100\n",
      "2/2 [==============================] - 0s 3ms/step - loss: -4.7927 - accuracy: 0.5273\n",
      "Epoch 21/100\n",
      "2/2 [==============================] - 0s 2ms/step - loss: -5.1354 - accuracy: 0.5273\n",
      "Epoch 22/100\n",
      "2/2 [==============================] - 0s 4ms/step - loss: -5.5011 - accuracy: 0.5273\n",
      "Epoch 23/100\n",
      "2/2 [==============================] - 0s 3ms/step - loss: -5.9677 - accuracy: 0.5273\n",
      "Epoch 24/100\n",
      "2/2 [==============================] - 0s 3ms/step - loss: -6.4038 - accuracy: 0.5273\n",
      "Epoch 25/100\n",
      "2/2 [==============================] - 0s 3ms/step - loss: -6.9365 - accuracy: 0.5273\n",
      "Epoch 26/100\n",
      "2/2 [==============================] - 0s 4ms/step - loss: -7.4654 - accuracy: 0.5273\n",
      "Epoch 27/100\n",
      "2/2 [==============================] - 0s 3ms/step - loss: -7.9995 - accuracy: 0.5273\n",
      "Epoch 28/100\n",
      "2/2 [==============================] - 0s 3ms/step - loss: -8.6247 - accuracy: 0.5273\n",
      "Epoch 29/100\n",
      "2/2 [==============================] - 0s 3ms/step - loss: -9.2389 - accuracy: 0.5273\n",
      "Epoch 30/100\n",
      "2/2 [==============================] - 0s 4ms/step - loss: -9.9426 - accuracy: 0.5273\n",
      "Epoch 31/100\n",
      "2/2 [==============================] - 0s 4ms/step - loss: -10.6332 - accuracy: 0.5273\n",
      "Epoch 32/100\n",
      "2/2 [==============================] - 0s 3ms/step - loss: -11.3642 - accuracy: 0.5273\n",
      "Epoch 33/100\n",
      "2/2 [==============================] - 0s 3ms/step - loss: -12.1941 - accuracy: 0.5273\n",
      "Epoch 34/100\n",
      "2/2 [==============================] - 0s 3ms/step - loss: -13.0654 - accuracy: 0.5273\n",
      "Epoch 35/100\n",
      "2/2 [==============================] - 0s 3ms/step - loss: -13.9526 - accuracy: 0.5273\n",
      "Epoch 36/100\n",
      "2/2 [==============================] - 0s 3ms/step - loss: -14.8915 - accuracy: 0.5273\n",
      "Epoch 37/100\n",
      "2/2 [==============================] - 0s 3ms/step - loss: -15.8662 - accuracy: 0.5273\n",
      "Epoch 38/100\n",
      "2/2 [==============================] - 0s 3ms/step - loss: -16.9330 - accuracy: 0.5273\n",
      "Epoch 39/100\n",
      "2/2 [==============================] - 0s 3ms/step - loss: -17.9717 - accuracy: 0.5273\n",
      "Epoch 40/100\n",
      "2/2 [==============================] - 0s 2ms/step - loss: -19.2150 - accuracy: 0.5273\n",
      "Epoch 41/100\n",
      "2/2 [==============================] - 0s 3ms/step - loss: -20.4244 - accuracy: 0.5273\n",
      "Epoch 42/100\n",
      "2/2 [==============================] - 0s 4ms/step - loss: -21.6011 - accuracy: 0.5273\n",
      "Epoch 43/100\n",
      "2/2 [==============================] - 0s 3ms/step - loss: -22.9109 - accuracy: 0.5273\n",
      "Epoch 44/100\n",
      "2/2 [==============================] - 0s 3ms/step - loss: -24.4513 - accuracy: 0.5273\n",
      "Epoch 45/100\n",
      "2/2 [==============================] - 0s 4ms/step - loss: -25.8386 - accuracy: 0.5273\n",
      "Epoch 46/100\n",
      "2/2 [==============================] - 0s 3ms/step - loss: -27.3837 - accuracy: 0.5273\n",
      "Epoch 47/100\n",
      "2/2 [==============================] - 0s 3ms/step - loss: -28.9718 - accuracy: 0.5273\n",
      "Epoch 48/100\n",
      "2/2 [==============================] - 0s 3ms/step - loss: -30.5419 - accuracy: 0.5273\n",
      "Epoch 49/100\n",
      "2/2 [==============================] - 0s 3ms/step - loss: -32.3130 - accuracy: 0.5273\n",
      "Epoch 50/100\n",
      "2/2 [==============================] - 0s 3ms/step - loss: -34.0495 - accuracy: 0.5273\n",
      "Epoch 51/100\n",
      "2/2 [==============================] - 0s 8ms/step - loss: -36.0310 - accuracy: 0.5273\n",
      "Epoch 52/100\n",
      "2/2 [==============================] - 0s 3ms/step - loss: -37.9021 - accuracy: 0.5273\n",
      "Epoch 53/100\n",
      "2/2 [==============================] - 0s 4ms/step - loss: -40.0790 - accuracy: 0.5273\n",
      "Epoch 54/100\n",
      "2/2 [==============================] - 0s 3ms/step - loss: -42.0655 - accuracy: 0.5273\n",
      "Epoch 55/100\n",
      "2/2 [==============================] - 0s 4ms/step - loss: -44.1397 - accuracy: 0.5273\n",
      "Epoch 56/100\n",
      "2/2 [==============================] - 0s 3ms/step - loss: -46.6293 - accuracy: 0.5273\n",
      "Epoch 57/100\n",
      "2/2 [==============================] - 0s 3ms/step - loss: -49.0597 - accuracy: 0.5273\n",
      "Epoch 58/100\n",
      "2/2 [==============================] - 0s 7ms/step - loss: -51.3688 - accuracy: 0.5273\n",
      "Epoch 59/100\n",
      "2/2 [==============================] - 0s 3ms/step - loss: -53.8264 - accuracy: 0.5273\n",
      "Epoch 60/100\n",
      "2/2 [==============================] - 0s 3ms/step - loss: -56.7133 - accuracy: 0.5273\n",
      "Epoch 61/100\n",
      "2/2 [==============================] - 0s 4ms/step - loss: -59.2882 - accuracy: 0.5273\n",
      "Epoch 62/100\n",
      "2/2 [==============================] - 0s 4ms/step - loss: -62.0760 - accuracy: 0.5273\n",
      "Epoch 63/100\n",
      "2/2 [==============================] - 0s 3ms/step - loss: -65.1222 - accuracy: 0.5273\n",
      "Epoch 64/100\n",
      "2/2 [==============================] - 0s 3ms/step - loss: -67.9835 - accuracy: 0.5273\n",
      "Epoch 65/100\n",
      "2/2 [==============================] - 0s 3ms/step - loss: -71.3531 - accuracy: 0.5273\n",
      "Epoch 66/100\n",
      "2/2 [==============================] - 0s 3ms/step - loss: -74.5200 - accuracy: 0.5273\n",
      "Epoch 67/100\n",
      "2/2 [==============================] - 0s 3ms/step - loss: -77.6808 - accuracy: 0.5273\n",
      "Epoch 68/100\n",
      "2/2 [==============================] - 0s 3ms/step - loss: -81.3336 - accuracy: 0.5273\n",
      "Epoch 69/100\n",
      "2/2 [==============================] - 0s 3ms/step - loss: -85.1967 - accuracy: 0.5273\n",
      "Epoch 70/100\n",
      "2/2 [==============================] - 0s 3ms/step - loss: -88.5856 - accuracy: 0.5273\n",
      "Epoch 71/100\n",
      "2/2 [==============================] - 0s 3ms/step - loss: -92.3188 - accuracy: 0.5273\n",
      "Epoch 72/100\n",
      "2/2 [==============================] - 0s 3ms/step - loss: -96.3122 - accuracy: 0.5273\n",
      "Epoch 73/100\n",
      "2/2 [==============================] - 0s 3ms/step - loss: -100.1983 - accuracy: 0.5273\n",
      "Epoch 74/100\n",
      "2/2 [==============================] - 0s 3ms/step - loss: -104.0451 - accuracy: 0.5273\n",
      "Epoch 75/100\n",
      "2/2 [==============================] - 0s 4ms/step - loss: -108.7039 - accuracy: 0.5273\n",
      "Epoch 76/100\n",
      "2/2 [==============================] - 0s 2ms/step - loss: -112.8744 - accuracy: 0.5273\n",
      "Epoch 77/100\n",
      "2/2 [==============================] - 0s 2ms/step - loss: -117.5841 - accuracy: 0.5273\n",
      "Epoch 78/100\n",
      "2/2 [==============================] - 0s 3ms/step - loss: -122.1593 - accuracy: 0.5273\n",
      "Epoch 79/100\n",
      "2/2 [==============================] - 0s 3ms/step - loss: -126.4425 - accuracy: 0.5273\n",
      "Epoch 80/100\n",
      "2/2 [==============================] - 0s 2ms/step - loss: -131.6705 - accuracy: 0.5273\n",
      "Epoch 81/100\n",
      "2/2 [==============================] - 0s 3ms/step - loss: -136.7128 - accuracy: 0.5273\n",
      "Epoch 82/100\n",
      "2/2 [==============================] - 0s 3ms/step - loss: -141.8079 - accuracy: 0.5273\n",
      "Epoch 83/100\n",
      "2/2 [==============================] - 0s 3ms/step - loss: -146.8654 - accuracy: 0.5273\n",
      "Epoch 84/100\n",
      "2/2 [==============================] - 0s 3ms/step - loss: -152.1715 - accuracy: 0.5273\n",
      "Epoch 85/100\n",
      "2/2 [==============================] - 0s 2ms/step - loss: -158.2031 - accuracy: 0.5273\n",
      "Epoch 86/100\n",
      "2/2 [==============================] - 0s 3ms/step - loss: -163.1153 - accuracy: 0.5273\n",
      "Epoch 87/100\n",
      "2/2 [==============================] - 0s 3ms/step - loss: -169.1639 - accuracy: 0.5273\n",
      "Epoch 88/100\n",
      "2/2 [==============================] - 0s 3ms/step - loss: -174.8590 - accuracy: 0.5273\n",
      "Epoch 89/100\n",
      "2/2 [==============================] - 0s 4ms/step - loss: -181.0187 - accuracy: 0.5273\n",
      "Epoch 90/100\n",
      "2/2 [==============================] - 0s 2ms/step - loss: -187.3925 - accuracy: 0.5273\n",
      "Epoch 91/100\n",
      "2/2 [==============================] - 0s 3ms/step - loss: -193.6671 - accuracy: 0.5273\n",
      "Epoch 92/100\n",
      "2/2 [==============================] - 0s 3ms/step - loss: -200.1086 - accuracy: 0.5273\n",
      "Epoch 93/100\n",
      "2/2 [==============================] - 0s 3ms/step - loss: -206.4715 - accuracy: 0.5273\n",
      "Epoch 94/100\n",
      "2/2 [==============================] - 0s 2ms/step - loss: -213.6183 - accuracy: 0.5273\n",
      "Epoch 95/100\n",
      "2/2 [==============================] - 0s 2ms/step - loss: -220.1366 - accuracy: 0.5273\n",
      "Epoch 96/100\n",
      "2/2 [==============================] - 0s 3ms/step - loss: -227.4912 - accuracy: 0.5273\n",
      "Epoch 97/100\n",
      "2/2 [==============================] - 0s 2ms/step - loss: -234.7139 - accuracy: 0.5273\n",
      "Epoch 98/100\n",
      "2/2 [==============================] - 0s 2ms/step - loss: -241.9771 - accuracy: 0.5273\n",
      "Epoch 99/100\n",
      "2/2 [==============================] - 0s 3ms/step - loss: -250.2290 - accuracy: 0.5273\n",
      "Epoch 100/100\n",
      "2/2 [==============================] - 0s 3ms/step - loss: -257.2385 - accuracy: 0.5273\n"
     ]
    },
    {
     "data": {
      "text/plain": [
       "<keras.callbacks.History at 0x7fd6fc0a3220>"
      ]
     },
     "execution_count": 220,
     "metadata": {},
     "output_type": "execute_result"
    }
   ],
   "source": [
    "model.fit(X_train, Y_train, epochs=epochs)"
   ]
  },
  {
   "cell_type": "code",
   "execution_count": 204,
   "metadata": {},
   "outputs": [
    {
     "data": {
      "text/plain": [
       "0.38181818181818183"
      ]
     },
     "execution_count": 204,
     "metadata": {},
     "output_type": "execute_result"
    }
   ],
   "source": [
    "from sklearn.cluster import KMeans, DBSCAN, AffinityPropagation, OPTICS\n",
    "\n",
    "cl = KMeans(n_clusters=2).fit(newX)\n",
    "cl.labels_\n",
    "ypred = cl.labels_ + 1\n",
    "ypred\n",
    "metrics.accuracy_score(newY, ypred)"
   ]
  },
  {
   "cell_type": "code",
   "execution_count": null,
   "metadata": {},
   "outputs": [],
   "source": []
  }
 ],
 "metadata": {
  "kernelspec": {
   "display_name": "Python 3",
   "language": "python",
   "name": "python3"
  },
  "language_info": {
   "codemirror_mode": {
    "name": "ipython",
    "version": 3
   },
   "file_extension": ".py",
   "mimetype": "text/x-python",
   "name": "python",
   "nbconvert_exporter": "python",
   "pygments_lexer": "ipython3",
   "version": "3.8.10"
  }
 },
 "nbformat": 4,
 "nbformat_minor": 2
}
