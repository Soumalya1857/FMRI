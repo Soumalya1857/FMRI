{
 "cells": [
  {
   "cell_type": "code",
   "execution_count": 19,
   "metadata": {},
   "outputs": [],
   "source": [
    "import os\n",
    "import pandas as pd\n",
    "import numpy as np"
   ]
  },
  {
   "cell_type": "code",
   "execution_count": 20,
   "metadata": {},
   "outputs": [],
   "source": [
    "from nilearn import image, plotting"
   ]
  },
  {
   "cell_type": "code",
   "execution_count": 21,
   "metadata": {},
   "outputs": [],
   "source": [
    "#rootdir = \"/home/sks/Documents/FMRI_Titir_Soumalya/25_Nov/ABIDE2_DATA\""
   ]
  },
  {
   "cell_type": "code",
   "execution_count": 22,
   "metadata": {},
   "outputs": [],
   "source": [
    "rootdir = \"/home/titir/Documents/Project Work/Dataset_ABIDEII\""
   ]
  },
  {
   "cell_type": "code",
   "execution_count": 23,
   "metadata": {},
   "outputs": [],
   "source": [
    "X_features = []"
   ]
  },
  {
   "cell_type": "code",
   "execution_count": 24,
   "metadata": {},
   "outputs": [],
   "source": [
    "i = 0"
   ]
  },
  {
   "cell_type": "code",
   "execution_count": 25,
   "metadata": {},
   "outputs": [],
   "source": [
    "fmri_filenames  = []\n",
    "\n",
    "        "
   ]
  },
  {
   "cell_type": "code",
   "execution_count": 26,
   "metadata": {},
   "outputs": [
    {
     "name": "stdout",
     "output_type": "stream",
     "text": [
      "10\n",
      "20\n",
      "30\n",
      "40\n",
      "50\n",
      "60\n",
      "70\n",
      "80\n",
      "90\n",
      "100\n",
      "110\n",
      "120\n",
      "130\n",
      "140\n",
      "147\n"
     ]
    }
   ],
   "source": [
    "\n",
    "for subdir, dir, files in os.walk(rootdir):\n",
    "    for file in files:\n",
    "        filename = os.path.join(subdir, file)\n",
    "        #print(filename)\n",
    "        \n",
    "        if (filename.find('rest.nii.gz') != -1):\n",
    "            i = i + 1\n",
    "            if (i % 10) == 0:\n",
    "                print(i)\n",
    "            #smooth_img = image.smooth_img(filename, fwhm=3)\n",
    "            #print(smooth_img.shape)\n",
    "            #X_features.append(smooth_img)\n",
    "            fmri_filenames.append(filename)\n",
    "            \n",
    "\n",
    "print(len(fmri_filenames))       \n",
    "        "
   ]
  },
  {
   "cell_type": "code",
   "execution_count": 12,
   "metadata": {},
   "outputs": [],
   "source": [
    "X_features_np = np.array(X_features)"
   ]
  },
  {
   "cell_type": "code",
   "execution_count": 13,
   "metadata": {},
   "outputs": [
    {
     "name": "stdout",
     "output_type": "stream",
     "text": [
      "50\n"
     ]
    }
   ],
   "source": [
    "print(len(X_features))"
   ]
  },
  {
   "cell_type": "code",
   "execution_count": 14,
   "metadata": {},
   "outputs": [
    {
     "name": "stdout",
     "output_type": "stream",
     "text": [
      "(50,)\n"
     ]
    }
   ],
   "source": [
    "print(X_features_np.shape)"
   ]
  },
  {
   "cell_type": "markdown",
   "metadata": {},
   "source": [
    "#### Checkpoint 1\n",
    "X_features have been extracted"
   ]
  },
  {
   "cell_type": "code",
   "execution_count": 27,
   "metadata": {},
   "outputs": [],
   "source": [
    "import pandas as pd"
   ]
  },
  {
   "cell_type": "code",
   "execution_count": 28,
   "metadata": {},
   "outputs": [],
   "source": [
    "import csv"
   ]
  },
  {
   "cell_type": "code",
   "execution_count": 96,
   "metadata": {},
   "outputs": [
    {
     "name": "stdout",
     "output_type": "stream",
     "text": [
      "['/home/titir/Documents/Project Work/Dataset_ABIDEII/ABIDEII-BNI_1/29036/session_1/rest_1/rest.nii.gz', '/home/titir/Documents/Project Work/Dataset_ABIDEII/ABIDEII-BNI_1/29050/session_1/rest_1/rest.nii.gz', '/home/titir/Documents/Project Work/Dataset_ABIDEII/ABIDEII-BNI_1/29022/session_1/rest_1/rest.nii.gz', '/home/titir/Documents/Project Work/Dataset_ABIDEII/ABIDEII-BNI_1/29055/session_1/rest_1/rest.nii.gz', '/home/titir/Documents/Project Work/Dataset_ABIDEII/ABIDEII-BNI_1/30147/session_1/rest_1/rest.nii.gz', '/home/titir/Documents/Project Work/Dataset_ABIDEII/ABIDEII-BNI_1/29014/session_1/rest_1/rest.nii.gz', '/home/titir/Documents/Project Work/Dataset_ABIDEII/ABIDEII-BNI_1/29042/session_1/rest_1/rest.nii.gz', '/home/titir/Documents/Project Work/Dataset_ABIDEII/ABIDEII-BNI_1/29033/session_1/rest_1/rest.nii.gz', '/home/titir/Documents/Project Work/Dataset_ABIDEII/ABIDEII-BNI_1/29056/session_1/rest_1/rest.nii.gz', '/home/titir/Documents/Project Work/Dataset_ABIDEII/ABIDEII-BNI_1/29028/session_1/rest_1/rest.nii.gz', '/home/titir/Documents/Project Work/Dataset_ABIDEII/ABIDEII-BNI_1/29038/session_1/rest_1/rest.nii.gz', '/home/titir/Documents/Project Work/Dataset_ABIDEII/ABIDEII-BNI_1/29041/session_1/rest_1/rest.nii.gz', '/home/titir/Documents/Project Work/Dataset_ABIDEII/ABIDEII-BNI_1/29029/session_1/rest_1/rest.nii.gz', '/home/titir/Documents/Project Work/Dataset_ABIDEII/ABIDEII-BNI_1/29007/session_1/rest_1/rest.nii.gz', '/home/titir/Documents/Project Work/Dataset_ABIDEII/ABIDEII-BNI_1/30151/session_1/rest_1/rest.nii.gz', '/home/titir/Documents/Project Work/Dataset_ABIDEII/ABIDEII-BNI_1/29027/session_1/rest_1/rest.nii.gz', '/home/titir/Documents/Project Work/Dataset_ABIDEII/ABIDEII-BNI_1/29039/session_1/rest_1/rest.nii.gz', '/home/titir/Documents/Project Work/Dataset_ABIDEII/ABIDEII-BNI_1/29011/session_1/rest_1/rest.nii.gz', '/home/titir/Documents/Project Work/Dataset_ABIDEII/ABIDEII-BNI_1/29031/session_1/rest_1/rest.nii.gz', '/home/titir/Documents/Project Work/Dataset_ABIDEII/ABIDEII-BNI_1/29051/session_1/rest_1/rest.nii.gz', '/home/titir/Documents/Project Work/Dataset_ABIDEII/ABIDEII-BNI_1/29017/session_1/rest_1/rest.nii.gz', '/home/titir/Documents/Project Work/Dataset_ABIDEII/ABIDEII-BNI_1/29018/session_1/rest_1/rest.nii.gz', '/home/titir/Documents/Project Work/Dataset_ABIDEII/ABIDEII-BNI_1/30146/session_1/rest_1/rest.nii.gz', '/home/titir/Documents/Project Work/Dataset_ABIDEII/ABIDEII-BNI_1/30144/session_1/rest_1/rest.nii.gz', '/home/titir/Documents/Project Work/Dataset_ABIDEII/ABIDEII-BNI_1/29052/session_1/rest_1/rest.nii.gz', '/home/titir/Documents/Project Work/Dataset_ABIDEII/ABIDEII-BNI_1/29015/session_1/rest_1/rest.nii.gz', '/home/titir/Documents/Project Work/Dataset_ABIDEII/ABIDEII-BNI_1/29054/session_1/rest_1/rest.nii.gz', '/home/titir/Documents/Project Work/Dataset_ABIDEII/ABIDEII-BNI_1/29049/session_1/rest_1/rest.nii.gz', '/home/titir/Documents/Project Work/Dataset_ABIDEII/ABIDEII-BNI_1/29030/session_1/rest_1/rest.nii.gz', '/home/titir/Documents/Project Work/Dataset_ABIDEII/ABIDEII-BNI_1/30148/session_1/rest_1/rest.nii.gz', '/home/titir/Documents/Project Work/Dataset_ABIDEII/ABIDEII-BNI_1/29032/session_1/rest_1/rest.nii.gz', '/home/titir/Documents/Project Work/Dataset_ABIDEII/ABIDEII-BNI_1/30150/session_1/rest_1/rest.nii.gz', '/home/titir/Documents/Project Work/Dataset_ABIDEII/ABIDEII-BNI_1/29025/session_1/rest_1/rest.nii.gz', '/home/titir/Documents/Project Work/Dataset_ABIDEII/ABIDEII-BNI_1/29047/session_1/rest_1/rest.nii.gz', '/home/titir/Documents/Project Work/Dataset_ABIDEII/ABIDEII-BNI_1/29019/session_1/rest_1/rest.nii.gz', '/home/titir/Documents/Project Work/Dataset_ABIDEII/ABIDEII-BNI_1/29008/session_1/rest_1/rest.nii.gz', '/home/titir/Documents/Project Work/Dataset_ABIDEII/ABIDEII-BNI_1/29016/session_1/rest_1/rest.nii.gz', '/home/titir/Documents/Project Work/Dataset_ABIDEII/ABIDEII-BNI_1/29023/session_1/rest_1/rest.nii.gz', '/home/titir/Documents/Project Work/Dataset_ABIDEII/ABIDEII-BNI_1/30149/session_1/rest_1/rest.nii.gz', '/home/titir/Documents/Project Work/Dataset_ABIDEII/ABIDEII-BNI_1/29035/session_1/rest_1/rest.nii.gz', '/home/titir/Documents/Project Work/Dataset_ABIDEII/ABIDEII-BNI_1/29020/session_1/rest_1/rest.nii.gz', '/home/titir/Documents/Project Work/Dataset_ABIDEII/ABIDEII-BNI_1/29048/session_1/rest_1/rest.nii.gz', '/home/titir/Documents/Project Work/Dataset_ABIDEII/ABIDEII-BNI_1/29044/session_1/rest_1/rest.nii.gz', '/home/titir/Documents/Project Work/Dataset_ABIDEII/ABIDEII-BNI_1/29021/session_1/rest_1/rest.nii.gz', '/home/titir/Documents/Project Work/Dataset_ABIDEII/ABIDEII-BNI_1/29010/session_1/rest_1/rest.nii.gz', '/home/titir/Documents/Project Work/Dataset_ABIDEII/ABIDEII-BNI_1/29037/session_1/rest_1/rest.nii.gz', '/home/titir/Documents/Project Work/Dataset_ABIDEII/ABIDEII-BNI_1/29034/session_1/rest_1/rest.nii.gz', '/home/titir/Documents/Project Work/Dataset_ABIDEII/ABIDEII-BNI_1/29046/session_1/rest_1/rest.nii.gz', '/home/titir/Documents/Project Work/Dataset_ABIDEII/ABIDEII-BNI_1/29053/session_1/rest_1/rest.nii.gz', '/home/titir/Documents/Project Work/Dataset_ABIDEII/ABIDEII-BNI_1/29026/session_1/rest_1/rest.nii.gz', '/home/titir/Documents/Project Work/Dataset_ABIDEII/ABIDEII-BNI_1/29009/session_1/rest_1/rest.nii.gz', '/home/titir/Documents/Project Work/Dataset_ABIDEII/ABIDEII-BNI_1/29012/session_1/rest_1/rest.nii.gz', '/home/titir/Documents/Project Work/Dataset_ABIDEII/ABIDEII-BNI_1/29043/session_1/rest_1/rest.nii.gz', '/home/titir/Documents/Project Work/Dataset_ABIDEII/ABIDEII-BNI_1/29040/session_1/rest_1/rest.nii.gz', '/home/titir/Documents/Project Work/Dataset_ABIDEII/ABIDEII-BNI_1/29045/session_1/rest_1/rest.nii.gz', '/home/titir/Documents/Project Work/Dataset_ABIDEII/ABIDEII-BNI_1/29006/session_1/rest_1/rest.nii.gz', '/home/titir/Documents/Project Work/Dataset_ABIDEII/ABIDEII-BNI_1/29024/session_1/rest_1/rest.nii.gz', '/home/titir/Documents/Project Work/Dataset_ABIDEII/ABIDEII-BNI_1/29013/session_1/rest_1/rest.nii.gz', '/home/titir/Documents/Project Work/Dataset_ABIDEII/ABIDEII-ETH_1/29066/session_1/rest_1/rest.nii.gz', '/home/titir/Documents/Project Work/Dataset_ABIDEII/ABIDEII-ETH_1/29083/session_1/rest_1/rest.nii.gz', '/home/titir/Documents/Project Work/Dataset_ABIDEII/ABIDEII-ETH_1/29093/session_1/rest_1/rest.nii.gz', '/home/titir/Documents/Project Work/Dataset_ABIDEII/ABIDEII-ETH_1/29091/session_1/rest_1/rest.nii.gz', '/home/titir/Documents/Project Work/Dataset_ABIDEII/ABIDEII-ETH_1/29063/session_1/rest_1/rest.nii.gz', '/home/titir/Documents/Project Work/Dataset_ABIDEII/ABIDEII-ETH_1/29068/session_1/rest_1/rest.nii.gz', '/home/titir/Documents/Project Work/Dataset_ABIDEII/ABIDEII-ETH_1/29057/session_1/rest_1/rest.nii.gz', '/home/titir/Documents/Project Work/Dataset_ABIDEII/ABIDEII-ETH_1/29092/session_1/rest_1/rest.nii.gz', '/home/titir/Documents/Project Work/Dataset_ABIDEII/ABIDEII-ETH_1/29059/session_1/rest_1/rest.nii.gz', '/home/titir/Documents/Project Work/Dataset_ABIDEII/ABIDEII-ETH_1/29078/session_1/rest_1/rest.nii.gz', '/home/titir/Documents/Project Work/Dataset_ABIDEII/ABIDEII-ETH_1/29064/session_1/rest_1/rest.nii.gz', '/home/titir/Documents/Project Work/Dataset_ABIDEII/ABIDEII-ETH_1/29076/session_1/rest_1/rest.nii.gz', '/home/titir/Documents/Project Work/Dataset_ABIDEII/ABIDEII-ETH_1/29082/session_1/rest_1/rest.nii.gz', '/home/titir/Documents/Project Work/Dataset_ABIDEII/ABIDEII-ETH_1/29080/session_1/rest_1/rest.nii.gz', '/home/titir/Documents/Project Work/Dataset_ABIDEII/ABIDEII-ETH_1/29071/session_1/rest_1/rest.nii.gz', '/home/titir/Documents/Project Work/Dataset_ABIDEII/ABIDEII-ETH_1/29067/session_1/rest_1/rest.nii.gz', '/home/titir/Documents/Project Work/Dataset_ABIDEII/ABIDEII-ETH_1/29072/session_1/rest_1/rest.nii.gz', '/home/titir/Documents/Project Work/Dataset_ABIDEII/ABIDEII-ETH_1/29060/session_1/rest_1/rest.nii.gz', '/home/titir/Documents/Project Work/Dataset_ABIDEII/ABIDEII-ETH_1/29075/session_1/rest_1/rest.nii.gz', '/home/titir/Documents/Project Work/Dataset_ABIDEII/ABIDEII-ETH_1/29094/session_1/rest_1/rest.nii.gz', '/home/titir/Documents/Project Work/Dataset_ABIDEII/ABIDEII-ETH_1/29065/session_1/rest_1/rest.nii.gz', '/home/titir/Documents/Project Work/Dataset_ABIDEII/ABIDEII-ETH_1/29058/session_1/rest_1/rest.nii.gz', '/home/titir/Documents/Project Work/Dataset_ABIDEII/ABIDEII-ETH_1/29077/session_1/rest_1/rest.nii.gz', '/home/titir/Documents/Project Work/Dataset_ABIDEII/ABIDEII-ETH_1/29085/session_1/rest_1/rest.nii.gz', '/home/titir/Documents/Project Work/Dataset_ABIDEII/ABIDEII-ETH_1/29074/session_1/rest_1/rest.nii.gz', '/home/titir/Documents/Project Work/Dataset_ABIDEII/ABIDEII-ETH_1/29079/session_1/rest_1/rest.nii.gz', '/home/titir/Documents/Project Work/Dataset_ABIDEII/ABIDEII-ETH_1/29086/session_1/rest_1/rest.nii.gz', '/home/titir/Documents/Project Work/Dataset_ABIDEII/ABIDEII-ETH_1/29089/session_1/rest_1/rest.nii.gz', '/home/titir/Documents/Project Work/Dataset_ABIDEII/ABIDEII-ETH_1/29084/session_1/rest_1/rest.nii.gz', '/home/titir/Documents/Project Work/Dataset_ABIDEII/ABIDEII-ETH_1/29090/session_1/rest_1/rest.nii.gz', '/home/titir/Documents/Project Work/Dataset_ABIDEII/ABIDEII-ETH_1/29062/session_1/rest_1/rest.nii.gz', '/home/titir/Documents/Project Work/Dataset_ABIDEII/ABIDEII-ETH_1/29073/session_1/rest_1/rest.nii.gz', '/home/titir/Documents/Project Work/Dataset_ABIDEII/ABIDEII-ETH_1/29087/session_1/rest_1/rest.nii.gz', '/home/titir/Documents/Project Work/Dataset_ABIDEII/ABIDEII-ETH_1/29088/session_1/rest_1/rest.nii.gz', '/home/titir/Documents/Project Work/Dataset_ABIDEII/ABIDEII-ETH_1/29070/session_1/rest_1/rest.nii.gz', '/home/titir/Documents/Project Work/Dataset_ABIDEII/ABIDEII-EMC_1/29910/session_1/rest_1/rest.nii.gz', '/home/titir/Documents/Project Work/Dataset_ABIDEII/ABIDEII-EMC_1/29890/session_1/rest_1/rest.nii.gz', '/home/titir/Documents/Project Work/Dataset_ABIDEII/ABIDEII-EMC_1/29887/session_1/rest_1/rest.nii.gz', '/home/titir/Documents/Project Work/Dataset_ABIDEII/ABIDEII-EMC_1/29895/session_1/rest_1/rest.nii.gz', '/home/titir/Documents/Project Work/Dataset_ABIDEII/ABIDEII-EMC_1/29881/session_1/rest_1/rest.nii.gz', '/home/titir/Documents/Project Work/Dataset_ABIDEII/ABIDEII-EMC_1/29902/session_1/rest_1/rest.nii.gz', '/home/titir/Documents/Project Work/Dataset_ABIDEII/ABIDEII-EMC_1/29865/session_1/rest_1/rest.nii.gz', '/home/titir/Documents/Project Work/Dataset_ABIDEII/ABIDEII-EMC_1/29873/session_1/rest_1/rest.nii.gz', '/home/titir/Documents/Project Work/Dataset_ABIDEII/ABIDEII-EMC_1/29875/session_1/rest_1/rest.nii.gz', '/home/titir/Documents/Project Work/Dataset_ABIDEII/ABIDEII-EMC_1/29877/session_1/rest_1/rest.nii.gz', '/home/titir/Documents/Project Work/Dataset_ABIDEII/ABIDEII-EMC_1/29915/session_1/rest_1/rest.nii.gz', '/home/titir/Documents/Project Work/Dataset_ABIDEII/ABIDEII-EMC_1/29917/session_1/rest_1/rest.nii.gz', '/home/titir/Documents/Project Work/Dataset_ABIDEII/ABIDEII-EMC_1/29868/session_1/rest_1/rest.nii.gz', '/home/titir/Documents/Project Work/Dataset_ABIDEII/ABIDEII-EMC_1/29905/session_1/rest_1/rest.nii.gz', '/home/titir/Documents/Project Work/Dataset_ABIDEII/ABIDEII-EMC_1/29897/session_1/rest_1/rest.nii.gz', '/home/titir/Documents/Project Work/Dataset_ABIDEII/ABIDEII-EMC_1/29907/session_1/rest_1/rest.nii.gz', '/home/titir/Documents/Project Work/Dataset_ABIDEII/ABIDEII-EMC_1/29891/session_1/rest_1/rest.nii.gz', '/home/titir/Documents/Project Work/Dataset_ABIDEII/ABIDEII-EMC_1/29874/session_1/rest_1/rest.nii.gz', '/home/titir/Documents/Project Work/Dataset_ABIDEII/ABIDEII-EMC_1/29912/session_1/rest_1/rest.nii.gz', '/home/titir/Documents/Project Work/Dataset_ABIDEII/ABIDEII-EMC_1/29909/session_1/rest_1/rest.nii.gz', '/home/titir/Documents/Project Work/Dataset_ABIDEII/ABIDEII-EMC_1/29869/session_1/rest_1/rest.nii.gz', '/home/titir/Documents/Project Work/Dataset_ABIDEII/ABIDEII-EMC_1/29883/session_1/rest_1/rest.nii.gz', '/home/titir/Documents/Project Work/Dataset_ABIDEII/ABIDEII-EMC_1/29900/session_1/rest_1/rest.nii.gz', '/home/titir/Documents/Project Work/Dataset_ABIDEII/ABIDEII-EMC_1/29870/session_1/rest_1/rest.nii.gz', '/home/titir/Documents/Project Work/Dataset_ABIDEII/ABIDEII-EMC_1/29880/session_1/rest_1/rest.nii.gz', '/home/titir/Documents/Project Work/Dataset_ABIDEII/ABIDEII-EMC_1/29885/session_1/rest_1/rest.nii.gz', '/home/titir/Documents/Project Work/Dataset_ABIDEII/ABIDEII-EMC_1/29882/session_1/rest_1/rest.nii.gz', '/home/titir/Documents/Project Work/Dataset_ABIDEII/ABIDEII-EMC_1/29866/session_1/rest_1/rest.nii.gz', '/home/titir/Documents/Project Work/Dataset_ABIDEII/ABIDEII-EMC_1/29901/session_1/rest_1/rest.nii.gz', '/home/titir/Documents/Project Work/Dataset_ABIDEII/ABIDEII-EMC_1/29889/session_1/rest_1/rest.nii.gz', '/home/titir/Documents/Project Work/Dataset_ABIDEII/ABIDEII-EMC_1/29894/session_1/rest_1/rest.nii.gz', '/home/titir/Documents/Project Work/Dataset_ABIDEII/ABIDEII-EMC_1/29886/session_1/rest_1/rest.nii.gz', '/home/titir/Documents/Project Work/Dataset_ABIDEII/ABIDEII-EMC_1/29892/session_1/rest_1/rest.nii.gz', '/home/titir/Documents/Project Work/Dataset_ABIDEII/ABIDEII-EMC_1/29864/session_1/rest_1/rest.nii.gz', '/home/titir/Documents/Project Work/Dataset_ABIDEII/ABIDEII-EMC_1/29904/session_1/rest_1/rest.nii.gz', '/home/titir/Documents/Project Work/Dataset_ABIDEII/ABIDEII-EMC_1/29867/session_1/rest_1/rest.nii.gz', '/home/titir/Documents/Project Work/Dataset_ABIDEII/ABIDEII-EMC_1/29898/session_1/rest_1/rest.nii.gz', '/home/titir/Documents/Project Work/Dataset_ABIDEII/ABIDEII-EMC_1/29884/session_1/rest_1/rest.nii.gz', '/home/titir/Documents/Project Work/Dataset_ABIDEII/ABIDEII-EMC_1/29899/session_1/rest_1/rest.nii.gz', '/home/titir/Documents/Project Work/Dataset_ABIDEII/ABIDEII-EMC_1/29913/session_1/rest_1/rest.nii.gz', '/home/titir/Documents/Project Work/Dataset_ABIDEII/ABIDEII-EMC_1/29871/session_1/rest_1/rest.nii.gz', '/home/titir/Documents/Project Work/Dataset_ABIDEII/ABIDEII-EMC_1/29914/session_1/rest_1/rest.nii.gz', '/home/titir/Documents/Project Work/Dataset_ABIDEII/ABIDEII-EMC_1/29893/session_1/rest_1/rest.nii.gz', '/home/titir/Documents/Project Work/Dataset_ABIDEII/ABIDEII-EMC_1/29896/session_1/rest_1/rest.nii.gz', '/home/titir/Documents/Project Work/Dataset_ABIDEII/ABIDEII-EMC_1/29906/session_1/rest_1/rest.nii.gz', '/home/titir/Documents/Project Work/Dataset_ABIDEII/ABIDEII-EMC_1/29916/session_1/rest_1/rest.nii.gz', '/home/titir/Documents/Project Work/Dataset_ABIDEII/ABIDEII-EMC_1/29911/session_1/rest_1/rest.nii.gz', '/home/titir/Documents/Project Work/Dataset_ABIDEII/ABIDEII-EMC_1/29879/session_1/rest_1/rest.nii.gz', '/home/titir/Documents/Project Work/Dataset_ABIDEII/ABIDEII-EMC_1/29903/session_1/rest_1/rest.nii.gz', '/home/titir/Documents/Project Work/Dataset_ABIDEII/ABIDEII-EMC_1/29888/session_1/rest_1/rest.nii.gz', '/home/titir/Documents/Project Work/Dataset_ABIDEII/ABIDEII-EMC_1/29872/session_1/rest_1/rest.nii.gz', '/home/titir/Documents/Project Work/Dataset_ABIDEII/ABIDEII-EMC_1/29878/session_1/rest_1/rest.nii.gz', '/home/titir/Documents/Project Work/Dataset_ABIDEII/ABIDEII-EMC_1/29908/session_1/rest_1/rest.nii.gz', '/home/titir/Documents/Project Work/Dataset_ABIDEII/ABIDEII-EMC_1/29876/session_1/rest_1/rest.nii.gz']\n"
     ]
    }
   ],
   "source": [
    "print(fmri_filenames)"
   ]
  },
  {
   "cell_type": "code",
   "execution_count": 29,
   "metadata": {},
   "outputs": [],
   "source": [
    "ytarget = []\n",
    "with open(\"ABIDEII-BNI_1.csv\", 'r') as f:\n",
    "    mycsv = csv.reader(f)\n",
    "    for row in mycsv:\n",
    "        text = row[3] #dx_group\n",
    "        #print(text)\n",
    "        ytarget.append(text)\n",
    "ytarget = ytarget[1:]\n",
    "with open(\"ABIDEII-ETH_1.csv\", 'r') as f:\n",
    "    mycsv = csv.reader(f)\n",
    "    i = 0\n",
    "    for row in mycsv:\n",
    "        if i == 0:\n",
    "            i = i + 1\n",
    "            continue\n",
    "        text = row[3] #dx_group\n",
    "        #print(text)\n",
    "        ytarget.append(text)\n",
    "ytarget = ytarget[1:]\n",
    "with open(\"ABIDEII-EMC_1.csv\", 'r') as f:\n",
    "    mycsv = csv.reader(f)\n",
    "    i = 0\n",
    "    for row in mycsv:\n",
    "        if i == 0:\n",
    "            i = i + 1\n",
    "            continue\n",
    "        text = row[3] #dx_group\n",
    "        #print(text)\n",
    "        ytarget.append(text)\n",
    "ytarget = ytarget[1:]\n",
    "\n",
    "\n",
    "ytarget = [int(v) for v in ytarget]"
   ]
  },
  {
   "cell_type": "code",
   "execution_count": 30,
   "metadata": {
    "scrolled": true
   },
   "outputs": [
    {
     "data": {
      "text/plain": [
       "147"
      ]
     },
     "execution_count": 30,
     "metadata": {},
     "output_type": "execute_result"
    }
   ],
   "source": [
    "len(ytarget)"
   ]
  },
  {
   "cell_type": "code",
   "execution_count": 31,
   "metadata": {},
   "outputs": [
    {
     "data": {
      "text/plain": [
       "147"
      ]
     },
     "execution_count": 31,
     "metadata": {},
     "output_type": "execute_result"
    }
   ],
   "source": [
    "len(fmri_filenames)"
   ]
  },
  {
   "cell_type": "code",
   "execution_count": 47,
   "metadata": {},
   "outputs": [
    {
     "data": {
      "text/plain": [
       "1"
      ]
     },
     "execution_count": 47,
     "metadata": {},
     "output_type": "execute_result"
    }
   ],
   "source": [
    "ytarget[0]"
   ]
  },
  {
   "cell_type": "code",
   "execution_count": 48,
   "metadata": {},
   "outputs": [],
   "source": [
    "ytarget = [int(v) for v in ytarget]\n",
    "ytarget_np = np.array(ytarget)"
   ]
  },
  {
   "cell_type": "code",
   "execution_count": 68,
   "metadata": {},
   "outputs": [],
   "source": [
    "from sklearn import svm"
   ]
  },
  {
   "cell_type": "code",
   "execution_count": 26,
   "metadata": {},
   "outputs": [
    {
     "data": {
      "text/plain": [
       "50"
      ]
     },
     "execution_count": 26,
     "metadata": {},
     "output_type": "execute_result"
    }
   ],
   "source": [
    "#shuffle\n",
    "import random\n",
    "\n",
    "c = list(zip(X_features_cm, ytarget_np))\n",
    "\n",
    "random.shuffle(c)\n",
    "\n",
    "X, y = zip(*c)\n",
    "len(y)"
   ]
  },
  {
   "cell_type": "code",
   "execution_count": 34,
   "metadata": {},
   "outputs": [
    {
     "name": "stdout",
     "output_type": "stream",
     "text": [
      "2016\n"
     ]
    }
   ],
   "source": [
    "print(len(X[0]))"
   ]
  },
  {
   "cell_type": "code",
   "execution_count": 30,
   "metadata": {},
   "outputs": [
    {
     "data": {
      "text/plain": [
       "tuple"
      ]
     },
     "execution_count": 30,
     "metadata": {},
     "output_type": "execute_result"
    }
   ],
   "source": [
    "type(X)"
   ]
  },
  {
   "cell_type": "code",
   "execution_count": null,
   "metadata": {},
   "outputs": [],
   "source": [
    "index = 0\n",
    "for i in range(len(X)):\n",
    "    if len(X[i]) != 2016:\n",
    "        index = i\n",
    "        \n"
   ]
  },
  {
   "cell_type": "code",
   "execution_count": null,
   "metadata": {},
   "outputs": [],
   "source": [
    "new_arr = np.delete(X, np.where(len(X) != 2016))"
   ]
  },
  {
   "cell_type": "code",
   "execution_count": null,
   "metadata": {},
   "outputs": [
    {
     "data": {
      "text/plain": [
       "49"
      ]
     },
     "execution_count": 112,
     "metadata": {},
     "output_type": "execute_result"
    }
   ],
   "source": [
    "np.delete(y, index)\n",
    "len(y)"
   ]
  },
  {
   "cell_type": "code",
   "execution_count": 35,
   "metadata": {},
   "outputs": [],
   "source": [
    "newX = []\n",
    "newY = []\n",
    "for i in range(50):\n",
    "    if len(X[i]) == 2016:\n",
    "        newX.append(X[i])\n",
    "        newY.append(y[i])"
   ]
  },
  {
   "cell_type": "code",
   "execution_count": 37,
   "metadata": {},
   "outputs": [
    {
     "data": {
      "text/plain": [
       "48"
      ]
     },
     "execution_count": 37,
     "metadata": {},
     "output_type": "execute_result"
    }
   ],
   "source": [
    "len(newY)"
   ]
  },
  {
   "cell_type": "code",
   "execution_count": 45,
   "metadata": {},
   "outputs": [],
   "source": [
    "trainset_x = newX[:40]\n",
    "trainset_y = newY[:40]\n",
    "testset_x = newX[40:]\n",
    "testset_y = newY[40:]"
   ]
  },
  {
   "cell_type": "code",
   "execution_count": 46,
   "metadata": {},
   "outputs": [
    {
     "name": "stdout",
     "output_type": "stream",
     "text": [
      "[2, 2, 1, 1, 1, 1, 2, 2, 2, 2, 1, 1, 1, 2, 2, 2, 2, 1, 1, 1, 1, 2, 1, 1, 1, 1, 1, 1, 2, 1, 1, 2, 1, 2, 1, 2, 1, 2, 1, 2]\n"
     ]
    }
   ],
   "source": [
    "print(trainset_y)"
   ]
  },
  {
   "cell_type": "code",
   "execution_count": 47,
   "metadata": {},
   "outputs": [
    {
     "data": {
      "text/plain": [
       "SVC()"
      ]
     },
     "execution_count": 47,
     "metadata": {},
     "output_type": "execute_result"
    }
   ],
   "source": [
    "from sklearn import svm\n",
    "clsf = svm.SVC()\n",
    "clsf.fit(trainset_x, trainset_y)"
   ]
  },
  {
   "cell_type": "code",
   "execution_count": null,
   "metadata": {},
   "outputs": [],
   "source": []
  },
  {
   "cell_type": "code",
   "execution_count": 48,
   "metadata": {},
   "outputs": [],
   "source": [
    "count_correct = 0\n",
    "count_total  = 0\n",
    "for i in range(len(testset_y)):\n",
    "    ans = clsf.predict([testset_x[i]])\n",
    "    if ans == testset_y[i]:\n",
    "        count_correct = count_correct + 1\n",
    "    count_total = count_total + 1"
   ]
  },
  {
   "cell_type": "code",
   "execution_count": 49,
   "metadata": {},
   "outputs": [
    {
     "data": {
      "text/plain": [
       "0.625"
      ]
     },
     "execution_count": 49,
     "metadata": {},
     "output_type": "execute_result"
    }
   ],
   "source": [
    "count_correct/count_total\n"
   ]
  },
  {
   "cell_type": "code",
   "execution_count": 32,
   "metadata": {},
   "outputs": [],
   "source": [
    "from nilearn import datasets\n",
    "from nilearn.input_data import NiftiLabelsMasker\n",
    "from nilearn.connectome import ConnectivityMeasure\n",
    "from sklearn.decomposition import PCA"
   ]
  },
  {
   "cell_type": "code",
   "execution_count": 33,
   "metadata": {},
   "outputs": [
    {
     "name": "stdout",
     "output_type": "stream",
     "text": [
      "Requirement already satisfied: numba in /home/titir/.local/lib/python3.8/site-packages (0.54.1)\n",
      "Requirement already satisfied: setuptools in /usr/lib/python3/dist-packages (from numba) (45.2.0)\n",
      "Requirement already satisfied: numpy<1.21,>=1.17 in /usr/lib/python3/dist-packages (from numba) (1.17.4)\n",
      "Requirement already satisfied: llvmlite<0.38,>=0.37.0rc1 in /home/titir/.local/lib/python3.8/site-packages (from numba) (0.37.0)\n",
      "Note: you may need to restart the kernel to use updated packages.\n"
     ]
    }
   ],
   "source": [
    "pip install numba"
   ]
  },
  {
   "cell_type": "code",
   "execution_count": 34,
   "metadata": {},
   "outputs": [],
   "source": [
    "from numba import jit, cuda"
   ]
  },
  {
   "cell_type": "code",
   "execution_count": 45,
   "metadata": {},
   "outputs": [
    {
     "name": "stdout",
     "output_type": "stream",
     "text": [
      "finished extracting 1 of 147\n",
      "finished extracting 2 of 147\n",
      "finished extracting 3 of 147\n",
      "finished extracting 4 of 147\n",
      "finished extracting 5 of 147\n",
      "finished extracting 6 of 147\n",
      "finished extracting 7 of 147\n",
      "finished extracting 8 of 147\n",
      "finished extracting 9 of 147\n",
      "finished extracting 10 of 147\n",
      "finished extracting 11 of 147\n",
      "finished extracting 12 of 147\n",
      "finished extracting 13 of 147\n",
      "finished extracting 14 of 147\n",
      "finished extracting 15 of 147\n",
      "finished extracting 16 of 147\n",
      "finished extracting 17 of 147\n",
      "finished extracting 18 of 147\n",
      "finished extracting 19 of 147\n",
      "finished extracting 20 of 147\n",
      "finished extracting 21 of 147\n",
      "finished extracting 22 of 147\n",
      "finished extracting 23 of 147\n",
      "finished extracting 24 of 147\n",
      "finished extracting 25 of 147\n",
      "finished extracting 26 of 147\n",
      "finished extracting 27 of 147\n",
      "finished extracting 28 of 147\n",
      "finished extracting 29 of 147\n",
      "finished extracting 30 of 147\n",
      "finished extracting 31 of 147\n",
      "finished extracting 32 of 147\n",
      "finished extracting 33 of 147\n",
      "finished extracting 34 of 147\n",
      "finished extracting 35 of 147\n",
      "finished extracting 36 of 147\n",
      "finished extracting 37 of 147\n",
      "finished extracting 38 of 147\n",
      "finished extracting 39 of 147\n",
      "finished extracting 40 of 147\n",
      "finished extracting 41 of 147\n",
      "finished extracting 42 of 147\n",
      "finished extracting 43 of 147\n",
      "finished extracting 44 of 147\n",
      "finished extracting 45 of 147\n",
      "finished extracting 46 of 147\n",
      "finished extracting 47 of 147\n",
      "finished extracting 48 of 147\n",
      "finished extracting 49 of 147\n",
      "finished extracting 50 of 147\n",
      "finished extracting 51 of 147\n",
      "finished extracting 52 of 147\n",
      "finished extracting 53 of 147\n",
      "finished extracting 54 of 147\n",
      "finished extracting 55 of 147\n",
      "finished extracting 56 of 147\n",
      "finished extracting 57 of 147\n",
      "finished extracting 58 of 147\n",
      "finished extracting 59 of 147\n",
      "finished extracting 60 of 147\n",
      "finished extracting 61 of 147\n",
      "finished extracting 62 of 147\n",
      "finished extracting 63 of 147\n",
      "finished extracting 64 of 147\n",
      "finished extracting 65 of 147\n",
      "finished extracting 66 of 147\n",
      "finished extracting 67 of 147\n",
      "finished extracting 68 of 147\n",
      "finished extracting 69 of 147\n",
      "finished extracting 70 of 147\n",
      "finished extracting 71 of 147\n",
      "finished extracting 72 of 147\n",
      "finished extracting 73 of 147\n",
      "finished extracting 74 of 147\n",
      "finished extracting 75 of 147\n",
      "finished extracting 76 of 147\n",
      "finished extracting 77 of 147\n",
      "finished extracting 78 of 147\n",
      "finished extracting 79 of 147\n",
      "finished extracting 80 of 147\n",
      "finished extracting 81 of 147\n",
      "finished extracting 82 of 147\n",
      "finished extracting 83 of 147\n",
      "finished extracting 84 of 147\n",
      "finished extracting 85 of 147\n",
      "finished extracting 86 of 147\n",
      "finished extracting 87 of 147\n",
      "finished extracting 88 of 147\n",
      "finished extracting 89 of 147\n",
      "finished extracting 90 of 147\n",
      "finished extracting 91 of 147\n",
      "finished extracting 92 of 147\n",
      "finished extracting 93 of 147\n",
      "finished extracting 94 of 147\n",
      "finished extracting 95 of 147\n",
      "finished extracting 96 of 147\n",
      "finished extracting 97 of 147\n",
      "finished extracting 98 of 147\n",
      "finished extracting 99 of 147\n",
      "finished extracting 100 of 147\n",
      "finished extracting 101 of 147\n",
      "finished extracting 102 of 147\n",
      "finished extracting 103 of 147\n",
      "finished extracting 104 of 147\n",
      "finished extracting 105 of 147\n",
      "finished extracting 106 of 147\n",
      "finished extracting 107 of 147\n",
      "finished extracting 108 of 147\n",
      "finished extracting 109 of 147\n",
      "finished extracting 110 of 147\n",
      "finished extracting 111 of 147\n",
      "finished extracting 112 of 147\n",
      "finished extracting 113 of 147\n",
      "finished extracting 114 of 147\n",
      "finished extracting 115 of 147\n",
      "finished extracting 116 of 147\n",
      "finished extracting 117 of 147\n",
      "finished extracting 118 of 147\n",
      "finished extracting 119 of 147\n",
      "finished extracting 120 of 147\n",
      "finished extracting 121 of 147\n",
      "finished extracting 122 of 147\n",
      "finished extracting 123 of 147\n",
      "finished extracting 124 of 147\n",
      "finished extracting 125 of 147\n",
      "finished extracting 126 of 147\n",
      "finished extracting 127 of 147\n",
      "finished extracting 128 of 147\n",
      "finished extracting 129 of 147\n",
      "finished extracting 130 of 147\n",
      "finished extracting 131 of 147\n",
      "finished extracting 132 of 147\n",
      "finished extracting 133 of 147\n",
      "finished extracting 134 of 147\n",
      "finished extracting 135 of 147\n",
      "finished extracting 136 of 147\n",
      "finished extracting 137 of 147\n",
      "finished extracting 138 of 147\n",
      "finished extracting 139 of 147\n",
      "finished extracting 140 of 147\n",
      "finished extracting 141 of 147\n",
      "finished extracting 142 of 147\n",
      "finished extracting 143 of 147\n",
      "finished extracting 144 of 147\n",
      "finished extracting 145 of 147\n",
      "finished extracting 146 of 147\n",
      "finished extracting 147 of 147\n"
     ]
    }
   ],
   "source": [
    "def prepare_data():\n",
    "    multiscale = datasets.fetch_atlas_basc_multiscale_2015()\n",
    "    atlas_filename = multiscale.scale064\n",
    "\n",
    "    # initialize masker object\n",
    "    masker = NiftiLabelsMasker(labels_img=atlas_filename,\n",
    "                               standardize=True,\n",
    "                               memory='nilearn_cache',\n",
    "                               verbose=0)\n",
    "\n",
    "    # initialize correlation measure\n",
    "    correlation_measure = ConnectivityMeasure(kind='correlation', vectorize=True,\n",
    "                                             discard_diagonal=True)\n",
    "    \n",
    "    X_features_cm = []\n",
    "    \n",
    "    for i,sub in enumerate(fmri_filenames):\n",
    "            # extract the timeseries from the ROIs in the atlas\n",
    "            time_series = masker.fit_transform(sub)\n",
    "            # create a region x region correlation matrix\n",
    "            correlation_matrix = correlation_measure.fit_transform([time_series])[0]\n",
    "            # add to our container\n",
    "            X_features_cm.append(correlation_matrix)\n",
    "            # keep track of status\n",
    "            print('finished extracting %s of %s'%(i+1,len(fmri_filenames)))\n",
    "            \n",
    "    # Dimensionality reduction of features with PCA\n",
    "    \n",
    "    \n",
    "    return X_features_cm\n",
    "X_features_cm = prepare_data()\n",
    "    "
   ]
  },
  {
   "cell_type": "code",
   "execution_count": 23,
   "metadata": {},
   "outputs": [
    {
     "name": "stdout",
     "output_type": "stream",
     "text": [
      "['/home/titir/nilearn_data/ABIDE_pcp/cpac/nofilt_noglobal/Pitt_0050003_func_preproc.nii.gz']\n",
      "0\n",
      "/home/titir/nilearn_data/ABIDE_pcp/cpac/nofilt_noglobal/Pitt_0050003_func_preproc.nii.gz\n"
     ]
    },
    {
     "name": "stderr",
     "output_type": "stream",
     "text": [
      "/usr/lib/python3/dist-packages/numpy/lib/npyio.py:2358: VisibleDeprecationWarning: Reading unicode strings without specifying the encoding argument is deprecated. Set the encoding, use None for the system default.\n",
      "  output = genfromtxt(fname, **kwargs)\n"
     ]
    }
   ],
   "source": [
    "abide = datasets.fetch_abide_pcp(\n",
    "                                 pipeline = \"cpac\",\n",
    "                                 quality_checked = True, \n",
    "                                 n_subjects=1)\n",
    "# make list of filenames\n",
    "fmri_filenames_t = abide.func_preproc\n",
    "print(fmri_filenames_t)\n",
    "for i,sub in enumerate(fmri_filenames_t):\n",
    "    print(i)\n",
    "    print(sub)"
   ]
  },
  {
   "cell_type": "code",
   "execution_count": 70,
   "metadata": {},
   "outputs": [],
   "source": [
    "X_features_cm = list([list(element) for element in X_features_cm])"
   ]
  },
  {
   "cell_type": "code",
   "execution_count": 71,
   "metadata": {},
   "outputs": [
    {
     "name": "stdout",
     "output_type": "stream",
     "text": [
      "2016\n",
      "2016\n",
      "2016\n",
      "2016\n",
      "2016\n",
      "2016\n",
      "2016\n",
      "2016\n",
      "2016\n",
      "2016\n",
      "2016\n",
      "2016\n",
      "2016\n",
      "2016\n",
      "2016\n",
      "2016\n",
      "2016\n",
      "2016\n",
      "2016\n",
      "2016\n",
      "2016\n",
      "2016\n",
      "2016\n",
      "2016\n",
      "2016\n",
      "2016\n",
      "2016\n",
      "2016\n",
      "2016\n",
      "2016\n",
      "1770\n",
      "2016\n",
      "2016\n",
      "1830\n",
      "2016\n",
      "2016\n",
      "2016\n",
      "2016\n",
      "2016\n",
      "2016\n",
      "2016\n",
      "2016\n",
      "2016\n",
      "2016\n",
      "2016\n",
      "2016\n",
      "2016\n",
      "2016\n",
      "2016\n",
      "2016\n",
      "2016\n",
      "2016\n",
      "2016\n",
      "2016\n",
      "1953\n",
      "2016\n",
      "2016\n",
      "2016\n"
     ]
    }
   ],
   "source": [
    "for arr in X_features_cm:\n",
    "    print(len(arr))"
   ]
  },
  {
   "cell_type": "markdown",
   "metadata": {},
   "source": [
    "### Running SVM on ABIDE 2 dataset"
   ]
  },
  {
   "cell_type": "code",
   "execution_count": 88,
   "metadata": {},
   "outputs": [],
   "source": [
    "import datetime\n",
    "import random\n",
    "from sklearn import svm\n",
    "from sklearn.model_selection import train_test_split\n",
    "random.seed(datetime.datetime.now())\n",
    "\n",
    "newX = []\n",
    "newY = []\n",
    "for i in range(len(X)):\n",
    "    if len(X[i]) == 2016:\n",
    "        newX.append(X[i])\n",
    "        newY.append(y[i])\n",
    "#print(len(newX))\n",
    "\n",
    "    \n"
   ]
  },
  {
   "cell_type": "code",
   "execution_count": 128,
   "metadata": {},
   "outputs": [
    {
     "name": "stdout",
     "output_type": "stream",
     "text": [
      "Running PCA...\n"
     ]
    }
   ],
   "source": [
    "from sklearn.decomposition import PCA\n",
    "print(\"Running PCA...\")\n",
    "pca = PCA(0.99).fit(newX)\n",
    "newX_pca =  pca.transform(newX)"
   ]
  },
  {
   "cell_type": "code",
   "execution_count": 134,
   "metadata": {},
   "outputs": [],
   "source": [
    "trainset_X, testset_X, trainset_Y, testset_Y = train_test_split(newX, newY, test_size=0.3, random_state=103)"
   ]
  },
  {
   "cell_type": "code",
   "execution_count": 135,
   "metadata": {},
   "outputs": [
    {
     "name": "stdout",
     "output_type": "stream",
     "text": [
      "Accuracy 0.5294117647058824\n",
      "Precision 0.5263157894736842\n",
      "Recall 0.5882352941176471\n"
     ]
    }
   ],
   "source": [
    "clsf = svm.SVC(kernel=\"linear\", C=2)\n",
    "clsf.fit(trainset_X, trainset_Y)\n",
    "\n",
    "y_pred = clsf.predict(testset_X)\n",
    "\n",
    "from sklearn import metrics\n",
    "\n",
    "accuracy = metrics.accuracy_score(testset_Y, y_pred)\n",
    "precision = metrics.precision_score(testset_Y, y_pred)\n",
    "recall = metrics.recall_score(testset_Y, y_pred)\n",
    "\n",
    "print(\"Accuracy\", accuracy)\n",
    "print(\"Precision\", precision)\n",
    "print(\"Recall\", recall)"
   ]
  },
  {
   "cell_type": "code",
   "execution_count": 144,
   "metadata": {},
   "outputs": [
    {
     "name": "stdout",
     "output_type": "stream",
     "text": [
      "Accuracy 0.6176470588235294\n",
      "Precision 0.6\n",
      "Recall 0.7058823529411765\n",
      "[[12  5]\n",
      " [ 8  9]]\n"
     ]
    },
    {
     "name": "stderr",
     "output_type": "stream",
     "text": [
      "/home/titir/.local/lib/python3.8/site-packages/sklearn/utils/deprecation.py:87: FutureWarning: Function plot_confusion_matrix is deprecated; Function `plot_confusion_matrix` is deprecated in 1.0 and will be removed in 1.2. Use one of the class methods: ConfusionMatrixDisplay.from_predictions or ConfusionMatrixDisplay.from_estimator.\n",
      "  warnings.warn(msg, category=FutureWarning)\n"
     ]
    },
    {
     "data": {
      "text/plain": [
       "<sklearn.metrics._plot.confusion_matrix.ConfusionMatrixDisplay at 0x7f58cc7d7af0>"
      ]
     },
     "execution_count": 144,
     "metadata": {},
     "output_type": "execute_result"
    },
    {
     "data": {
      "image/png": "[encoded data removed]",
      "text/plain": [
       "<Figure size 432x288 with 2 Axes>"
      ]
     },
     "metadata": {
      "needs_background": "light"
     },
     "output_type": "display_data"
    }
   ],
   "source": [
    "clsf = svm.SVC(kernel=\"sigmoid\", C=3)  ## C=3 gave higher values of accuracy!\n",
    "clsf.fit(trainset_X, trainset_Y)\n",
    "\n",
    "y_pred = clsf.predict(testset_X)\n",
    "\n",
    "from sklearn import metrics\n",
    "\n",
    "accuracy = metrics.accuracy_score(testset_Y, y_pred)\n",
    "precision = metrics.precision_score(testset_Y, y_pred)\n",
    "recall = metrics.recall_score(testset_Y, y_pred)\n",
    "\n",
    "print(\"Accuracy\", accuracy)\n",
    "print(\"Precision\", precision)\n",
    "print(\"Recall\", recall)\n",
    "\n",
    "\n",
    "from sklearn.metrics import confusion_matrix, plot_confusion_matrix\n",
    "print(str(confusion_matrix(testset_Y, y_pred)))\n",
    "plot_confusion_matrix(clsf, testset_X, testset_Y)"
   ]
  },
  {
   "cell_type": "code",
   "execution_count": 138,
   "metadata": {},
   "outputs": [
    {
     "name": "stdout",
     "output_type": "stream",
     "text": [
      "Accuracy 0.47058823529411764\n",
      "Precision 0.47058823529411764\n",
      "Recall 0.47058823529411764\n"
     ]
    }
   ],
   "source": [
    "from sklearn.svm import LinearSVC\n",
    "clsf = LinearSVC(dual=False, random_state=0, penalty=\"l2\", max_iter=10000)\n",
    "clsf.fit(trainset_X, trainset_Y)\n",
    "\n",
    "y_pred = clsf.predict(testset_X)\n",
    "\n",
    "from sklearn import metrics\n",
    "\n",
    "accuracy = metrics.accuracy_score(testset_Y, y_pred)\n",
    "precision = metrics.precision_score(testset_Y, y_pred)\n",
    "recall = metrics.recall_score(testset_Y, y_pred)\n",
    "\n",
    "print(\"Accuracy\", accuracy)\n",
    "print(\"Precision\", precision)\n",
    "print(\"Recall\", recall)"
   ]
  },
  {
   "cell_type": "markdown",
   "metadata": {},
   "source": [
    "### Running Logistic Regression on ABIDE 2 dataset"
   ]
  },
  {
   "cell_type": "code",
   "execution_count": 143,
   "metadata": {},
   "outputs": [
    {
     "name": "stdout",
     "output_type": "stream",
     "text": [
      "Accuracy 0.5588235294117647\n",
      "Precision 0.5625\n",
      "Recall 0.5294117647058824\n",
      "[[ 9  8]\n",
      " [ 7 10]]\n"
     ]
    },
    {
     "name": "stderr",
     "output_type": "stream",
     "text": [
      "/home/titir/.local/lib/python3.8/site-packages/sklearn/utils/deprecation.py:87: FutureWarning: Function plot_confusion_matrix is deprecated; Function `plot_confusion_matrix` is deprecated in 1.0 and will be removed in 1.2. Use one of the class methods: ConfusionMatrixDisplay.from_predictions or ConfusionMatrixDisplay.from_estimator.\n",
      "  warnings.warn(msg, category=FutureWarning)\n"
     ]
    },
    {
     "data": {
      "text/plain": [
       "<sklearn.metrics._plot.confusion_matrix.ConfusionMatrixDisplay at 0x7f58cc7c3550>"
      ]
     },
     "execution_count": 143,
     "metadata": {},
     "output_type": "execute_result"
    },
    {
     "data": {
      "image/png": "[encoded data removed]",
      "text/plain": [
       "<Figure size 432x288 with 2 Axes>"
      ]
     },
     "metadata": {
      "needs_background": "light"
     },
     "output_type": "display_data"
    }
   ],
   "source": [
    "from sklearn.linear_model import LogisticRegression\n",
    "\n",
    "clsf = LogisticRegression(penalty='none')\n",
    "clsf.fit(trainset_X, trainset_Y)\n",
    "\n",
    "y_pred = clsf.predict(testset_X)\n",
    "\n",
    "from sklearn import metrics\n",
    "\n",
    "accuracy = metrics.accuracy_score(testset_Y, y_pred)\n",
    "precision = metrics.precision_score(testset_Y, y_pred)\n",
    "recall = metrics.recall_score(testset_Y, y_pred)\n",
    "\n",
    "print(\"Accuracy\", accuracy)\n",
    "print(\"Precision\", precision)\n",
    "print(\"Recall\", recall)\n",
    "\n",
    "\n",
    "from sklearn.metrics import confusion_matrix, plot_confusion_matrix\n",
    "print(str(confusion_matrix(testset_Y, y_pred)))\n",
    "plot_confusion_matrix(clsf, testset_X, testset_Y)"
   ]
  },
  {
   "cell_type": "code",
   "execution_count": null,
   "metadata": {},
   "outputs": [],
   "source": [
    "import matplotlib.pyplot as plt\n",
    "import seaborn as sn\n"
   ]
  },
  {
   "cell_type": "markdown",
   "metadata": {},
   "source": [
    "### Running a Random Forest Classifier"
   ]
  },
  {
   "cell_type": "code",
   "execution_count": 140,
   "metadata": {},
   "outputs": [
    {
     "name": "stdout",
     "output_type": "stream",
     "text": [
      "Accuracy 0.5294117647058824\n",
      "Precision 0.5294117647058824\n",
      "Recall 0.5294117647058824\n"
     ]
    }
   ],
   "source": [
    "from sklearn.ensemble import RandomForestClassifier \n",
    "\n",
    "clsf = RandomForestClassifier()\n",
    "clsf.fit(trainset_X, trainset_Y)\n",
    "\n",
    "y_pred = clsf.predict(testset_X)\n",
    "\n",
    "from sklearn import metrics\n",
    "\n",
    "accuracy = metrics.accuracy_score(testset_Y, y_pred)\n",
    "precision = metrics.precision_score(testset_Y, y_pred)\n",
    "recall = metrics.recall_score(testset_Y, y_pred)\n",
    "\n",
    "print(\"Accuracy\", accuracy)\n",
    "print(\"Precision\", precision)\n",
    "print(\"Recall\", recall)"
   ]
  },
  {
   "cell_type": "code",
   "execution_count": 141,
   "metadata": {},
   "outputs": [
    {
     "name": "stdout",
     "output_type": "stream",
     "text": [
      "Accuracy 0.4411764705882353\n",
      "Precision 0.4166666666666667\n",
      "Recall 0.29411764705882354\n"
     ]
    }
   ],
   "source": [
    "from sklearn.tree import DecisionTreeClassifier \n",
    "\n",
    "clsf = DecisionTreeClassifier() \n",
    "clsf.fit(trainset_X, trainset_Y)\n",
    "\n",
    "y_pred = clsf.predict(testset_X)\n",
    "\n",
    "from sklearn import metrics\n",
    "\n",
    "accuracy = metrics.accuracy_score(testset_Y, y_pred)\n",
    "precision = metrics.precision_score(testset_Y, y_pred)\n",
    "recall = metrics.recall_score(testset_Y, y_pred)\n",
    "\n",
    "print(\"Accuracy\", accuracy)\n",
    "print(\"Precision\", precision)\n",
    "print(\"Recall\", recall)"
   ]
  },
  {
   "cell_type": "markdown",
   "metadata": {},
   "source": [
    "### Naive Bayes"
   ]
  },
  {
   "cell_type": "code",
   "execution_count": 154,
   "metadata": {},
   "outputs": [
    {
     "name": "stdout",
     "output_type": "stream",
     "text": [
      "Accuracy 0.6470588235294118\n",
      "Precision 0.6190476190476191\n",
      "Recall 0.7647058823529411\n"
     ]
    },
    {
     "name": "stderr",
     "output_type": "stream",
     "text": [
      "/home/titir/.local/lib/python3.8/site-packages/sklearn/utils/deprecation.py:87: FutureWarning: Function plot_confusion_matrix is deprecated; Function `plot_confusion_matrix` is deprecated in 1.0 and will be removed in 1.2. Use one of the class methods: ConfusionMatrixDisplay.from_predictions or ConfusionMatrixDisplay.from_estimator.\n",
      "  warnings.warn(msg, category=FutureWarning)\n"
     ]
    },
    {
     "data": {
      "text/plain": [
       "<sklearn.metrics._plot.confusion_matrix.ConfusionMatrixDisplay at 0x7f58cc7cd190>"
      ]
     },
     "execution_count": 154,
     "metadata": {},
     "output_type": "execute_result"
    },
    {
     "data": {
      "image/png": "[encoded data removed]",
      "text/plain": [
       "<Figure size 432x288 with 2 Axes>"
      ]
     },
     "metadata": {
      "needs_background": "light"
     },
     "output_type": "display_data"
    }
   ],
   "source": [
    "from sklearn.naive_bayes import GaussianNB, MultinomialNB, ComplementNB, BernoulliNB, CategoricalNB\n",
    "clsf = BernoulliNB() ## gives best accuracy of all the different naive bayes approaches\n",
    "clsf.fit(trainset_X, trainset_Y)\n",
    "\n",
    "y_pred = clsf.predict(testset_X)\n",
    "\n",
    "from sklearn import metrics\n",
    "\n",
    "accuracy = metrics.accuracy_score(testset_Y, y_pred)\n",
    "precision = metrics.precision_score(testset_Y, y_pred)\n",
    "recall = metrics.recall_score(testset_Y, y_pred)\n",
    "\n",
    "print(\"Accuracy\", accuracy)\n",
    "print(\"Precision\", precision)\n",
    "print(\"Recall\", recall)\n",
    "\n",
    "plot_confusion_matrix(clsf, testset_X, testset_Y)"
   ]
  },
  {
   "cell_type": "markdown",
   "metadata": {},
   "source": [
    "### KNN"
   ]
  },
  {
   "cell_type": "code",
   "execution_count": 161,
   "metadata": {},
   "outputs": [
    {
     "name": "stdout",
     "output_type": "stream",
     "text": [
      "Accuracy 0.5294117647058824\n",
      "Precision 0.5384615384615384\n",
      "Recall 0.4117647058823529\n"
     ]
    }
   ],
   "source": [
    "from sklearn.neighbors import KNeighborsClassifier\n",
    "from math import sqrt\n",
    "\n",
    "k = int(sqrt(len(trainset_X)))\n",
    "clsf = KNeighborsClassifier(n_neighbors=14) \n",
    "clsf.fit(trainset_X, trainset_Y)\n",
    "\n",
    "y_pred = clsf.predict(testset_X)\n",
    "\n",
    "from sklearn import metrics\n",
    "\n",
    "accuracy = metrics.accuracy_score(testset_Y, y_pred)\n",
    "precision = metrics.precision_score(testset_Y, y_pred)\n",
    "recall = metrics.recall_score(testset_Y, y_pred)\n",
    "\n",
    "print(\"Accuracy\", accuracy)\n",
    "print(\"Precision\", precision)\n",
    "print(\"Recall\", recall)"
   ]
  },
  {
   "cell_type": "markdown",
   "metadata": {},
   "source": [
    "### Trying a grid search with KNN "
   ]
  },
  {
   "cell_type": "code",
   "execution_count": 184,
   "metadata": {},
   "outputs": [],
   "source": [
    "from sklearn.model_selection import GridSearchCV\n",
    "\n",
    "k = [i for i in range(1, 15, 2)]\n",
    "grid_params = {\n",
    "    'n_neighbors': k,\n",
    "    'weights': ['uniform', 'distance'] ,\n",
    "    'metric': ['minkowski', 'manhattan'] \n",
    "}\n",
    "\n",
    "gs = GridSearchCV(KNeighborsClassifier(),\n",
    "        grid_params,\n",
    "        scoring='accuracy',\n",
    "        )\n",
    "\n",
    "gs_results = gs.fit(trainset_X, trainset_Y)"
   ]
  },
  {
   "cell_type": "code",
   "execution_count": 185,
   "metadata": {},
   "outputs": [
    {
     "data": {
      "text/plain": [
       "0.5966666666666667"
      ]
     },
     "execution_count": 185,
     "metadata": {},
     "output_type": "execute_result"
    }
   ],
   "source": [
    "gs_results.best_score_\n"
   ]
  },
  {
   "cell_type": "code",
   "execution_count": 186,
   "metadata": {},
   "outputs": [
    {
     "data": {
      "text/plain": [
       "KNeighborsClassifier(metric='manhattan', n_neighbors=1)"
      ]
     },
     "execution_count": 186,
     "metadata": {},
     "output_type": "execute_result"
    }
   ],
   "source": [
    "gs_results.best_estimator_"
   ]
  },
  {
   "cell_type": "code",
   "execution_count": 187,
   "metadata": {},
   "outputs": [
    {
     "data": {
      "text/plain": [
       "{'metric': 'manhattan', 'n_neighbors': 1, 'weights': 'uniform'}"
      ]
     },
     "execution_count": 187,
     "metadata": {},
     "output_type": "execute_result"
    }
   ],
   "source": [
    "gs_results.best_params_"
   ]
  },
  {
   "cell_type": "code",
   "execution_count": null,
   "metadata": {},
   "outputs": [],
   "source": []
  }
 ],
 "metadata": {
  "kernelspec": {
   "display_name": "Python 3",
   "language": "python",
   "name": "python3"
  },
  "language_info": {
   "codemirror_mode": {
    "name": "ipython",
    "version": 3
   },
   "file_extension": ".py",
   "mimetype": "text/x-python",
   "name": "python",
   "nbconvert_exporter": "python",
   "pygments_lexer": "ipython3",
   "version": "3.8.10"
  }
 },
 "nbformat": 4,
 "nbformat_minor": 2
}
